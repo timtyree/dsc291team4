{
 "cells": [
  {
   "cell_type": "markdown",
   "metadata": {},
   "source": [
    "# Computing eigenvector standards\n",
    "Tim Tyree<br>\n",
    "5.15.2020"
   ]
  },
  {
   "cell_type": "code",
   "execution_count": 4,
   "metadata": {
    "ExecuteTime": {
     "end_time": "2020-05-15T20:57:33.544403Z",
     "start_time": "2020-05-15T20:57:32.436304Z"
    }
   },
   "outputs": [],
   "source": [
    "#preamble for dev ipynb\n",
    "\n",
    "#pylab\n",
    "%matplotlib inline\n",
    "import numpy as np, pandas as pd, matplotlib.pyplot as plt\n",
    "from pylab import imshow, show\n",
    "\n",
    "#use cuda via numba\n",
    "from numba import jit, njit, vectorize, cuda, uint32, f8, uint8\n",
    "\n",
    "#automate the boring stuff\n",
    "from IPython import utils\n",
    "import time, os, sys, re\n",
    "beep = lambda x: os.system(\"echo -n '\\\\a';sleep 0.2;\" * x)\n",
    "if not 'nb_dir' in globals():\n",
    "    nb_dir = os.getcwd()\n",
    "from lib import *\n",
    "#%autocall 1\n",
    "%load_ext autoreload\n",
    "%autoreload 2\n",
    "\n",
    "\n",
    "#nota bene: you can increase the ram allocated to the virtual machine running jupyter with \n",
    "#$ jupyter notebook --NotebookApp.max_buffer_size=your_value"
   ]
  },
  {
   "cell_type": "markdown",
   "metadata": {},
   "source": [
    "# import data for northern plains"
   ]
  },
  {
   "cell_type": "code",
   "execution_count": 1,
   "metadata": {
    "ExecuteTime": {
     "end_time": "2020-05-15T21:46:12.080833Z",
     "start_time": "2020-05-15T21:46:12.078081Z"
    }
   },
   "outputs": [],
   "source": [
    "# state = 'IA'\n",
    "# data_dir = 'Data'\n",
    "# filename='STAT_%s.pickle'%state\n",
    "# command=\"curl https://mas-dse-open.s3.amazonaws.com/Weather/by_state_2/%s.gz > %s/%s.gz\"%(filename,data_dir,filename)\n",
    "# print(command)\n",
    "# !$command\n",
    "\n",
    "# command=\"gunzip %s/%s.gz\"%(data_dir,filename)\n",
    "# print(command)\n",
    "# !$command"
   ]
  },
  {
   "cell_type": "code",
   "execution_count": null,
   "metadata": {
    "ExecuteTime": {
     "end_time": "2020-05-15T21:00:40.130418Z",
     "start_time": "2020-05-15T21:00:39.764509Z"
    }
   },
   "outputs": [],
   "source": [
    "data_dir = '../DataHW3'"
   ]
  },
  {
   "cell_type": "code",
   "execution_count": 27,
   "metadata": {
    "ExecuteTime": {
     "end_time": "2020-05-15T21:03:38.977246Z",
     "start_time": "2020-05-15T21:03:38.915846Z"
    }
   },
   "outputs": [],
   "source": [
    "df, keys = pd.read_pickle(f'Data/{filename}')\n"
   ]
  },
  {
   "cell_type": "code",
   "execution_count": 29,
   "metadata": {
    "ExecuteTime": {
     "end_time": "2020-05-15T21:03:48.609758Z",
     "start_time": "2020-05-15T21:03:48.578182Z"
    }
   },
   "outputs": [
    {
     "data": {
      "text/plain": [
       "[('SortedVals',\n",
       "  'Sample of values',\n",
       "  'vector whose length varies between measurements'),\n",
       " ('UnDef',\n",
       "  'sample of number of undefs per row',\n",
       "  'vector whose length varies between measurements'),\n",
       " ('mean', 'mean value', ()),\n",
       " ('std', 'std', ()),\n",
       " ('low100', 'bottom 1%', ()),\n",
       " ('high100', 'top 1%', ()),\n",
       " ('low1000', 'bottom 0.1%', ()),\n",
       " ('high1000', 'top 0.1%', ()),\n",
       " ('E', 'Sum of values per day', (365,)),\n",
       " ('NE', 'count of values per day', (365,)),\n",
       " ('Mean', 'E/NE', (365,)),\n",
       " ('O', 'Sum of outer products', (365, 365)),\n",
       " ('NO', 'counts for outer products', (365, 365)),\n",
       " ('Cov', 'O/NO', (365, 365)),\n",
       " ('Var', 'The variance per day = diagonal of Cov', (365,)),\n",
       " ('eigval', 'PCA eigen-values', (365,)),\n",
       " ('eigvec', 'PCA eigen-vectors', (365, 365))]"
      ]
     },
     "execution_count": 29,
     "metadata": {},
     "output_type": "execute_result"
    }
   ],
   "source": [
    "keys"
   ]
  },
  {
   "cell_type": "code",
   "execution_count": 41,
   "metadata": {
    "ExecuteTime": {
     "end_time": "2020-05-15T21:06:38.386676Z",
     "start_time": "2020-05-15T21:06:38.179947Z"
    }
   },
   "outputs": [
    {
     "data": {
      "text/plain": [
       "[<matplotlib.lines.Line2D at 0x11feda4e0>]"
      ]
     },
     "execution_count": 41,
     "metadata": {},
     "output_type": "execute_result"
    },
    {
     "data": {
      "image/png": "[encoded data removed]",
      "text/plain": [
       "<Figure size 432x288 with 1 Axes>"
      ]
     },
     "metadata": {
      "needs_background": "light"
     },
     "output_type": "display_data"
    }
   ],
   "source": [
    "plt.plot(df['SNWD_s20']['SortedVals'])"
   ]
  },
  {
   "cell_type": "markdown",
   "metadata": {},
   "source": [
    "# "
   ]
  }
 ],
 "metadata": {
  "kernelspec": {
   "display_name": "Python 3",
   "language": "python",
   "name": "python3"
  },
  "language_info": {
   "codemirror_mode": {
    "name": "ipython",
    "version": 3
   },
   "file_extension": ".py",
   "mimetype": "text/x-python",
   "name": "python",
   "nbconvert_exporter": "python",
   "pygments_lexer": "ipython3",
   "version": "3.7.3"
  },
  "varInspector": {
   "cols": {
    "lenName": 16,
    "lenType": 16,
    "lenVar": 40
   },
   "kernels_config": {
    "python": {
     "delete_cmd_postfix": "",
     "delete_cmd_prefix": "del ",
     "library": "var_list.py",
     "varRefreshCmd": "print(var_dic_list())"
    },
    "r": {
     "delete_cmd_postfix": ") ",
     "delete_cmd_prefix": "rm(",
     "library": "var_list.r",
     "varRefreshCmd": "cat(var_dic_list()) "
    }
   },
   "types_to_exclude": [
    "module",
    "function",
    "builtin_function_or_method",
    "instance",
    "_Feature"
   ],
   "window_display": false
  }
 },
 "nbformat": 4,
 "nbformat_minor": 2
}
