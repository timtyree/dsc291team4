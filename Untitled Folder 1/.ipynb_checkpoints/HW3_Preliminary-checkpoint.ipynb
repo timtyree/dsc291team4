{
 "cells": [
  {
   "cell_type": "markdown",
   "metadata": {},
   "source": [
    "# HW3 Preliminary Report\n",
    "Team 4 - DSC291"
   ]
  },
  {
   "cell_type": "markdown",
   "metadata": {},
   "source": [
    "## a proposed course of action\n",
    "- step 1: for NY, as yoav did in lecture, do pca of snowfall, plot/interpret the 4 smallest eigenvalues, get correlation coefficient \n",
    "    - run section 3 of http://localhost:8889/notebooks/Public-DSC291/notebooks/Section2-PCA/Section2-Weather-PCA_PART1/2.PCA_computation%20per%20state.ipynb#Computing%20the%20mean%20together%20with%20the%20covariance\n",
    "    - ^this generates ../Data/Weather/STAT_NY.pickle.gz and ../Data/Weather/STAT_NY.pickle\n",
    "- step 2: repeat 1 with Ohio and Alaska and California.\n",
    "    -  fun fact: i did an internship for the usgs in alaska. there are some funky glaciers are up there\n",
    "- step 3: store the features from step 1 & 2 in a parquet file\n",
    "- step 4: consider computing ^those same for all weather stations        \n",
    "- step 5: if step 4 was successful, make beautiful visualizations and graphs"
   ]
  },
  {
   "cell_type": "markdown",
   "metadata": {},
   "source": [
    "## __nota bene 1__: (nearly all of?) the us states are available without any alteration to the code other than NY$\\rightarrow$    \n",
    " ```\n",
    " AB,AL,AR,AZ,BC,CA,CO,CT,DC,DE,FL,GA,IA,ID,IL,IN,KS,KY,LA,MA,MB,MD,ME,MI,MN,MO,MS,MT,NaN,NB,NC,ND,NE,NH,NJ,NM,NV,NY,OH,OK,ON,OR,PA,QC,RI,SC,SD,SK,TN,TX,UT,VA,VT,WA,WI,WV,WY\n",
    " ```"
   ]
  },
  {
   "cell_type": "markdown",
   "metadata": {},
   "source": [
    "## nota bene 2: I generated the NY results locally on my lab top in about 10 minutes"
   ]
  },
  {
   "cell_type": "code",
   "execution_count": null,
   "metadata": {},
   "outputs": [],
   "source": []
  }
 ],
 "metadata": {
  "kernelspec": {
   "display_name": "Python 3",
   "language": "python",
   "name": "python3"
  },
  "language_info": {
   "codemirror_mode": {
    "name": "ipython",
    "version": 3
   },
   "file_extension": ".py",
   "mimetype": "text/x-python",
   "name": "python",
   "nbconvert_exporter": "python",
   "pygments_lexer": "ipython3",
   "version": "3.7.3"
  },
  "toc": {
   "base_numbering": 1,
   "nav_menu": {},
   "number_sections": true,
   "sideBar": true,
   "skip_h1_title": false,
   "title_cell": "Table of Contents",
   "title_sidebar": "Contents",
   "toc_cell": false,
   "toc_position": {},
   "toc_section_display": true,
   "toc_window_display": false
  },
  "varInspector": {
   "cols": {
    "lenName": 16,
    "lenType": 16,
    "lenVar": 40
   },
   "kernels_config": {
    "python": {
     "delete_cmd_postfix": "",
     "delete_cmd_prefix": "del ",
     "library": "var_list.py",
     "varRefreshCmd": "print(var_dic_list())"
    },
    "r": {
     "delete_cmd_postfix": ") ",
     "delete_cmd_prefix": "rm(",
     "library": "var_list.r",
     "varRefreshCmd": "cat(var_dic_list()) "
    }
   },
   "types_to_exclude": [
    "module",
    "function",
    "builtin_function_or_method",
    "instance",
    "_Feature"
   ],
   "window_display": false
  }
 },
 "nbformat": 4,
 "nbformat_minor": 2
}
