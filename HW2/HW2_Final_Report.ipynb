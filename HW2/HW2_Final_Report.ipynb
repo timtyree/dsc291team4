{
 "cells": [
  {
   "cell_type": "markdown",
   "metadata": {
    "slideshow": {
     "slide_type": "skip"
    }
   },
   "source": [
    "### Team 4: Purisa Jasmine Simmons, Timothy Tyree, Ria Agarwal, Ayon\n",
    "### Professor Yoav Freund \n",
    "### DSC 291 \n",
    "### Due: Tues. April 21, 2020\n"
   ]
  },
  {
   "cell_type": "code",
   "execution_count": 4,
   "metadata": {
    "slideshow": {
     "slide_type": "skip"
    }
   },
   "outputs": [
    {
     "name": "stdout",
     "output_type": "stream",
     "text": [
      "Populating the interactive namespace from numpy and matplotlib\n"
     ]
    }
   ],
   "source": [
    "%pylab inline\n",
    "import os, sys, shutil, time\n",
    "import pandas as pd, scipy.stats as stats\n",
    "from numpy import *\n",
    "from matplotlib.backends.backend_pdf import PdfPages\n",
    "from os.path import isfile,isdir\n",
    "from os import mkdir\n",
    "from lib.measureRandomAccess import measureRandomAccess\n",
    "from lib.PlotTime import PlotTime\n",
    "\n",
    "\n",
    "if 'nb_dir' not in globals():\n",
    "    nb_dir = os.getcwd()"
   ]
  },
  {
   "cell_type": "code",
   "execution_count": null,
   "metadata": {
    "slideshow": {
     "slide_type": "skip"
    }
   },
   "outputs": [],
   "source": []
  },
  {
   "cell_type": "markdown",
   "metadata": {
    "slideshow": {
     "slide_type": "slide"
    }
   },
   "source": [
    "# Final Report for HW2"
   ]
  },
  {
   "cell_type": "markdown",
   "metadata": {
    "slideshow": {
     "slide_type": "slide"
    }
   },
   "source": [
    "## Question: \n",
    "\n",
    "How does the performance of random-poke.py relate to the size of the L3 cache in the ec2 instance?\n"
   ]
  },
  {
   "cell_type": "markdown",
   "metadata": {
    "slideshow": {
     "slide_type": "slide"
    }
   },
   "source": [
    "## Description of Experiment:"
   ]
  },
  {
   "cell_type": "markdown",
   "metadata": {
    "slideshow": {
     "slide_type": "slide"
    }
   },
   "source": [
    "We will be measuring performance of the t3.small and t3a.small EC2 instances in terms of their latency when performing random-poke.py with varying block sizes.  In particular, t3.small has an L3 cache size of 33MB and t3a.small has an L3 cache size of 64MB. To keep other variables constant as much as possible, these EC2 instances were chosen because they each have 2 cores and 2 GiB of memory. \n",
    "\n",
    "Our experiment will consist of choosing a single hour during a high load time and a single hour during a low load time to run random-poke.py with varying block sizes each 1,000 times on both a t3.small EC2 instance and a t3a.small EC2 instance. The block sizes will range from size 10MB to 70MB, and will increase by 10MB at each step. We will compute the mean and standard deviations of the latency times for each instance on the varying block sizes, once per minute, over the course of an hour. We will then compare the means and standard deviations of the latency times between the two EC2 instances in order to see how the performance of random-poke.py differs on these instances of differing L3 cache sizes.\n",
    "\n",
    "We will use the Kolmagorov-Smirnov test, a statistical p-test, to test the following hypotheses: \n",
    "\n",
    "Null Hypothesis: L3 cache sizes have no effect on the performance of ec2 clusters for block sizes = 10, 20, 30, 40, 60. \n",
    "Alternate Hypothesis: Higher cache size leads to lower latency times (better performance) depending on the block size.\n",
    "Qualitative Hypothesis: We expect t3.small and t3a.small to perform similarly when the given block size fits within both of their caches. Since t3a.small has a larger cache size than t3.small, on block sizes which are larger than the L3 cache of t3.small but smaller than the L3 cache of t3a.small, we expect t3a.small to outperform t3.small.  \n",
    "Hypothesis Testing: In particular, a p-test will be done separately for each block size. We will report the block sizes which have significant differences in their latency times, and conclude with how EC2 instances' performance relates to the L3 cache size.\n"
   ]
  },
  {
   "cell_type": "markdown",
   "metadata": {
    "slideshow": {
     "slide_type": "slide"
    }
   },
   "source": [
    "## Results\n",
    "### //Graphs\n",
    "### //Statistical Test\n",
    "\n"
   ]
  },
  {
   "cell_type": "code",
   "execution_count": 5,
   "metadata": {
    "slideshow": {
     "slide_type": "skip"
    }
   },
   "outputs": [
    {
     "ename": "NameError",
     "evalue": "name 'm_list' is not defined",
     "output_type": "error",
     "traceback": [
      "\u001b[0;31m---------------------------------------------------------------------------\u001b[0m",
      "\u001b[0;31mNameError\u001b[0m                                 Traceback (most recent call last)",
      "\u001b[0;32m<ipython-input-5-13261736758d>\u001b[0m in \u001b[0;36m<module>\u001b[0;34m\u001b[0m\n\u001b[1;32m      9\u001b[0m \u001b[0mfig\u001b[0m\u001b[0;34m.\u001b[0m\u001b[0mset_size_inches\u001b[0m\u001b[0;34m(\u001b[0m\u001b[0;36m18.5\u001b[0m\u001b[0;34m,\u001b[0m\u001b[0;36m10.5\u001b[0m\u001b[0;34m)\u001b[0m\u001b[0;34m\u001b[0m\u001b[0;34m\u001b[0m\u001b[0m\n\u001b[1;32m     10\u001b[0m \u001b[0;34m\u001b[0m\u001b[0m\n\u001b[0;32m---> 11\u001b[0;31m \u001b[0;32mfor\u001b[0m \u001b[0mm_i\u001b[0m \u001b[0;32min\u001b[0m \u001b[0mrange\u001b[0m\u001b[0;34m(\u001b[0m\u001b[0mlen\u001b[0m\u001b[0;34m(\u001b[0m\u001b[0mm_list\u001b[0m\u001b[0;34m)\u001b[0m\u001b[0;34m)\u001b[0m\u001b[0;34m:\u001b[0m\u001b[0;34m\u001b[0m\u001b[0;34m\u001b[0m\u001b[0m\n\u001b[0m\u001b[1;32m     12\u001b[0m     \u001b[0mColor\u001b[0m\u001b[0;34m=\u001b[0m\u001b[0mColors\u001b[0m\u001b[0;34m[\u001b[0m\u001b[0mm_i\u001b[0m \u001b[0;34m%\u001b[0m \u001b[0mlen\u001b[0m\u001b[0;34m(\u001b[0m\u001b[0mColors\u001b[0m\u001b[0;34m)\u001b[0m\u001b[0;34m]\u001b[0m\u001b[0;34m\u001b[0m\u001b[0;34m\u001b[0m\u001b[0m\n\u001b[1;32m     13\u001b[0m     PlotTime(TMem[m_i],_mean[m_i],_std[m_i],\\\n",
      "\u001b[0;31mNameError\u001b[0m: name 'm_list' is not defined"
     ]
    },
    {
     "data": {
      "text/plain": [
       "<Figure size 1332x756 with 0 Axes>"
      ]
     },
     "metadata": {},
     "output_type": "display_data"
    }
   ],
   "source": [
    "# # plot data stored in a separate pdf\n",
    "# pp = PdfPages('fig/fig_a.pdf')\n",
    "# figure(figsize=(6,4))\n",
    "\n",
    "# Colors='bgrcmyk'  # The colors for the plot\n",
    "# LineStyles=['-']\n",
    "\n",
    "# fig = matplotlib.pyplot.gcf()\n",
    "# fig.set_size_inches(18.5,10.5)\n",
    "\n",
    "# for m_i in range(len(m_list)):\n",
    "#     Color=Colors[m_i % len(Colors)]\n",
    "#     PlotTime(TMem[m_i],_mean[m_i],_std[m_i],\\\n",
    "#              Color=Color,LS='-',Legend=m_legend[m_i],\\\n",
    "#              m_i=m_i)\n",
    "\n",
    "# grid()\n",
    "# legend(fontsize=18)\n",
    "# xlabel('delay (sec)',fontsize=18)\n",
    "# ylabel('1-CDF',fontsize=18)\n",
    "# tick_params(axis='both', which='major', labelsize=16)\n",
    "# tick_params(axis='both', which='minor', labelsize=12)\n",
    "# pp.savefig()\n",
    "# pp.close()"
   ]
  },
  {
   "cell_type": "markdown",
   "metadata": {
    "slideshow": {
     "slide_type": "slide"
    }
   },
   "source": [
    "## Discussion\n",
    " "
   ]
  },
  {
   "cell_type": "markdown",
   "metadata": {
    "slideshow": {
     "slide_type": "slide"
    }
   },
   "source": [
    "## Conclusion"
   ]
  }
 ],
 "metadata": {
  "celltoolbar": "Slideshow",
  "kernelspec": {
   "display_name": "Python 3",
   "language": "python",
   "name": "python3"
  },
  "language_info": {
   "codemirror_mode": {
    "name": "ipython",
    "version": 3
   },
   "file_extension": ".py",
   "mimetype": "text/x-python",
   "name": "python",
   "nbconvert_exporter": "python",
   "pygments_lexer": "ipython3",
   "version": "3.7.7"
  }
 },
 "nbformat": 4,
 "nbformat_minor": 2
}
