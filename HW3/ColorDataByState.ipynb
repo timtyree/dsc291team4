{
 "cells": [
  {
   "cell_type": "code",
   "execution_count": null,
   "metadata": {
    "ExecuteTime": {
     "end_time": "2020-05-21T04:08:14.114673Z",
     "start_time": "2020-05-21T04:08:13.399279Z"
    }
   },
   "outputs": [],
   "source": [
    "import os.path as path\n",
    "import sys\n",
    "import numpy as np\n",
    "from pyspark import SparkContext, SparkConf\n",
    "from lib import *\n",
    "from pyspark.sql import *\n",
    "# from utils import *\n",
    "from lib.utils import *\n",
    "import findspark\n",
    "findspark.init()\n",
    "\n",
    "%pylab inline\n",
    "\n",
    "import ipyleaflet\n",
    "import json\n",
    "import pandas as pd\n",
    "import os\n",
    "import requests\n",
    "from ipywidgets import link, FloatSlider\n",
    "from branca.colormap import linear\n",
    "import branca.colormap as cm\n",
    "\n",
    "\n",
    "\n",
    "def load_data(url, filename, file_type):\n",
    "    r = requests.get(url)\n",
    "    with open(filename, 'w') as f:\n",
    "        f.write(r.content.decode(\"utf-8\"))\n",
    "    with open(filename, 'r') as f:\n",
    "        return file_type(f)\n",
    "\n",
    "geo_json_data = load_data(\n",
    "    'https://raw.githubusercontent.com/jupyter-widgets/ipyleaflet/master/examples/us-states.json',\n",
    "    'us-states.json',\n",
    "     json.load)\n",
    "\n",
    "\n",
    "new_geo = []\n",
    "for i, s in enumerate(geo_json_data['features']):\n",
    "    if s['id'] in states:\n",
    "        new_geo.append(s)      \n",
    "\n",
    "geo_json_data['features'] = new_geo"
   ]
  },
  {
   "cell_type": "markdown",
   "metadata": {},
   "source": []
  },
  {
   "cell_type": "code",
   "execution_count": null,
   "metadata": {
    "ExecuteTime": {
     "end_time": "2020-05-21T04:08:18.749278Z",
     "start_time": "2020-05-21T04:08:15.187353Z"
    }
   },
   "outputs": [],
   "source": [
    "# Create a new spark and sql context\n",
    "sc = create_sc(pyFiles=['lib/numpy_pack.py','lib/spark_PCA.py','lib/computeStatistics.py'])\n",
    "sqlContext = SQLContext(sc)\n",
    "\n",
    "# Create the names of the files/directories we're working with\n",
    "data_dir = '../DataHW3'\n",
    "\n",
    "if not path.exists(data_dir + '/' + 'stations.parquet'):\n",
    "    getStations()\n",
    "\n",
    "    \n",
    "states = ['ND', 'SD', 'MN', 'IA', 'NE', 'TX', 'OK', 'KS']\n",
    "\n",
    "for s in states:\n",
    "    \n",
    "    parquet = s + '.parquet'\n",
    "    tarname = s + '.tgz'\n",
    "    \n",
    "    if not path.exists(data_dir + '/' + parquet):\n",
    "\n",
    "        # pull the weather data for a particular state from the MAS-DSE S3 bucket\n",
    "        getStateData(s, data_dir, tarname, parquet)"
   ]
  },
  {
   "cell_type": "markdown",
   "metadata": {},
   "source": []
  },
  {
   "cell_type": "markdown",
   "metadata": {},
   "source": [
    "# Change in average daily snow fall"
   ]
  },
  {
   "cell_type": "code",
   "execution_count": null,
   "metadata": {
    "ExecuteTime": {
     "end_time": "2020-05-21T04:09:33.494752Z",
     "start_time": "2020-05-21T04:08:20.911163Z"
    }
   },
   "outputs": [],
   "source": [
    "states = ['ND', 'SD', 'MN', 'IA', 'NE', 'TX', 'OK', 'KS']\n",
    "\n",
    "featureStr = \"\\'SNOW\\'\"\n",
    "\n",
    "test_data = decadeMeasurementDelta_states(featureStr, states, data_dir, sqlContext)\n",
    "\n",
    "master_dataframe = test_data[0]\n",
    "for i in range(len(test_data)-1):\n",
    "    master_dataframe = master_dataframe.union(test_data[i+1])\n"
   ]
  },
  {
   "cell_type": "code",
   "execution_count": null,
   "metadata": {
    "ExecuteTime": {
     "end_time": "2020-05-21T04:10:04.620263Z",
     "start_time": "2020-05-21T04:09:36.461027Z"
    }
   },
   "outputs": [],
   "source": [
    "sqlContext.registerDataFrameAsTable(master_dataframe, 'table')\n",
    "Query = f\"\"\"\n",
    "SELECT state, COUNT(Station), MEAN(Values)\n",
    "FROM table\n",
    "GROUP BY state\n",
    "\"\"\"\n",
    "dframe = sqlContext.sql(Query).toPandas()\n",
    "dframe.count()"
   ]
  },
  {
   "cell_type": "code",
   "execution_count": null,
   "metadata": {
    "ExecuteTime": {
     "end_time": "2020-05-21T04:37:42.446261Z",
     "start_time": "2020-05-21T04:37:42.441454Z"
    }
   },
   "outputs": [],
   "source": [
    "clrmap=cm.LinearColormap(colors=['blue', 'lightblue', 'white', 'lightcoral', 'red'], index=[-50,-25, 0,25,50],vmin=-50, vmax=50)"
   ]
  },
  {
   "cell_type": "code",
   "execution_count": null,
   "metadata": {
    "ExecuteTime": {
     "end_time": "2020-05-21T04:37:43.371210Z",
     "start_time": "2020-05-21T04:37:43.264899Z"
    }
   },
   "outputs": [],
   "source": [
    "snow = dict(zip(list(dframe['state']), list(dframe['avg(Values)'])))\n",
    "print(snwd)\n",
    "\n",
    "layer = ipyleaflet.Choropleth(\n",
    "    geo_data=geo_json_data,\n",
    "    choro_data=snow,\n",
    "    colormap=clrmap,\n",
    "    border_color='black',\n",
    "    style={'fillOpacity': 0.8})\n",
    "del(m)\n",
    "m = ipyleaflet.Map(center = (43,-100), zoom = 4)\n",
    "m.add_layer(layer)"
   ]
  },
  {
   "cell_type": "markdown",
   "metadata": {},
   "source": [
    "## SNOW - 70s vs 00s"
   ]
  },
  {
   "cell_type": "code",
   "execution_count": null,
   "metadata": {
    "ExecuteTime": {
     "end_time": "2020-05-21T04:37:45.976820Z",
     "start_time": "2020-05-21T04:37:45.967573Z"
    },
    "hide_input": true
   },
   "outputs": [],
   "source": [
    "m"
   ]
  },
  {
   "cell_type": "code",
   "execution_count": null,
   "metadata": {
    "ExecuteTime": {
     "end_time": "2020-05-21T04:37:51.920751Z",
     "start_time": "2020-05-21T04:37:51.906620Z"
    },
    "hide_input": true
   },
   "outputs": [],
   "source": [
    "clrmap"
   ]
  },
  {
   "cell_type": "markdown",
   "metadata": {},
   "source": [
    "# SNWD"
   ]
  },
  {
   "cell_type": "code",
   "execution_count": null,
   "metadata": {
    "ExecuteTime": {
     "end_time": "2020-05-21T04:37:02.214621Z",
     "start_time": "2020-05-21T04:36:09.459068Z"
    }
   },
   "outputs": [],
   "source": [
    "featureStr = \"\\'SNWD\\'\"\n",
    "\n",
    "test_data = decadeMeasurementDelta_states(featureStr, states, data_dir, sqlContext)\n",
    "\n",
    "master_dataframe = test_data[0]\n",
    "for i in range(len(test_data)-1):\n",
    "    master_dataframe = master_dataframe.union(test_data[i+1])\n"
   ]
  },
  {
   "cell_type": "code",
   "execution_count": null,
   "metadata": {
    "ExecuteTime": {
     "end_time": "2020-05-21T04:38:59.375358Z",
     "start_time": "2020-05-21T04:38:30.400263Z"
    }
   },
   "outputs": [],
   "source": [
    "sqlContext.registerDataFrameAsTable(master_dataframe, 'table')\n",
    "Query = f\"\"\"\n",
    "SELECT state, COUNT(Station), MEAN(Values)\n",
    "FROM table\n",
    "GROUP BY state\n",
    "\"\"\"\n",
    "dframe = sqlContext.sql(Query).toPandas()\n",
    "dframe.count()"
   ]
  },
  {
   "cell_type": "code",
   "execution_count": null,
   "metadata": {
    "ExecuteTime": {
     "end_time": "2020-05-21T04:39:10.922218Z",
     "start_time": "2020-05-21T04:39:10.916091Z"
    }
   },
   "outputs": [],
   "source": [
    "clrmap=cm.LinearColormap(colors=['blue', 'lightblue', 'white', 'lightcoral', 'red'], index=[-50,-25, 0,25,50],vmin=-50, vmax=50)"
   ]
  },
  {
   "cell_type": "code",
   "execution_count": null,
   "metadata": {
    "ExecuteTime": {
     "end_time": "2020-05-21T04:39:19.638967Z",
     "start_time": "2020-05-21T04:39:19.528064Z"
    }
   },
   "outputs": [],
   "source": [
    "snwd = dict(zip(list(dframe['state']), list(dframe['avg(Values)'])))\n",
    "print(snwd)\n",
    "\n",
    "layer = ipyleaflet.Choropleth(\n",
    "    geo_data=geo_json_data,\n",
    "    choro_data=snwd,\n",
    "    colormap=clrmap,\n",
    "    border_color='black',\n",
    "    style={'fillOpacity': 0.8})\n",
    "del(m)\n",
    "m = ipyleaflet.Map(center = (43,-100), zoom = 4)\n",
    "m.add_layer(layer)"
   ]
  },
  {
   "cell_type": "code",
   "execution_count": null,
   "metadata": {
    "ExecuteTime": {
     "end_time": "2020-05-21T04:39:23.137833Z",
     "start_time": "2020-05-21T04:39:23.121747Z"
    }
   },
   "outputs": [],
   "source": [
    "m"
   ]
  },
  {
   "cell_type": "code",
   "execution_count": null,
   "metadata": {
    "ExecuteTime": {
     "end_time": "2020-05-21T04:39:33.433644Z",
     "start_time": "2020-05-21T04:39:33.408350Z"
    },
    "hide_input": true
   },
   "outputs": [],
   "source": [
    "clrmap"
   ]
  },
  {
   "cell_type": "code",
   "execution_count": null,
   "metadata": {},
   "outputs": [],
   "source": []
  }
 ],
 "metadata": {
  "kernelspec": {
   "display_name": "Python 3",
   "language": "python",
   "name": "python3"
  },
  "language_info": {
   "codemirror_mode": {
    "name": "ipython",
    "version": 3
   },
   "file_extension": ".py",
   "mimetype": "text/x-python",
   "name": "python",
   "nbconvert_exporter": "python",
   "pygments_lexer": "ipython3",
   "version": "3.6.5"
  },
  "toc": {
   "base_numbering": 1,
   "nav_menu": {},
   "number_sections": true,
   "sideBar": true,
   "skip_h1_title": false,
   "title_cell": "Table of Contents",
   "title_sidebar": "Contents",
   "toc_cell": false,
   "toc_position": {},
   "toc_section_display": true,
   "toc_window_display": false
  },
  "varInspector": {
   "cols": {
    "lenName": 16,
    "lenType": 16,
    "lenVar": 40
   },
   "kernels_config": {
    "python": {
     "delete_cmd_postfix": "",
     "delete_cmd_prefix": "del ",
     "library": "var_list.py",
     "varRefreshCmd": "print(var_dic_list())"
    },
    "r": {
     "delete_cmd_postfix": ") ",
     "delete_cmd_prefix": "rm(",
     "library": "var_list.r",
     "varRefreshCmd": "cat(var_dic_list()) "
    }
   },
   "types_to_exclude": [
    "module",
    "function",
    "builtin_function_or_method",
    "instance",
    "_Feature"
   ],
   "window_display": false
  }
 },
 "nbformat": 4,
 "nbformat_minor": 2
}
