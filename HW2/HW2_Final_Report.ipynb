{
 "cells": [
  {
   "cell_type": "markdown",
   "metadata": {
    "slideshow": {
     "slide_type": "skip"
    }
   },
   "source": [
    "### Team 4: Purisa Jasmine Simmons, Timothy Tyree, Ria Agarwal, Ayon\n",
    "### Professor Yoav Freund \n",
    "### DSC 291 \n",
    "### Due: Tues. April 21, 2020\n"
   ]
  },
  {
   "cell_type": "markdown",
   "metadata": {
    "slideshow": {
     "slide_type": "slide"
    }
   },
   "source": [
    "# Final Report for HW2"
   ]
  },
  {
   "cell_type": "markdown",
   "metadata": {
    "slideshow": {
     "slide_type": "slide"
    }
   },
   "source": [
    "## Question: \n",
    "\n",
    "How does the performance of random-poke.py relate to the size of the L3 cache in the ec2 instance?\n"
   ]
  },
  {
   "cell_type": "markdown",
   "metadata": {
    "slideshow": {
     "slide_type": "slide"
    }
   },
   "source": [
    "## Description of Experiment:"
   ]
  },
  {
   "cell_type": "markdown",
   "metadata": {
    "slideshow": {
     "slide_type": "slide"
    }
   },
   "source": [
    "We will be measuring performance of the t3.small and t3a.small EC2 instances in terms of their latency when performing random-poke.py with varying block sizes.  In particular, t3.small has an L3 cache size of 33MB and t3a.small has an L3 cache size of 64MB. To keep other variables constant as much as possible, these EC2 instances were chosen because they each have 2 cores and 2 GiB of memory. \n",
    "\n",
    "Our experiment will consist of choosing a single hour during a high load time and a single hour during a low load time to run random-poke.py with varying block sizes each 1,000 times on both a t3.small EC2 instance and a t3a.small EC2 instance. The block sizes will range from size 10MB to 70MB, and will increase by 10MB at each step. We will compute the mean and standard deviations of the latency times for each instance on the varying block sizes, once per minute, over the course of an hour. We will then compare the means and standard deviations of the latency times between the two EC2 instances in order to see how the performance of random-poke.py differs on these instances of differing L3 cache sizes.\n",
    "\n",
    "We will use the Kolmagorov-Smirnov test, a statistical p-test, to test the following hypotheses: \n",
    "\n",
    "Null Hypothesis: L3 cache sizes have no effect on the performance of ec2 clusters for block sizes = 10, 20, 30, 40, 60. \n",
    "Alternate Hypothesis: Higher cache size leads to lower latency times (better performance) depending on the block size.\n",
    "Qualitative Hypothesis: We expect t3.small and t3a.small to perform similarly when the given block size fits within both of their caches. Since t3a.small has a larger cache size than t3.small, on block sizes which are larger than the L3 cache of t3.small but smaller than the L3 cache of t3a.small, we expect t3a.small to outperform t3.small.  \n",
    "Hypothesis Testing: In particular, a p-test will be done separately for each block size. We will report the block sizes which have significant differences in their latency times, and conclude with how EC2 instances' performance relates to the L3 cache size.\n"
   ]
  },
  {
   "cell_type": "markdown",
   "metadata": {
    "slideshow": {
     "slide_type": "slide"
    }
   },
   "source": [
    "## Results\n",
    "### //Graphs\n",
    "### //Statistical Test\n",
    "\n"
   ]
  },
  {
   "cell_type": "markdown",
   "metadata": {
    "slideshow": {
     "slide_type": "slide"
    }
   },
   "source": [
    "## Discussion\n",
    " "
   ]
  },
  {
   "cell_type": "markdown",
   "metadata": {
    "slideshow": {
     "slide_type": "slide"
    }
   },
   "source": [
    "## Conclusion"
   ]
  }
 ],
 "metadata": {
  "celltoolbar": "Slideshow",
  "kernelspec": {
   "display_name": "Python 3",
   "language": "python",
   "name": "python3"
  },
  "language_info": {
   "codemirror_mode": {
    "name": "ipython",
    "version": 3
   },
   "file_extension": ".py",
   "mimetype": "text/x-python",
   "name": "python",
   "nbconvert_exporter": "python",
   "pygments_lexer": "ipython3",
   "version": "3.7.3"
  }
 },
 "nbformat": 4,
 "nbformat_minor": 2
}
