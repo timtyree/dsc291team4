{
 "cells": [
  {
   "cell_type": "code",
   "execution_count": 1,
   "metadata": {
    "ExecuteTime": {
     "end_time": "2020-05-20T23:14:19.791559Z",
     "start_time": "2020-05-20T23:14:19.043238Z"
    }
   },
   "outputs": [
    {
     "name": "stdout",
     "output_type": "stream",
     "text": [
      "Automatic calling is: Smart\n"
     ]
    }
   ],
   "source": [
    "import pandas as pd, numpy as np, os\n",
    "from scipy import stats\n",
    "import matplotlib.pyplot as plt\n",
    "import seaborn as sns\n",
    "if 'nb_dir' not in globals():\n",
    "    nb_dir=os.getcwd()\n",
    "    \n",
    "%load_ext watermark\n",
    "%autocall"
   ]
  },
  {
   "cell_type": "markdown",
   "metadata": {},
   "source": [
    "# Significant Paired Tests for Snowfall in the Midwest\n",
    "*Spatial autocorrelation not considered, thought the results are otherwise compelling. Run all cells with measure=\"SNWD\" for snowdepth or with measure=\"SNOW\" for snowfall (in millimeters).*"
   ]
  },
  {
   "cell_type": "code",
   "execution_count": 2,
   "metadata": {
    "ExecuteTime": {
     "end_time": "2020-05-20T23:14:24.691679Z",
     "start_time": "2020-05-20T23:14:19.793827Z"
    }
   },
   "outputs": [
    {
     "name": "stdout",
     "output_type": "stream",
     "text": [
      "States considered herein are {'SD', 'KS', 'TX', 'NE', 'MN', 'IA', 'OK', 'ND'}.\n"
     ]
    }
   ],
   "source": [
    "os.chdir(nb_dir)\n",
    "measure = \"SNWD\"\n",
    "# measure = \"SNOW\"\n",
    "data_dir = f\"Data/{measure}-All-States.xlsx\"\n",
    "df_raw = pd.read_excel(data_dir)\n",
    "\n",
    "#define queries for northern/southern plains\n",
    "print(f\"States considered herein are {set(df_raw.state.values)}.\")\n",
    "qN = 'state is IA or state is ND or state is SD or state is MN or state is NE'\n",
    "qS = 'state == TX | state == OK | state == KS'\n",
    "booN =  (df_raw.state=='IA') | \\\n",
    "        (df_raw.state=='ND') | \\\n",
    "        (df_raw.state=='SD') | \\\n",
    "        (df_raw.state=='MN') | \\\n",
    "        (df_raw.state=='NE')\n",
    "booS =  (df_raw.state=='TX') | \\\n",
    "        (df_raw.state=='KS') | \\\n",
    "        (df_raw.state=='OK') \n",
    "\n",
    "os.chdir('hw3_imgs/fig')"
   ]
  },
  {
   "cell_type": "markdown",
   "metadata": {},
   "source": [
    "__Example Results Section__: (this may be madlib'd for each section/region in a straightforward way)<br>\n",
    "In the Northern Plains, the average weather station measurement of SNOW took a median value of 12 mm (IQR: 9.4-18 mm) from 1990-1995, which was less than that same value measured from 1980-1985, which took a median value of 16 mm (IQR: 11-30 mm), consistent with a significant distributional difference ($p<0.0001$, $U\\approx6.8\\cdot10^4$, $N_\\text{stations}=694$) we found according to a Wilcoxon signed-rank test, which is a nonparametric paired test that does not assumed normality of the data.  This result is consistent with a paired student's t-test ($p<0.0001$, $t\\approx9.5$, $N_\\text{stations}=694$), which does make normality assumptions for the underlaying distribution of SNOW measurements.  This comparative test was repeated with various other choices for time intervals, and the results were consistent.  These tests were repeated for snow depth measurements (SNWD), which yielded consistently significant ($p<0.0001$) results, which are discussed in the following paragraph.\n",
    "\n",
    "In the Northern Plains, the average weather station measurement of SNWD took a median value of 55 mm (IQR: 38-76 mm) from 1990-1995, which was less than that same value measured from 1980-1985, which took a median value of 16 mm (IQR: 11-30 mm), consistent with a significant distributional difference ($p<0.0001$, $U\\approx7.0\\cdot10^4$, $N_\\text{stations}=693$) we found according to a Mann-Whitney U test, which is a nonparametric paired test that does not assumed normality of the data.  This result is consistent with a paired student's t-test ($p<0.0001$, $t\\approx9.7$, $N_\\text{stations}=693$), which does make normality assumptions for the underlaying distribution of SNOW measurements.  This comparative test was repeated with various other choices for time intervals, and the results were consistent.  \n",
    "\n",
    "__Caveat__:<br>\n",
    "Both statistical tests assume statistically independent observation pairs.  We would expect observations to be autocorrelated spatially.  Therefore, a statistical test that considers spatial autocorrelation is necessary to prove *beyond a reasonable doubt* that snowfall has decreased between the periods 1980-1985 and 1990-1995.\n",
    "\n",
    "__Nota Bene__:<br>\n",
    "The following [assumptions](https://en.wikipedia.org/wiki/Wilcoxon_signed-rank_test) are made for the Wilcoxon signed-rank test — not all of which are met here:\n",
    " - Data are paired and come from the same population.\n",
    " - Each pair is chosen randomly and independently[citation needed].\n",
    " - The data are measured on at least an interval scale when, as is usual, within-pair differences are calculated to perform the test (though it does suffice that within-pair comparisons are on an ordinal scale)."
   ]
  },
  {
   "cell_type": "markdown",
   "metadata": {},
   "source": [
    "# SNOW/SNWD in the Northern Plains"
   ]
  },
  {
   "cell_type": "markdown",
   "metadata": {},
   "source": [
    "## compute results"
   ]
  },
  {
   "cell_type": "code",
   "execution_count": 3,
   "metadata": {
    "ExecuteTime": {
     "end_time": "2020-05-21T00:15:52.907002Z",
     "start_time": "2020-05-21T00:15:52.882476Z"
    }
   },
   "outputs": [],
   "source": [
    "q1 = '1980 <= Year < 1985  and Values>0'\n",
    "q2 = '1990 <= Year < 1995  and Values>0'\n",
    "df = df_raw[booN].copy()\n",
    "set1 = df.query(q1).groupby('Station')[['Station','Values', 'state']].mean()\n",
    "set2 = df.query(q2).groupby('Station')[['Station','Values', 'state']].mean()"
   ]
  },
  {
   "cell_type": "code",
   "execution_count": 4,
   "metadata": {
    "ExecuteTime": {
     "end_time": "2020-05-21T00:15:53.955083Z",
     "start_time": "2020-05-21T00:15:53.945374Z"
    }
   },
   "outputs": [],
   "source": [
    "df2 = set2.rename(columns={'Values':\"Values_2\"})\n",
    "df2['Values_1'] = set1['Values']\n",
    "df2.dropna(inplace=True)\n",
    "df2['change'] = df2['Values_2'] - df2['Values_1']\n",
    "df2['log_meas_1'] = np.log(df2['Values_1'])\n",
    "df2['log_meas_2'] = np.log(df2['Values_2'])"
   ]
  },
  {
   "cell_type": "code",
   "execution_count": 5,
   "metadata": {
    "ExecuteTime": {
     "end_time": "2020-05-21T00:15:55.131512Z",
     "start_time": "2020-05-21T00:15:55.129171Z"
    }
   },
   "outputs": [],
   "source": [
    "a = df2.Values_1\n",
    "b = df2.Values_2"
   ]
  },
  {
   "cell_type": "code",
   "execution_count": 6,
   "metadata": {
    "ExecuteTime": {
     "end_time": "2020-05-21T00:15:56.127360Z",
     "start_time": "2020-05-21T00:15:56.124256Z"
    }
   },
   "outputs": [
    {
     "name": "stdout",
     "output_type": "stream",
     "text": [
      "Number of stations considered = 692\n"
     ]
    }
   ],
   "source": [
    "assert(len(a)==len(b))\n",
    "print(f'Number of stations considered = {len(a)}')"
   ]
  },
  {
   "cell_type": "code",
   "execution_count": 7,
   "metadata": {
    "ExecuteTime": {
     "end_time": "2020-05-21T00:15:57.211773Z",
     "start_time": "2020-05-21T00:15:57.206757Z"
    }
   },
   "outputs": [
    {
     "data": {
      "text/plain": [
       "WilcoxonResult(statistic=70709.5, pvalue=8.884065156051147e-21)"
      ]
     },
     "execution_count": 7,
     "metadata": {},
     "output_type": "execute_result"
    }
   ],
   "source": [
    "dy = df2['change'].values\n",
    "stats.wilcoxon(dy)"
   ]
  },
  {
   "cell_type": "code",
   "execution_count": 8,
   "metadata": {
    "ExecuteTime": {
     "end_time": "2020-05-21T00:15:58.373776Z",
     "start_time": "2020-05-21T00:15:58.369104Z"
    }
   },
   "outputs": [
    {
     "data": {
      "text/plain": [
       "WilcoxonResult(statistic=70709.5, pvalue=8.884065156051147e-21)"
      ]
     },
     "execution_count": 8,
     "metadata": {},
     "output_type": "execute_result"
    }
   ],
   "source": [
    "stats.wilcoxon(a,b)"
   ]
  },
  {
   "cell_type": "code",
   "execution_count": 9,
   "metadata": {
    "ExecuteTime": {
     "end_time": "2020-05-21T00:15:59.458193Z",
     "start_time": "2020-05-21T00:15:59.454462Z"
    }
   },
   "outputs": [
    {
     "data": {
      "text/plain": [
       "Ttest_relResult(statistic=9.834027384757572, pvalue=1.8992330657074886e-21)"
      ]
     },
     "execution_count": 9,
     "metadata": {},
     "output_type": "execute_result"
    }
   ],
   "source": [
    "stats.ttest_rel(a,b)"
   ]
  },
  {
   "cell_type": "code",
   "execution_count": 10,
   "metadata": {
    "ExecuteTime": {
     "end_time": "2020-05-20T23:14:24.890709Z",
     "start_time": "2020-05-20T23:14:24.837650Z"
    }
   },
   "outputs": [
    {
     "data": {
      "text/html": [
       "<div>\n",
       "<style scoped>\n",
       "    .dataframe tbody tr th:only-of-type {\n",
       "        vertical-align: middle;\n",
       "    }\n",
       "\n",
       "    .dataframe tbody tr th {\n",
       "        vertical-align: top;\n",
       "    }\n",
       "\n",
       "    .dataframe thead th {\n",
       "        text-align: right;\n",
       "    }\n",
       "</style>\n",
       "<table border=\"1\" class=\"dataframe\">\n",
       "  <thead>\n",
       "    <tr style=\"text-align: right;\">\n",
       "      <th></th>\n",
       "      <th>count</th>\n",
       "      <th>mean</th>\n",
       "      <th>std</th>\n",
       "      <th>min</th>\n",
       "      <th>25%</th>\n",
       "      <th>50%</th>\n",
       "      <th>75%</th>\n",
       "      <th>max</th>\n",
       "    </tr>\n",
       "  </thead>\n",
       "  <tbody>\n",
       "    <tr>\n",
       "      <th>Values_2</th>\n",
       "      <td>692.0</td>\n",
       "      <td>57.425316</td>\n",
       "      <td>23.962999</td>\n",
       "      <td>13.066667</td>\n",
       "      <td>37.578333</td>\n",
       "      <td>53.748889</td>\n",
       "      <td>73.765000</td>\n",
       "      <td>126.000000</td>\n",
       "    </tr>\n",
       "    <tr>\n",
       "      <th>Values_1</th>\n",
       "      <td>692.0</td>\n",
       "      <td>65.967213</td>\n",
       "      <td>27.583579</td>\n",
       "      <td>14.788889</td>\n",
       "      <td>43.792222</td>\n",
       "      <td>63.507778</td>\n",
       "      <td>85.200000</td>\n",
       "      <td>126.000000</td>\n",
       "    </tr>\n",
       "    <tr>\n",
       "      <th>change</th>\n",
       "      <td>692.0</td>\n",
       "      <td>-8.541897</td>\n",
       "      <td>22.849461</td>\n",
       "      <td>-103.882222</td>\n",
       "      <td>-19.120000</td>\n",
       "      <td>-6.096667</td>\n",
       "      <td>4.082222</td>\n",
       "      <td>54.133333</td>\n",
       "    </tr>\n",
       "    <tr>\n",
       "      <th>log_meas_1</th>\n",
       "      <td>692.0</td>\n",
       "      <td>4.094089</td>\n",
       "      <td>0.451605</td>\n",
       "      <td>2.693876</td>\n",
       "      <td>3.779456</td>\n",
       "      <td>4.151157</td>\n",
       "      <td>4.445000</td>\n",
       "      <td>4.836282</td>\n",
       "    </tr>\n",
       "    <tr>\n",
       "      <th>log_meas_2</th>\n",
       "      <td>692.0</td>\n",
       "      <td>3.961061</td>\n",
       "      <td>0.431268</td>\n",
       "      <td>2.570064</td>\n",
       "      <td>3.626426</td>\n",
       "      <td>3.984323</td>\n",
       "      <td>4.300884</td>\n",
       "      <td>4.836282</td>\n",
       "    </tr>\n",
       "  </tbody>\n",
       "</table>\n",
       "</div>"
      ],
      "text/plain": [
       "            count       mean        std         min        25%        50%  \\\n",
       "Values_2    692.0  57.425316  23.962999   13.066667  37.578333  53.748889   \n",
       "Values_1    692.0  65.967213  27.583579   14.788889  43.792222  63.507778   \n",
       "change      692.0  -8.541897  22.849461 -103.882222 -19.120000  -6.096667   \n",
       "log_meas_1  692.0   4.094089   0.451605    2.693876   3.779456   4.151157   \n",
       "log_meas_2  692.0   3.961061   0.431268    2.570064   3.626426   3.984323   \n",
       "\n",
       "                  75%         max  \n",
       "Values_2    73.765000  126.000000  \n",
       "Values_1    85.200000  126.000000  \n",
       "change       4.082222   54.133333  \n",
       "log_meas_1   4.445000    4.836282  \n",
       "log_meas_2   4.300884    4.836282  "
      ]
     },
     "execution_count": 10,
     "metadata": {},
     "output_type": "execute_result"
    }
   ],
   "source": [
    "#Values_2 is the mean station measurement from 1990-1992\n",
    "#Values_1 is the mean station measurement form 1983-1985\n",
    "df2.describe().T"
   ]
  },
  {
   "cell_type": "markdown",
   "metadata": {
    "heading_collapsed": true
   },
   "source": [
    "## plots and figures"
   ]
  },
  {
   "cell_type": "code",
   "execution_count": 11,
   "metadata": {
    "ExecuteTime": {
     "end_time": "2020-05-20T23:14:25.167347Z",
     "start_time": "2020-05-20T23:14:24.892681Z"
    },
    "hidden": true
   },
   "outputs": [
    {
     "data": {
      "image/png": "[encoded data removed]",
      "text/plain": [
       "<Figure size 432x288 with 1 Axes>"
      ]
     },
     "metadata": {
      "needs_background": "light"
     },
     "output_type": "display_data"
    }
   ],
   "source": [
    "plt.hist(a, bins=20, alpha=0.5)\n",
    "plt.hist(b, bins=20, alpha=0.5);"
   ]
  },
  {
   "cell_type": "code",
   "execution_count": 12,
   "metadata": {
    "ExecuteTime": {
     "end_time": "2020-05-20T23:14:25.398603Z",
     "start_time": "2020-05-20T23:14:25.168626Z"
    },
    "hidden": true
   },
   "outputs": [
    {
     "data": {
      "image/png": "[encoded data removed]",
      "text/plain": [
       "<Figure size 432x288 with 1 Axes>"
      ]
     },
     "metadata": {
      "needs_background": "light"
     },
     "output_type": "display_data"
    }
   ],
   "source": [
    "plt.hist(dy, bins=50);"
   ]
  },
  {
   "cell_type": "code",
   "execution_count": 13,
   "metadata": {
    "ExecuteTime": {
     "end_time": "2020-05-20T23:14:25.402294Z",
     "start_time": "2020-05-20T23:14:25.400279Z"
    },
    "hidden": true
   },
   "outputs": [],
   "source": [
    "# g = sns.jointplot(x=\"log_meas_1\", y=\"log_meas_2\", data=df2, s=3)\n",
    "# g = sns.jointplot(x=\"log_meas_1\", y=\"log_meas_2\", data=df2, kind='hex', color='k')"
   ]
  },
  {
   "cell_type": "code",
   "execution_count": 14,
   "metadata": {
    "ExecuteTime": {
     "end_time": "2020-05-20T23:14:27.041452Z",
     "start_time": "2020-05-20T23:14:25.403839Z"
    },
    "hidden": true
   },
   "outputs": [
    {
     "data": {
      "text/plain": [
       "<Figure size 252x216 with 0 Axes>"
      ]
     },
     "metadata": {},
     "output_type": "display_data"
    },
    {
     "data": {
      "image/png": "[encoded data removed]",
      "text/plain": [
       "<Figure size 432x432 with 3 Axes>"
      ]
     },
     "metadata": {
      "needs_background": "light"
     },
     "output_type": "display_data"
    }
   ],
   "source": [
    "plt.figure(figsize=(3.5,3))\n",
    "g = sns.jointplot(x=\"log_meas_1\", y=\"log_meas_2\", data=df2, kind=\"kde\", color=\"orange\")\n",
    "g.plot_joint(plt.scatter, c=\"blue\", s=30, linewidth=1, marker=\"+\", alpha=0.2)\n",
    "g.ax_joint.collections[0].set_alpha(0)\n",
    "g.set_axis_labels(f\"Log of {measure} (1980-1985)\", f\"Log of {measure} (1990-1995)\")\n",
    "plt.ylim(1, 5)\n",
    "plt.xlim(1, 5)\n",
    "plt.savefig(f'fig_{measure}_NP_paired.png', dpi=400)"
   ]
  },
  {
   "cell_type": "code",
   "execution_count": 15,
   "metadata": {
    "ExecuteTime": {
     "end_time": "2020-05-20T23:14:27.046857Z",
     "start_time": "2020-05-20T23:14:27.044336Z"
    },
    "hidden": true
   },
   "outputs": [],
   "source": [
    "# # Plot formatting\n",
    "# sns.distplot(df2['Values_1'],  kde=False, label='1980-1985', bins=30)\n",
    "# sns.distplot(df2['Values_2'],  kde=False, label='1990-1995', bins=30)\n",
    "# plt.legend(prop={'size': 12})\n",
    "# plt.title('Average Station SNOW Measurement\\nin the Northern Plains')\n",
    "# plt.xlabel('mm')\n",
    "# plt.xscale('log')\n",
    "# plt.ylabel('frequency')"
   ]
  },
  {
   "cell_type": "code",
   "execution_count": 16,
   "metadata": {
    "ExecuteTime": {
     "end_time": "2020-05-20T23:14:27.444314Z",
     "start_time": "2020-05-20T23:14:27.048679Z"
    },
    "hidden": true
   },
   "outputs": [
    {
     "data": {
      "image/png": "[encoded data removed]",
      "text/plain": [
       "<Figure size 252x252 with 1 Axes>"
      ]
     },
     "metadata": {
      "needs_background": "light"
     },
     "output_type": "display_data"
    }
   ],
   "source": [
    "plt.figure(figsize=(3.5,3.5))\n",
    "if measure=='SNWD':\n",
    "    plt.hist(df2['Values_1'].values, label='1980-1985', alpha=0.4, bins=20)#np.logspace(np.log10(10),np.log10(200), 20))\n",
    "    plt.hist(df2['Values_2'].values, label='1990-1995', alpha=0.4, bins=20)#np.logspace(np.log10(10),np.log10(200), 20))\n",
    "else:\n",
    "    plt.hist(df2['Values_1'].values, label='1980-1985', alpha=0.4, bins=np.logspace(np.log10(3),np.log10(100), 20))\n",
    "    plt.hist(df2['Values_2'].values, label='1990-1995', alpha=0.4, bins=np.logspace(np.log10(3),np.log10(100), 20))\n",
    "    plt.xscale('log')\n",
    "plt.legend(prop={'size': 12})\n",
    "plt.title(f'{measure} in the Northern Plains\\nAvg. Station Measurement')\n",
    "plt.xlabel('millimeters')\n",
    "plt.ylabel('frequency')\n",
    "# plt.show()\n",
    "plt.tight_layout()\n",
    "plt.savefig(f'fig_{measure}_NP.png', transparent=True, dpi=400)"
   ]
  },
  {
   "cell_type": "markdown",
   "metadata": {},
   "source": [
    "# SNOW/SNWD in the Southern Plains"
   ]
  },
  {
   "cell_type": "markdown",
   "metadata": {},
   "source": [
    "## compute results"
   ]
  },
  {
   "cell_type": "code",
   "execution_count": 17,
   "metadata": {
    "ExecuteTime": {
     "end_time": "2020-05-21T00:14:40.359170Z",
     "start_time": "2020-05-21T00:14:40.337253Z"
    }
   },
   "outputs": [],
   "source": [
    "q1 = '1980 <= Year < 1985  and Values>0'\n",
    "q2 = '1990 <= Year < 1995  and Values>0'\n",
    "df = df_raw[booS].copy()\n",
    "set1 = df.query(q1).groupby('Station')[['Station','Values', 'state']].mean()\n",
    "set2 = df.query(q2).groupby('Station')[['Station','Values', 'state']].mean()"
   ]
  },
  {
   "cell_type": "code",
   "execution_count": 18,
   "metadata": {
    "ExecuteTime": {
     "end_time": "2020-05-21T00:14:41.350058Z",
     "start_time": "2020-05-21T00:14:41.338622Z"
    }
   },
   "outputs": [],
   "source": [
    "df2 = set2.rename(columns={'Values':\"Values_2\"})\n",
    "df2['Values_1'] = set1['Values']\n",
    "df2.dropna(inplace=True)\n",
    "df2['change'] = df2['Values_2'] - df2['Values_1']\n",
    "df2['log_meas_1'] = np.log(df2['Values_1'])\n",
    "df2['log_meas_2'] = np.log(df2['Values_2'])"
   ]
  },
  {
   "cell_type": "code",
   "execution_count": 19,
   "metadata": {
    "ExecuteTime": {
     "end_time": "2020-05-21T00:14:42.487402Z",
     "start_time": "2020-05-21T00:14:42.484546Z"
    }
   },
   "outputs": [],
   "source": [
    "a = df2.Values_1\n",
    "b = df2.Values_2"
   ]
  },
  {
   "cell_type": "code",
   "execution_count": 20,
   "metadata": {
    "ExecuteTime": {
     "end_time": "2020-05-21T00:14:43.494686Z",
     "start_time": "2020-05-21T00:14:43.491870Z"
    }
   },
   "outputs": [
    {
     "name": "stdout",
     "output_type": "stream",
     "text": [
      "Number of stations considered = 566\n"
     ]
    }
   ],
   "source": [
    "assert(len(a)==len(b))\n",
    "print(f'Number of stations considered = {len(a)}')"
   ]
  },
  {
   "cell_type": "code",
   "execution_count": 21,
   "metadata": {
    "ExecuteTime": {
     "end_time": "2020-05-21T00:14:44.460441Z",
     "start_time": "2020-05-21T00:14:44.455615Z"
    }
   },
   "outputs": [
    {
     "data": {
      "text/plain": [
       "WilcoxonResult(statistic=12175.0, pvalue=1.879218729760742e-68)"
      ]
     },
     "execution_count": 21,
     "metadata": {},
     "output_type": "execute_result"
    }
   ],
   "source": [
    "dy = df2['change'].values\n",
    "stats.wilcoxon(dy)"
   ]
  },
  {
   "cell_type": "code",
   "execution_count": 22,
   "metadata": {
    "ExecuteTime": {
     "end_time": "2020-05-21T00:14:45.538406Z",
     "start_time": "2020-05-21T00:14:45.533218Z"
    }
   },
   "outputs": [
    {
     "data": {
      "text/plain": [
       "WilcoxonResult(statistic=12175.0, pvalue=1.879218729760742e-68)"
      ]
     },
     "execution_count": 22,
     "metadata": {},
     "output_type": "execute_result"
    }
   ],
   "source": [
    "stats.wilcoxon(a,b)"
   ]
  },
  {
   "cell_type": "code",
   "execution_count": 23,
   "metadata": {
    "ExecuteTime": {
     "end_time": "2020-05-21T00:14:46.611598Z",
     "start_time": "2020-05-21T00:14:46.601824Z"
    }
   },
   "outputs": [
    {
     "data": {
      "text/plain": [
       "Ttest_relResult(statistic=22.62598742847972, pvalue=3.5195715043815714e-81)"
      ]
     },
     "execution_count": 23,
     "metadata": {},
     "output_type": "execute_result"
    }
   ],
   "source": [
    "stats.ttest_rel(a,b)"
   ]
  },
  {
   "cell_type": "code",
   "execution_count": 24,
   "metadata": {
    "ExecuteTime": {
     "end_time": "2020-05-21T00:14:47.716471Z",
     "start_time": "2020-05-21T00:14:47.689193Z"
    }
   },
   "outputs": [
    {
     "data": {
      "text/html": [
       "<div>\n",
       "<style scoped>\n",
       "    .dataframe tbody tr th:only-of-type {\n",
       "        vertical-align: middle;\n",
       "    }\n",
       "\n",
       "    .dataframe tbody tr th {\n",
       "        vertical-align: top;\n",
       "    }\n",
       "\n",
       "    .dataframe thead th {\n",
       "        text-align: right;\n",
       "    }\n",
       "</style>\n",
       "<table border=\"1\" class=\"dataframe\">\n",
       "  <thead>\n",
       "    <tr style=\"text-align: right;\">\n",
       "      <th></th>\n",
       "      <th>count</th>\n",
       "      <th>mean</th>\n",
       "      <th>std</th>\n",
       "      <th>min</th>\n",
       "      <th>25%</th>\n",
       "      <th>50%</th>\n",
       "      <th>75%</th>\n",
       "      <th>max</th>\n",
       "    </tr>\n",
       "  </thead>\n",
       "  <tbody>\n",
       "    <tr>\n",
       "      <th>Values_2</th>\n",
       "      <td>566.0</td>\n",
       "      <td>21.043475</td>\n",
       "      <td>21.770384</td>\n",
       "      <td>0.866667</td>\n",
       "      <td>3.679630</td>\n",
       "      <td>15.303333</td>\n",
       "      <td>31.185000</td>\n",
       "      <td>126.000000</td>\n",
       "    </tr>\n",
       "    <tr>\n",
       "      <th>Values_1</th>\n",
       "      <td>566.0</td>\n",
       "      <td>49.050436</td>\n",
       "      <td>25.629603</td>\n",
       "      <td>1.366667</td>\n",
       "      <td>29.133333</td>\n",
       "      <td>43.491111</td>\n",
       "      <td>65.996667</td>\n",
       "      <td>126.000000</td>\n",
       "    </tr>\n",
       "    <tr>\n",
       "      <th>change</th>\n",
       "      <td>566.0</td>\n",
       "      <td>-28.006961</td>\n",
       "      <td>29.448736</td>\n",
       "      <td>-123.200000</td>\n",
       "      <td>-46.363889</td>\n",
       "      <td>-28.336389</td>\n",
       "      <td>-9.118333</td>\n",
       "      <td>96.600000</td>\n",
       "    </tr>\n",
       "    <tr>\n",
       "      <th>log_meas_1</th>\n",
       "      <td>566.0</td>\n",
       "      <td>3.713675</td>\n",
       "      <td>0.694125</td>\n",
       "      <td>0.312375</td>\n",
       "      <td>3.371869</td>\n",
       "      <td>3.772554</td>\n",
       "      <td>4.189597</td>\n",
       "      <td>4.836282</td>\n",
       "    </tr>\n",
       "    <tr>\n",
       "      <th>log_meas_2</th>\n",
       "      <td>566.0</td>\n",
       "      <td>2.435314</td>\n",
       "      <td>1.234682</td>\n",
       "      <td>-0.143101</td>\n",
       "      <td>1.302794</td>\n",
       "      <td>2.728051</td>\n",
       "      <td>3.439912</td>\n",
       "      <td>4.836282</td>\n",
       "    </tr>\n",
       "  </tbody>\n",
       "</table>\n",
       "</div>"
      ],
      "text/plain": [
       "            count       mean        std         min        25%        50%  \\\n",
       "Values_2    566.0  21.043475  21.770384    0.866667   3.679630  15.303333   \n",
       "Values_1    566.0  49.050436  25.629603    1.366667  29.133333  43.491111   \n",
       "change      566.0 -28.006961  29.448736 -123.200000 -46.363889 -28.336389   \n",
       "log_meas_1  566.0   3.713675   0.694125    0.312375   3.371869   3.772554   \n",
       "log_meas_2  566.0   2.435314   1.234682   -0.143101   1.302794   2.728051   \n",
       "\n",
       "                  75%         max  \n",
       "Values_2    31.185000  126.000000  \n",
       "Values_1    65.996667  126.000000  \n",
       "change      -9.118333   96.600000  \n",
       "log_meas_1   4.189597    4.836282  \n",
       "log_meas_2   3.439912    4.836282  "
      ]
     },
     "execution_count": 24,
     "metadata": {},
     "output_type": "execute_result"
    }
   ],
   "source": [
    "df2.describe().T"
   ]
  },
  {
   "cell_type": "markdown",
   "metadata": {},
   "source": [
    "## plots and figures"
   ]
  },
  {
   "cell_type": "code",
   "execution_count": 25,
   "metadata": {
    "ExecuteTime": {
     "end_time": "2020-05-21T00:14:49.073750Z",
     "start_time": "2020-05-21T00:14:48.864428Z"
    }
   },
   "outputs": [
    {
     "data": {
      "image/png": "[encoded data removed]",
      "text/plain": [
       "<Figure size 432x288 with 1 Axes>"
      ]
     },
     "metadata": {
      "needs_background": "light"
     },
     "output_type": "display_data"
    }
   ],
   "source": [
    "plt.hist(a, bins=20, alpha=0.5)\n",
    "plt.hist(b, bins=20, alpha=0.5);"
   ]
  },
  {
   "cell_type": "code",
   "execution_count": 26,
   "metadata": {
    "ExecuteTime": {
     "end_time": "2020-05-21T00:14:50.363164Z",
     "start_time": "2020-05-21T00:14:50.153646Z"
    }
   },
   "outputs": [
    {
     "data": {
      "image/png": "[encoded data removed]",
      "text/plain": [
       "<Figure size 432x288 with 1 Axes>"
      ]
     },
     "metadata": {
      "needs_background": "light"
     },
     "output_type": "display_data"
    }
   ],
   "source": [
    "plt.hist(dy, bins=50);"
   ]
  },
  {
   "cell_type": "code",
   "execution_count": 27,
   "metadata": {
    "ExecuteTime": {
     "end_time": "2020-05-21T00:14:52.755349Z",
     "start_time": "2020-05-21T00:14:51.386954Z"
    }
   },
   "outputs": [
    {
     "data": {
      "text/plain": [
       "<Figure size 252x216 with 0 Axes>"
      ]
     },
     "metadata": {},
     "output_type": "display_data"
    },
    {
     "data": {
      "image/png": "[encoded data removed]",
      "text/plain": [
       "<Figure size 432x432 with 3 Axes>"
      ]
     },
     "metadata": {
      "needs_background": "light"
     },
     "output_type": "display_data"
    }
   ],
   "source": [
    "plt.figure(figsize=(3.5,3))\n",
    "g = sns.jointplot(x=\"log_meas_1\", y=\"log_meas_2\", data=df2.fillna(1), kind=\"kde\", color=\"orange\")\n",
    "g.plot_joint(plt.scatter, c=\"blue\", s=30, linewidth=1, marker=\"+\", alpha=0.2)\n",
    "g.ax_joint.collections[0].set_alpha(0)\n",
    "g.set_axis_labels(f\"Log of {measure} (1980-1985)\", f\"Log of {measure} (1990-1995)\")\n",
    "plt.ylim(1, 5)\n",
    "plt.xlim(1, 5)\n",
    "plt.savefig(f'fig_{measure}_SP_paired.png', dpi=400)"
   ]
  },
  {
   "cell_type": "code",
   "execution_count": 28,
   "metadata": {
    "ExecuteTime": {
     "end_time": "2020-05-21T00:16:18.987433Z",
     "start_time": "2020-05-21T00:16:18.633188Z"
    }
   },
   "outputs": [
    {
     "data": {
      "image/png": "[encoded data removed]",
      "text/plain": [
       "<Figure size 252x252 with 1 Axes>"
      ]
     },
     "metadata": {
      "needs_background": "light"
     },
     "output_type": "display_data"
    }
   ],
   "source": [
    "plt.figure(figsize=(3.5,3.5))\n",
    "if measure=='SNWD':\n",
    "    plt.hist(df2['Values_1'].values, label='1980-1985', alpha=0.4, bins=20)#np.logspace(np.log10(10),np.log10(200), 20))\n",
    "    plt.hist(df2['Values_2'].values, label='1990-1995', alpha=0.4, bins=20)#np.logspace(np.log10(10),np.log10(200), 20))\n",
    "else:\n",
    "    plt.hist(df2['Values_1'].values, label='1980-1985', alpha=0.4, bins=np.logspace(np.log10(3),np.log10(100), 20))\n",
    "    plt.hist(df2['Values_2'].values, label='1990-1995', alpha=0.4, bins=np.logspace(np.log10(3),np.log10(100), 20))\n",
    "    plt.xscale('log')\n",
    "plt.legend(prop={'size': 12})\n",
    "plt.title(f'{measure} in the Southern Plains\\nAvg. Station Measurement')\n",
    "plt.xlabel('millimeters')\n",
    "plt.ylabel('frequency')\n",
    "# plt.show()\n",
    "plt.tight_layout()\n",
    "plt.savefig(f'fig_{measure}_SP.png', transparent=True)"
   ]
  },
  {
   "cell_type": "markdown",
   "metadata": {},
   "source": [
    "# Now for both"
   ]
  },
  {
   "cell_type": "markdown",
   "metadata": {},
   "source": [
    "## compute results"
   ]
  },
  {
   "cell_type": "code",
   "execution_count": 29,
   "metadata": {
    "ExecuteTime": {
     "end_time": "2020-05-21T00:10:55.994744Z",
     "start_time": "2020-05-21T00:10:55.967946Z"
    }
   },
   "outputs": [],
   "source": [
    "q1 = '1980 <= Year < 1985 and Values>0'\n",
    "q2 = '1990 <= Year < 1995 and Values>0'\n",
    "df = df_raw.copy()\n",
    "set1 = df.query(q1).groupby('Station')[['Station','Values', 'state']].mean()\n",
    "set2 = df.query(q2).groupby('Station')[['Station','Values', 'state']].mean()"
   ]
  },
  {
   "cell_type": "code",
   "execution_count": 30,
   "metadata": {
    "ExecuteTime": {
     "end_time": "2020-05-21T00:11:06.915668Z",
     "start_time": "2020-05-21T00:11:06.902594Z"
    }
   },
   "outputs": [],
   "source": [
    "df2 = set2.rename(columns={'Values':\"Values_2\"})\n",
    "df2['Values_1'] = set1['Values']\n",
    "df2.dropna(inplace=True)\n",
    "df2['change'] = df2['Values_2'] - df2['Values_1']\n",
    "df2['log_meas_1'] = np.log(df2['Values_1'])\n",
    "df2['log_meas_2'] = np.log(df2['Values_2'])"
   ]
  },
  {
   "cell_type": "code",
   "execution_count": 31,
   "metadata": {
    "ExecuteTime": {
     "end_time": "2020-05-21T00:11:27.539888Z",
     "start_time": "2020-05-21T00:11:27.537090Z"
    }
   },
   "outputs": [],
   "source": [
    "a = df2.Values_1\n",
    "b = df2.Values_2"
   ]
  },
  {
   "cell_type": "code",
   "execution_count": 32,
   "metadata": {
    "ExecuteTime": {
     "end_time": "2020-05-21T00:11:28.643179Z",
     "start_time": "2020-05-21T00:11:28.640117Z"
    }
   },
   "outputs": [
    {
     "name": "stdout",
     "output_type": "stream",
     "text": [
      "Number of stations considered = 1258\n"
     ]
    }
   ],
   "source": [
    "assert(len(a)==len(b))\n",
    "print(f'Number of stations considered = {len(a)}')"
   ]
  },
  {
   "cell_type": "code",
   "execution_count": 33,
   "metadata": {
    "ExecuteTime": {
     "end_time": "2020-05-21T00:11:43.678886Z",
     "start_time": "2020-05-21T00:11:43.673198Z"
    }
   },
   "outputs": [
    {
     "data": {
      "text/plain": [
       "WilcoxonResult(statistic=137036.0, pvalue=9.062789144154677e-90)"
      ]
     },
     "execution_count": 33,
     "metadata": {},
     "output_type": "execute_result"
    }
   ],
   "source": [
    "dy = df2['change'].values\n",
    "stats.wilcoxon(dy)"
   ]
  },
  {
   "cell_type": "code",
   "execution_count": 34,
   "metadata": {
    "ExecuteTime": {
     "end_time": "2020-05-21T00:12:02.222856Z",
     "start_time": "2020-05-21T00:12:02.216990Z"
    }
   },
   "outputs": [
    {
     "data": {
      "text/plain": [
       "WilcoxonResult(statistic=137036.0, pvalue=9.062789144154677e-90)"
      ]
     },
     "execution_count": 34,
     "metadata": {},
     "output_type": "execute_result"
    }
   ],
   "source": [
    "stats.wilcoxon(a,b)"
   ]
  },
  {
   "cell_type": "code",
   "execution_count": 35,
   "metadata": {
    "ExecuteTime": {
     "end_time": "2020-05-21T00:12:13.573387Z",
     "start_time": "2020-05-21T00:12:13.569145Z"
    }
   },
   "outputs": [
    {
     "data": {
      "text/plain": [
       "Ttest_relResult(statistic=22.102729996403855, pvalue=1.020043244197327e-91)"
      ]
     },
     "execution_count": 35,
     "metadata": {},
     "output_type": "execute_result"
    }
   ],
   "source": [
    "stats.ttest_rel(a,b)"
   ]
  },
  {
   "cell_type": "code",
   "execution_count": 36,
   "metadata": {
    "ExecuteTime": {
     "end_time": "2020-05-21T00:12:24.089258Z",
     "start_time": "2020-05-21T00:12:24.056797Z"
    }
   },
   "outputs": [
    {
     "data": {
      "text/html": [
       "<div>\n",
       "<style scoped>\n",
       "    .dataframe tbody tr th:only-of-type {\n",
       "        vertical-align: middle;\n",
       "    }\n",
       "\n",
       "    .dataframe tbody tr th {\n",
       "        vertical-align: top;\n",
       "    }\n",
       "\n",
       "    .dataframe thead th {\n",
       "        text-align: right;\n",
       "    }\n",
       "</style>\n",
       "<table border=\"1\" class=\"dataframe\">\n",
       "  <thead>\n",
       "    <tr style=\"text-align: right;\">\n",
       "      <th></th>\n",
       "      <th>count</th>\n",
       "      <th>mean</th>\n",
       "      <th>std</th>\n",
       "      <th>min</th>\n",
       "      <th>25%</th>\n",
       "      <th>50%</th>\n",
       "      <th>75%</th>\n",
       "      <th>max</th>\n",
       "    </tr>\n",
       "  </thead>\n",
       "  <tbody>\n",
       "    <tr>\n",
       "      <th>Values_2</th>\n",
       "      <td>1258.0</td>\n",
       "      <td>41.056380</td>\n",
       "      <td>29.266822</td>\n",
       "      <td>0.866667</td>\n",
       "      <td>18.692778</td>\n",
       "      <td>37.602222</td>\n",
       "      <td>59.252222</td>\n",
       "      <td>126.000000</td>\n",
       "    </tr>\n",
       "    <tr>\n",
       "      <th>Values_1</th>\n",
       "      <td>1258.0</td>\n",
       "      <td>58.356008</td>\n",
       "      <td>28.007061</td>\n",
       "      <td>1.366667</td>\n",
       "      <td>37.447222</td>\n",
       "      <td>54.141667</td>\n",
       "      <td>76.490000</td>\n",
       "      <td>126.000000</td>\n",
       "    </tr>\n",
       "    <tr>\n",
       "      <th>change</th>\n",
       "      <td>1258.0</td>\n",
       "      <td>-17.299628</td>\n",
       "      <td>27.760749</td>\n",
       "      <td>-123.200000</td>\n",
       "      <td>-34.947222</td>\n",
       "      <td>-12.691111</td>\n",
       "      <td>-0.659444</td>\n",
       "      <td>96.600000</td>\n",
       "    </tr>\n",
       "    <tr>\n",
       "      <th>log_meas_1</th>\n",
       "      <td>1258.0</td>\n",
       "      <td>3.922933</td>\n",
       "      <td>0.603758</td>\n",
       "      <td>0.312375</td>\n",
       "      <td>3.622932</td>\n",
       "      <td>3.991602</td>\n",
       "      <td>4.337160</td>\n",
       "      <td>4.836282</td>\n",
       "    </tr>\n",
       "    <tr>\n",
       "      <th>log_meas_2</th>\n",
       "      <td>1258.0</td>\n",
       "      <td>3.274596</td>\n",
       "      <td>1.167925</td>\n",
       "      <td>-0.143101</td>\n",
       "      <td>2.928137</td>\n",
       "      <td>3.627063</td>\n",
       "      <td>4.081802</td>\n",
       "      <td>4.836282</td>\n",
       "    </tr>\n",
       "  </tbody>\n",
       "</table>\n",
       "</div>"
      ],
      "text/plain": [
       "             count       mean        std         min        25%        50%  \\\n",
       "Values_2    1258.0  41.056380  29.266822    0.866667  18.692778  37.602222   \n",
       "Values_1    1258.0  58.356008  28.007061    1.366667  37.447222  54.141667   \n",
       "change      1258.0 -17.299628  27.760749 -123.200000 -34.947222 -12.691111   \n",
       "log_meas_1  1258.0   3.922933   0.603758    0.312375   3.622932   3.991602   \n",
       "log_meas_2  1258.0   3.274596   1.167925   -0.143101   2.928137   3.627063   \n",
       "\n",
       "                  75%         max  \n",
       "Values_2    59.252222  126.000000  \n",
       "Values_1    76.490000  126.000000  \n",
       "change      -0.659444   96.600000  \n",
       "log_meas_1   4.337160    4.836282  \n",
       "log_meas_2   4.081802    4.836282  "
      ]
     },
     "execution_count": 36,
     "metadata": {},
     "output_type": "execute_result"
    }
   ],
   "source": [
    "#Values_2 is the mean station measurement from 1990-1992\n",
    "#Values_1 is the mean station measurement form 1983-1985\n",
    "df2.describe().T"
   ]
  },
  {
   "cell_type": "markdown",
   "metadata": {},
   "source": [
    "## plots and figures"
   ]
  },
  {
   "cell_type": "code",
   "execution_count": 37,
   "metadata": {},
   "outputs": [
    {
     "data": {
      "image/png": "[encoded data removed]",
      "text/plain": [
       "<Figure size 432x288 with 1 Axes>"
      ]
     },
     "metadata": {
      "needs_background": "light"
     },
     "output_type": "display_data"
    }
   ],
   "source": [
    "plt.hist(a, bins=20, alpha=0.5)\n",
    "plt.hist(b, bins=20, alpha=0.5);"
   ]
  },
  {
   "cell_type": "code",
   "execution_count": 38,
   "metadata": {},
   "outputs": [
    {
     "data": {
      "image/png": "[encoded data removed]",
      "text/plain": [
       "<Figure size 432x288 with 1 Axes>"
      ]
     },
     "metadata": {
      "needs_background": "light"
     },
     "output_type": "display_data"
    }
   ],
   "source": [
    "plt.hist(dy, bins=50);"
   ]
  },
  {
   "cell_type": "code",
   "execution_count": 39,
   "metadata": {},
   "outputs": [
    {
     "data": {
      "text/plain": [
       "<Figure size 252x216 with 0 Axes>"
      ]
     },
     "metadata": {},
     "output_type": "display_data"
    },
    {
     "data": {
      "image/png": "[encoded data removed]",
      "text/plain": [
       "<Figure size 432x432 with 3 Axes>"
      ]
     },
     "metadata": {
      "needs_background": "light"
     },
     "output_type": "display_data"
    }
   ],
   "source": [
    "plt.figure(figsize=(3.5,3))\n",
    "g = sns.jointplot(x=\"log_meas_1\", y=\"log_meas_2\", data=df2, kind=\"kde\", color=\"orange\")\n",
    "g.plot_joint(plt.scatter, c=\"blue\", s=30, linewidth=1, marker=\"+\", alpha=0.2)\n",
    "g.ax_joint.collections[0].set_alpha(0)\n",
    "g.set_axis_labels(f\"Log of {measure} (1980-1985)\", f\"Log of {measure} (1990-1995)\")\n",
    "plt.ylim(1, 5)\n",
    "plt.xlim(1, 5)\n",
    "plt.savefig(f'fig_{measure}_all_paired.png', dpi=400)"
   ]
  },
  {
   "cell_type": "code",
   "execution_count": 40,
   "metadata": {},
   "outputs": [
    {
     "data": {
      "image/png": "[encoded data removed]",
      "text/plain": [
       "<Figure size 288x252 with 1 Axes>"
      ]
     },
     "metadata": {
      "needs_background": "light"
     },
     "output_type": "display_data"
    }
   ],
   "source": [
    "plt.figure(figsize=(4,3.5))\n",
    "if measure=='SNWD':\n",
    "    plt.hist(df2['Values_1'].values, label='1980-1985', alpha=0.4, bins=20)#np.logspace(np.log10(10),np.log10(200), 20))\n",
    "    plt.hist(df2['Values_2'].values, label='1990-1995', alpha=0.4, bins=20)#np.logspace(np.log10(10),np.log10(200), 20))\n",
    "else:\n",
    "    plt.hist(df2['Values_1'].values, label='1980-1985', alpha=0.4, bins=np.logspace(np.log10(3),np.log10(100), 20))\n",
    "    plt.hist(df2['Values_2'].values, label='1990-1995', alpha=0.4, bins=np.logspace(np.log10(3),np.log10(100), 20))\n",
    "    plt.xscale('log')\n",
    "plt.legend(prop={'size': 12})\n",
    "plt.title(f'{measure} in the Midwestern USA\\nAvg. Station Measurement')\n",
    "plt.xlabel('millimeters')\n",
    "plt.ylabel('frequency')\n",
    "# plt.show()\n",
    "plt.tight_layout()\n",
    "plt.savefig(f'fig_{measure}_all.png', transparent=True, dpi=400)"
   ]
  },
  {
   "cell_type": "code",
   "execution_count": 41,
   "metadata": {},
   "outputs": [
    {
     "name": "stdout",
     "output_type": "stream",
     "text": [
      "numpy   1.18.1\n",
      "seaborn 0.10.0\n",
      "pandas  1.0.1\n",
      "Wed May 20 2020 18:10:06 \n",
      "\n",
      "compiler   : GCC 7.3.0\n",
      "system     : Linux\n",
      "release    : 5.4.0-7626-generic\n",
      "machine    : x86_64\n",
      "processor  : x86_64\n",
      "CPU cores  : 12\n",
      "interpreter: 64bit\n",
      "host name  : pop-os\n",
      "Git repo   : https://github.com/timtyree/dsc291team4.git\n"
     ]
    }
   ],
   "source": [
    "%watermark -iv -h -r -m -n -t"
   ]
  },
  {
   "cell_type": "code",
   "execution_count": null,
   "metadata": {},
   "outputs": [],
   "source": []
  }
 ],
 "metadata": {
  "kernelspec": {
   "display_name": "Python 3",
   "language": "python",
   "name": "python3"
  },
  "language_info": {
   "codemirror_mode": {
    "name": "ipython",
    "version": 3
   },
   "file_extension": ".py",
   "mimetype": "text/x-python",
   "name": "python",
   "nbconvert_exporter": "python",
   "pygments_lexer": "ipython3",
   "version": "3.7.6"
  },
  "varInspector": {
   "cols": {
    "lenName": 16,
    "lenType": 16,
    "lenVar": 40
   },
   "kernels_config": {
    "python": {
     "delete_cmd_postfix": "",
     "delete_cmd_prefix": "del ",
     "library": "var_list.py",
     "varRefreshCmd": "print(var_dic_list())"
    },
    "r": {
     "delete_cmd_postfix": ") ",
     "delete_cmd_prefix": "rm(",
     "library": "var_list.r",
     "varRefreshCmd": "cat(var_dic_list()) "
    }
   },
   "types_to_exclude": [
    "module",
    "function",
    "builtin_function_or_method",
    "instance",
    "_Feature"
   ],
   "window_display": false
  }
 },
 "nbformat": 4,
 "nbformat_minor": 4
}
