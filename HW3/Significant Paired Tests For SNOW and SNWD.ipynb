{
 "cells": [
  {
   "cell_type": "code",
   "execution_count": 93,
   "metadata": {
    "ExecuteTime": {
     "end_time": "2020-05-22T23:13:19.308384Z",
     "start_time": "2020-05-22T23:13:19.281619Z"
    }
   },
   "outputs": [
    {
     "name": "stdout",
     "output_type": "stream",
     "text": [
      "The watermark extension is already loaded. To reload it, use:\n",
      "  %reload_ext watermark\n",
      "Automatic calling is: Smart\n"
     ]
    }
   ],
   "source": [
    "import pandas as pd, numpy as np, os\n",
    "from scipy import stats\n",
    "import matplotlib.pyplot as plt\n",
    "import seaborn as sns\n",
    "if 'nb_dir' not in globals():\n",
    "    nb_dir=os.getcwd()\n",
    "    \n",
    "%load_ext watermark\n",
    "%autocall"
   ]
  },
  {
   "cell_type": "markdown",
   "metadata": {},
   "source": [
    "# Significant Paired Tests for Snowfall in the Midwest\n",
    "*Spatial autocorrelation not considered, thought the results are otherwise compelling. Run all cells with measure=\"SNWD\" for snowdepth or with measure=\"SNOW\" for snowfall (in millimeters).*"
   ]
  },
  {
   "cell_type": "code",
   "execution_count": 94,
   "metadata": {
    "ExecuteTime": {
     "end_time": "2020-05-22T23:13:26.781186Z",
     "start_time": "2020-05-22T23:13:19.330053Z"
    }
   },
   "outputs": [
    {
     "name": "stdout",
     "output_type": "stream",
     "text": [
      "States considered herein are {'MN', 'SD', 'KS', 'ND', 'IA', 'TX', 'NE', 'OK'}.\n"
     ]
    }
   ],
   "source": [
    "os.chdir(nb_dir)\n",
    "measure = \"SNWD\"\n",
    "# measure = \"SNOW\"\n",
    "data_dir = f\"Data/{measure}-All-States.xlsx\"\n",
    "df_raw = pd.read_excel(data_dir)\n",
    "\n",
    "#define queries for northern/southern plains\n",
    "print(f\"States considered herein are {set(df_raw.state.values)}.\")\n",
    "qN = 'state is IA or state is ND or state is SD or state is MN or state is NE'\n",
    "qS = 'state == TX | state == OK | state == KS'\n",
    "booN =  (df_raw.state=='IA') | \\\n",
    "        (df_raw.state=='ND') | \\\n",
    "        (df_raw.state=='SD') | \\\n",
    "        (df_raw.state=='MN') | \\\n",
    "        (df_raw.state=='NE')\n",
    "booS =  (df_raw.state=='TX') | \\\n",
    "        (df_raw.state=='KS') | \\\n",
    "        (df_raw.state=='OK') \n",
    "\n",
    "os.chdir('hw3_imgs/fig')"
   ]
  },
  {
   "cell_type": "markdown",
   "metadata": {},
   "source": [
    "__Example Results Section__: (this may be madlib'd for each section/region in a straightforward way)<br>\n",
    "In the Northern Plains, the average weather station measurement of SNOW took a median value of 12 mm (IQR: 9.4-18 mm) from 1990-1995, which was less than that same value measured from 1980-1985, which took a median value of 16 mm (IQR: 11-30 mm), consistent with a significant distributional difference ($p<0.0001$, $U\\approx6.8\\cdot10^4$, $N_\\text{stations}=694$) we found according to a Wilcoxon signed-rank test, which is a nonparametric paired test that does not assumed normality of the data.  This result is consistent with a paired student's t-test ($p<0.0001$, $t\\approx9.5$, $N_\\text{stations}=694$), which does make normality assumptions for the underlaying distribution of SNOW measurements.  This comparative test was repeated with various other choices for time intervals, and the results were consistent.  These tests were repeated for snow depth measurements (SNWD), which yielded consistently significant ($p<0.0001$) results, which are discussed in the following paragraph.\n",
    "\n",
    "In the Northern Plains, the average weather station measurement of SNWD took a median value of 55 mm (IQR: 38-76 mm) from 1990-1995, which was less than that same value measured from 1980-1985, which took a median value of 16 mm (IQR: 11-30 mm), consistent with a significant distributional difference ($p<0.0001$, $U\\approx7.0\\cdot10^4$, $N_\\text{stations}=693$) we found according to a Mann-Whitney U test, which is a nonparametric paired test that does not assumed normality of the data.  This result is consistent with a paired student's t-test ($p<0.0001$, $t\\approx9.7$, $N_\\text{stations}=693$), which does make normality assumptions for the underlaying distribution of SNOW measurements.  This comparative test was repeated with various other choices for time intervals, and the results were consistent.  \n",
    "\n",
    "__Caveat__:<br>\n",
    "Both statistical tests assume statistically independent observation pairs.  We would expect observations to be autocorrelated spatially.  Therefore, a statistical test that considers spatial autocorrelation is necessary to prove *beyond a reasonable doubt* that snowfall has decreased between the periods 1980-1985 and 1990-1995.\n",
    "\n",
    "__Nota Bene__:<br>\n",
    "The following [assumptions](https://en.wikipedia.org/wiki/Wilcoxon_signed-rank_test) are made for the Wilcoxon signed-rank test — not all of which are met here:\n",
    " - Data are paired and come from the same population.\n",
    " - Each pair is chosen randomly and independently[citation needed].\n",
    " - The data are measured on at least an interval scale when, as is usual, within-pair differences are calculated to perform the test (though it does suffice that within-pair comparisons are on an ordinal scale)."
   ]
  },
  {
   "cell_type": "markdown",
   "metadata": {},
   "source": [
    "# SNOW/SNWD in the Northern Plains"
   ]
  },
  {
   "cell_type": "markdown",
   "metadata": {},
   "source": [
    "## compute results"
   ]
  },
  {
   "cell_type": "code",
   "execution_count": 95,
   "metadata": {
    "ExecuteTime": {
     "end_time": "2020-05-22T23:13:26.840175Z",
     "start_time": "2020-05-22T23:13:26.785805Z"
    }
   },
   "outputs": [],
   "source": [
    "q1 = '1970 <= Year < 1980  and Values>0'\n",
    "q2 = '2000 <= Year < 2010  and Values>0'\n",
    "stringa = '1970-1980'\n",
    "stringb = '2000-2010'\n",
    "df = df_raw[booN].copy()\n",
    "set1 = df.query(q1).groupby('Station')[['Station','Values', 'state']].mean()\n",
    "set2 = df.query(q2).groupby('Station')[['Station','Values', 'state']].mean()"
   ]
  },
  {
   "cell_type": "code",
   "execution_count": 96,
   "metadata": {
    "ExecuteTime": {
     "end_time": "2020-05-22T23:13:26.888293Z",
     "start_time": "2020-05-22T23:13:26.844666Z"
    }
   },
   "outputs": [],
   "source": [
    "df2 = set2.rename(columns={'Values':\"Values_2\"})\n",
    "df2['Values_1'] = set1['Values']\n",
    "df2.dropna(inplace=True)\n",
    "df2['change'] = df2['Values_2'] - df2['Values_1']\n",
    "df2['log_meas_1'] = np.log(df2['Values_1'])\n",
    "df2['log_meas_2'] = np.log(df2['Values_2'])"
   ]
  },
  {
   "cell_type": "code",
   "execution_count": 97,
   "metadata": {
    "ExecuteTime": {
     "end_time": "2020-05-22T23:13:26.911445Z",
     "start_time": "2020-05-22T23:13:26.898471Z"
    }
   },
   "outputs": [],
   "source": [
    "a = df2.Values_1\n",
    "b = df2.Values_2"
   ]
  },
  {
   "cell_type": "markdown",
   "metadata": {},
   "source": []
  },
  {
   "cell_type": "code",
   "execution_count": 98,
   "metadata": {
    "ExecuteTime": {
     "end_time": "2020-05-22T23:13:26.929195Z",
     "start_time": "2020-05-22T23:13:26.919070Z"
    }
   },
   "outputs": [
    {
     "name": "stdout",
     "output_type": "stream",
     "text": [
      "Number of stations considered in northern plains = 662\n",
      "measurement is SNWD.\n"
     ]
    }
   ],
   "source": [
    "assert(len(a)==len(b))\n",
    "print(f'Number of stations considered in northern plains = {len(a)}')\n",
    "print(f\"measurement is {measure}.\")"
   ]
  },
  {
   "cell_type": "code",
   "execution_count": 99,
   "metadata": {
    "ExecuteTime": {
     "end_time": "2020-05-22T23:13:26.949292Z",
     "start_time": "2020-05-22T23:13:26.933312Z"
    }
   },
   "outputs": [
    {
     "data": {
      "text/plain": [
       "WilcoxonResult(statistic=51492.5, pvalue=2.7280503978193235e-32)"
      ]
     },
     "execution_count": 99,
     "metadata": {},
     "output_type": "execute_result"
    }
   ],
   "source": [
    "dy = df2['change'].values\n",
    "stats.wilcoxon(dy)"
   ]
  },
  {
   "cell_type": "code",
   "execution_count": 100,
   "metadata": {
    "ExecuteTime": {
     "end_time": "2020-05-22T23:13:26.961257Z",
     "start_time": "2020-05-22T23:13:26.954083Z"
    }
   },
   "outputs": [
    {
     "data": {
      "text/plain": [
       "WilcoxonResult(statistic=51492.5, pvalue=2.7280503978193235e-32)"
      ]
     },
     "execution_count": 100,
     "metadata": {},
     "output_type": "execute_result"
    }
   ],
   "source": [
    "stats.wilcoxon(a,b)"
   ]
  },
  {
   "cell_type": "code",
   "execution_count": 101,
   "metadata": {
    "ExecuteTime": {
     "end_time": "2020-05-22T23:13:26.980379Z",
     "start_time": "2020-05-22T23:13:26.965848Z"
    }
   },
   "outputs": [
    {
     "data": {
      "text/plain": [
       "Ttest_relResult(statistic=11.465727856990693, pvalue=6.959362750433094e-28)"
      ]
     },
     "execution_count": 101,
     "metadata": {},
     "output_type": "execute_result"
    }
   ],
   "source": [
    "stats.ttest_rel(a,b)"
   ]
  },
  {
   "cell_type": "code",
   "execution_count": 102,
   "metadata": {
    "ExecuteTime": {
     "end_time": "2020-05-22T23:13:27.055733Z",
     "start_time": "2020-05-22T23:13:26.989761Z"
    }
   },
   "outputs": [
    {
     "data": {
      "text/html": [
       "<div>\n",
       "<style scoped>\n",
       "    .dataframe tbody tr th:only-of-type {\n",
       "        vertical-align: middle;\n",
       "    }\n",
       "\n",
       "    .dataframe tbody tr th {\n",
       "        vertical-align: top;\n",
       "    }\n",
       "\n",
       "    .dataframe thead th {\n",
       "        text-align: right;\n",
       "    }\n",
       "</style>\n",
       "<table border=\"1\" class=\"dataframe\">\n",
       "  <thead>\n",
       "    <tr style=\"text-align: right;\">\n",
       "      <th></th>\n",
       "      <th>count</th>\n",
       "      <th>mean</th>\n",
       "      <th>std</th>\n",
       "      <th>min</th>\n",
       "      <th>25%</th>\n",
       "      <th>50%</th>\n",
       "      <th>75%</th>\n",
       "      <th>max</th>\n",
       "    </tr>\n",
       "  </thead>\n",
       "  <tbody>\n",
       "    <tr>\n",
       "      <th>Values_2</th>\n",
       "      <td>662.0</td>\n",
       "      <td>58.630820</td>\n",
       "      <td>26.049743</td>\n",
       "      <td>1.733333</td>\n",
       "      <td>37.248333</td>\n",
       "      <td>54.894444</td>\n",
       "      <td>77.637500</td>\n",
       "      <td>126.000000</td>\n",
       "    </tr>\n",
       "    <tr>\n",
       "      <th>Values_1</th>\n",
       "      <td>662.0</td>\n",
       "      <td>68.864153</td>\n",
       "      <td>23.228704</td>\n",
       "      <td>17.327778</td>\n",
       "      <td>50.478889</td>\n",
       "      <td>68.896111</td>\n",
       "      <td>84.795556</td>\n",
       "      <td>126.000000</td>\n",
       "    </tr>\n",
       "    <tr>\n",
       "      <th>change</th>\n",
       "      <td>662.0</td>\n",
       "      <td>-10.233333</td>\n",
       "      <td>22.963837</td>\n",
       "      <td>-91.145185</td>\n",
       "      <td>-21.212778</td>\n",
       "      <td>-9.849444</td>\n",
       "      <td>1.272500</td>\n",
       "      <td>91.726667</td>\n",
       "    </tr>\n",
       "    <tr>\n",
       "      <th>log_meas_1</th>\n",
       "      <td>662.0</td>\n",
       "      <td>4.169330</td>\n",
       "      <td>0.368056</td>\n",
       "      <td>2.852311</td>\n",
       "      <td>3.921555</td>\n",
       "      <td>4.232600</td>\n",
       "      <td>4.440243</td>\n",
       "      <td>4.836282</td>\n",
       "    </tr>\n",
       "    <tr>\n",
       "      <th>log_meas_2</th>\n",
       "      <td>662.0</td>\n",
       "      <td>3.966069</td>\n",
       "      <td>0.478476</td>\n",
       "      <td>0.550046</td>\n",
       "      <td>3.617607</td>\n",
       "      <td>4.005409</td>\n",
       "      <td>4.352051</td>\n",
       "      <td>4.836282</td>\n",
       "    </tr>\n",
       "  </tbody>\n",
       "</table>\n",
       "</div>"
      ],
      "text/plain": [
       "            count       mean        std        min        25%        50%  \\\n",
       "Values_2    662.0  58.630820  26.049743   1.733333  37.248333  54.894444   \n",
       "Values_1    662.0  68.864153  23.228704  17.327778  50.478889  68.896111   \n",
       "change      662.0 -10.233333  22.963837 -91.145185 -21.212778  -9.849444   \n",
       "log_meas_1  662.0   4.169330   0.368056   2.852311   3.921555   4.232600   \n",
       "log_meas_2  662.0   3.966069   0.478476   0.550046   3.617607   4.005409   \n",
       "\n",
       "                  75%         max  \n",
       "Values_2    77.637500  126.000000  \n",
       "Values_1    84.795556  126.000000  \n",
       "change       1.272500   91.726667  \n",
       "log_meas_1   4.440243    4.836282  \n",
       "log_meas_2   4.352051    4.836282  "
      ]
     },
     "execution_count": 102,
     "metadata": {},
     "output_type": "execute_result"
    }
   ],
   "source": [
    "df2.describe().T"
   ]
  },
  {
   "cell_type": "markdown",
   "metadata": {
    "heading_collapsed": true
   },
   "source": [
    "## plots and figures"
   ]
  },
  {
   "cell_type": "code",
   "execution_count": 103,
   "metadata": {
    "ExecuteTime": {
     "end_time": "2020-05-22T23:13:27.633529Z",
     "start_time": "2020-05-22T23:13:27.060250Z"
    },
    "hidden": true
   },
   "outputs": [
    {
     "data": {
      "image/png": "[encoded data removed]",
      "text/plain": [
       "<Figure size 432x288 with 1 Axes>"
      ]
     },
     "metadata": {
      "needs_background": "light"
     },
     "output_type": "display_data"
    }
   ],
   "source": [
    "plt.hist(a, bins=20, alpha=0.5)\n",
    "plt.hist(b, bins=20, alpha=0.5);"
   ]
  },
  {
   "cell_type": "code",
   "execution_count": 104,
   "metadata": {
    "ExecuteTime": {
     "end_time": "2020-05-22T23:13:27.950445Z",
     "start_time": "2020-05-22T23:13:27.636798Z"
    },
    "hidden": true
   },
   "outputs": [
    {
     "data": {
      "image/png": "[encoded data removed]",
      "text/plain": [
       "<Figure size 432x288 with 1 Axes>"
      ]
     },
     "metadata": {
      "needs_background": "light"
     },
     "output_type": "display_data"
    }
   ],
   "source": [
    "plt.hist(dy, bins=50);"
   ]
  },
  {
   "cell_type": "code",
   "execution_count": 105,
   "metadata": {
    "ExecuteTime": {
     "end_time": "2020-05-22T23:13:27.954354Z",
     "start_time": "2020-05-22T23:13:27.952099Z"
    },
    "hidden": true
   },
   "outputs": [],
   "source": [
    "# g = sns.jointplot(x=\"log_meas_1\", y=\"log_meas_2\", data=df2, s=3)\n",
    "# g = sns.jointplot(x=\"log_meas_1\", y=\"log_meas_2\", data=df2, kind='hex', color='k')"
   ]
  },
  {
   "cell_type": "code",
   "execution_count": 106,
   "metadata": {
    "ExecuteTime": {
     "end_time": "2020-05-22T23:13:30.921285Z",
     "start_time": "2020-05-22T23:13:27.956202Z"
    },
    "hidden": true
   },
   "outputs": [
    {
     "data": {
      "text/plain": [
       "<Figure size 252x216 with 0 Axes>"
      ]
     },
     "metadata": {},
     "output_type": "display_data"
    },
    {
     "data": {
      "image/png": "[encoded data removed]",
      "text/plain": [
       "<Figure size 432x432 with 3 Axes>"
      ]
     },
     "metadata": {
      "needs_background": "light"
     },
     "output_type": "display_data"
    }
   ],
   "source": [
    "plt.figure(figsize=(3.5,3))\n",
    "g = sns.jointplot(x=\"log_meas_1\", y=\"log_meas_2\", data=df2, kind=\"kde\", color=\"orange\")\n",
    "g.plot_joint(plt.scatter, c=\"blue\", s=30, linewidth=1, marker=\"+\", alpha=0.2)\n",
    "g.ax_joint.collections[0].set_alpha(0)\n",
    "g.set_axis_labels(f\"Log of {measure} ({stringa})\", f\"Log of {measure} ({stringb})\")\n",
    "plt.ylim(1, 5)\n",
    "plt.xlim(1, 5)\n",
    "plt.savefig(f'fig_{measure}_NP_paired.png', dpi=400)"
   ]
  },
  {
   "cell_type": "code",
   "execution_count": 107,
   "metadata": {
    "ExecuteTime": {
     "end_time": "2020-05-22T23:13:30.925289Z",
     "start_time": "2020-05-22T23:13:30.922795Z"
    },
    "hidden": true
   },
   "outputs": [],
   "source": [
    "# # Plot formatting\n",
    "# sns.distplot(df2['Values_1'],  kde=False, label='1980-1985', bins=30)\n",
    "# sns.distplot(df2['Values_2'],  kde=False, label='1990-1995', bins=30)\n",
    "# plt.legend(prop={'size': 12})\n",
    "# plt.title('Average Station SNOW Measurement\\nin the Northern Plains')\n",
    "# plt.xlabel('mm')\n",
    "# plt.xscale('log')\n",
    "# plt.ylabel('frequency')"
   ]
  },
  {
   "cell_type": "code",
   "execution_count": 108,
   "metadata": {
    "ExecuteTime": {
     "end_time": "2020-05-22T23:13:31.674087Z",
     "start_time": "2020-05-22T23:13:30.926767Z"
    },
    "hidden": true
   },
   "outputs": [
    {
     "data": {
      "image/png": "[encoded data removed]",
      "text/plain": [
       "<Figure size 252x252 with 1 Axes>"
      ]
     },
     "metadata": {
      "needs_background": "light"
     },
     "output_type": "display_data"
    }
   ],
   "source": [
    "plt.figure(figsize=(3.5,3.5))\n",
    "if measure=='SNWD':\n",
    "    plt.hist(df2['Values_1'].values, label=stringa, alpha=0.4, bins=20)#np.logspace(np.log10(10),np.log10(200), 20))\n",
    "    plt.hist(df2['Values_2'].values, label=stringb, alpha=0.4, bins=20)#np.logspace(np.log10(10),np.log10(200), 20))\n",
    "\n",
    "#     plt.hist(df2['Values_1'].values, label='1980-1985', alpha=0.4, bins=20)#np.logspace(np.log10(10),np.log10(200), 20))\n",
    "#     plt.hist(df2['Values_2'].values, label='1990-1995', alpha=0.4, bins=20)#np.logspace(np.log10(10),np.log10(200), 20))\n",
    "else:\n",
    "    plt.hist(df2['Values_1'].values, label=stringa, alpha=0.4, bins=np.logspace(np.log10(3),np.log10(100), 20))\n",
    "    plt.hist(df2['Values_2'].values, label=stringb, alpha=0.4, bins=np.logspace(np.log10(3),np.log10(100), 20))\n",
    "    plt.xscale('log')\n",
    "plt.legend(prop={'size': 12})\n",
    "plt.title(f'{measure} in the Northern Plains\\nAvg. Station Measurement')\n",
    "plt.xlabel('millimeters')\n",
    "plt.ylabel('frequency')\n",
    "# plt.show()\n",
    "plt.tight_layout()\n",
    "plt.savefig(f'fig_{measure}_NP.png', transparent=True, dpi=400)"
   ]
  },
  {
   "cell_type": "markdown",
   "metadata": {},
   "source": [
    "# SNOW/SNWD in the Southern Plains"
   ]
  },
  {
   "cell_type": "markdown",
   "metadata": {},
   "source": [
    "## compute results"
   ]
  },
  {
   "cell_type": "code",
   "execution_count": 109,
   "metadata": {
    "ExecuteTime": {
     "end_time": "2020-05-22T23:13:31.703142Z",
     "start_time": "2020-05-22T23:13:31.675923Z"
    }
   },
   "outputs": [],
   "source": [
    "# q1 = '1980 <= Year < 1985  and Values>0'\n",
    "# q2 = '1990 <= Year < 1995  and Values>0'\n",
    "df = df_raw[booS].copy()\n",
    "set1 = df.query(q1).groupby('Station')[['Station','Values', 'state']].mean()\n",
    "set2 = df.query(q2).groupby('Station')[['Station','Values', 'state']].mean()"
   ]
  },
  {
   "cell_type": "code",
   "execution_count": 110,
   "metadata": {
    "ExecuteTime": {
     "end_time": "2020-05-22T23:13:31.715078Z",
     "start_time": "2020-05-22T23:13:31.705424Z"
    }
   },
   "outputs": [],
   "source": [
    "df2 = set2.rename(columns={'Values':\"Values_2\"})\n",
    "df2['Values_1'] = set1['Values']\n",
    "df2.dropna(inplace=True)\n",
    "df2['change'] = df2['Values_2'] - df2['Values_1']\n",
    "df2['log_meas_1'] = np.log(df2['Values_1'])\n",
    "df2['log_meas_2'] = np.log(df2['Values_2'])"
   ]
  },
  {
   "cell_type": "code",
   "execution_count": 111,
   "metadata": {
    "ExecuteTime": {
     "end_time": "2020-05-22T23:13:31.720923Z",
     "start_time": "2020-05-22T23:13:31.716949Z"
    }
   },
   "outputs": [],
   "source": [
    "a = df2.Values_1\n",
    "b = df2.Values_2"
   ]
  },
  {
   "cell_type": "code",
   "execution_count": 112,
   "metadata": {
    "ExecuteTime": {
     "end_time": "2020-05-22T23:13:31.727960Z",
     "start_time": "2020-05-22T23:13:31.723302Z"
    }
   },
   "outputs": [
    {
     "name": "stdout",
     "output_type": "stream",
     "text": [
      "Number of stations considered in southern plains = 598\n",
      "measurement is SNWD.\n"
     ]
    }
   ],
   "source": [
    "assert(len(a)==len(b))\n",
    "print(f'Number of stations considered in southern plains = {len(a)}')\n",
    "print(f\"measurement is {measure}.\")"
   ]
  },
  {
   "cell_type": "code",
   "execution_count": 113,
   "metadata": {
    "ExecuteTime": {
     "end_time": "2020-05-22T23:13:31.736466Z",
     "start_time": "2020-05-22T23:13:31.729767Z"
    }
   },
   "outputs": [
    {
     "data": {
      "text/plain": [
       "WilcoxonResult(statistic=59103.5, pvalue=1.2693205437148547e-12)"
      ]
     },
     "execution_count": 113,
     "metadata": {},
     "output_type": "execute_result"
    }
   ],
   "source": [
    "dy = df2['change'].values\n",
    "stats.wilcoxon(dy)"
   ]
  },
  {
   "cell_type": "code",
   "execution_count": 114,
   "metadata": {
    "ExecuteTime": {
     "end_time": "2020-05-22T23:13:31.744065Z",
     "start_time": "2020-05-22T23:13:31.738685Z"
    }
   },
   "outputs": [
    {
     "data": {
      "text/plain": [
       "WilcoxonResult(statistic=59103.5, pvalue=1.2693205437148547e-12)"
      ]
     },
     "execution_count": 114,
     "metadata": {},
     "output_type": "execute_result"
    }
   ],
   "source": [
    "stats.wilcoxon(a,b)"
   ]
  },
  {
   "cell_type": "code",
   "execution_count": 115,
   "metadata": {
    "ExecuteTime": {
     "end_time": "2020-05-22T23:13:31.753451Z",
     "start_time": "2020-05-22T23:13:31.746459Z"
    }
   },
   "outputs": [
    {
     "data": {
      "text/plain": [
       "Ttest_relResult(statistic=4.556472400425189, pvalue=6.310756497301814e-06)"
      ]
     },
     "execution_count": 115,
     "metadata": {},
     "output_type": "execute_result"
    }
   ],
   "source": [
    "stats.ttest_rel(a,b)"
   ]
  },
  {
   "cell_type": "code",
   "execution_count": 116,
   "metadata": {
    "ExecuteTime": {
     "end_time": "2020-05-22T23:13:31.939913Z",
     "start_time": "2020-05-22T23:13:31.758970Z"
    }
   },
   "outputs": [
    {
     "data": {
      "text/html": [
       "<div>\n",
       "<style scoped>\n",
       "    .dataframe tbody tr th:only-of-type {\n",
       "        vertical-align: middle;\n",
       "    }\n",
       "\n",
       "    .dataframe tbody tr th {\n",
       "        vertical-align: top;\n",
       "    }\n",
       "\n",
       "    .dataframe thead th {\n",
       "        text-align: right;\n",
       "    }\n",
       "</style>\n",
       "<table border=\"1\" class=\"dataframe\">\n",
       "  <thead>\n",
       "    <tr style=\"text-align: right;\">\n",
       "      <th></th>\n",
       "      <th>count</th>\n",
       "      <th>mean</th>\n",
       "      <th>std</th>\n",
       "      <th>min</th>\n",
       "      <th>25%</th>\n",
       "      <th>50%</th>\n",
       "      <th>75%</th>\n",
       "      <th>max</th>\n",
       "    </tr>\n",
       "  </thead>\n",
       "  <tbody>\n",
       "    <tr>\n",
       "      <th>Values_2</th>\n",
       "      <td>598.0</td>\n",
       "      <td>25.498027</td>\n",
       "      <td>24.539961</td>\n",
       "      <td>0.866667</td>\n",
       "      <td>10.389931</td>\n",
       "      <td>18.885679</td>\n",
       "      <td>31.270139</td>\n",
       "      <td>126.000000</td>\n",
       "    </tr>\n",
       "    <tr>\n",
       "      <th>Values_1</th>\n",
       "      <td>598.0</td>\n",
       "      <td>32.176817</td>\n",
       "      <td>23.639319</td>\n",
       "      <td>0.866667</td>\n",
       "      <td>15.298333</td>\n",
       "      <td>28.000000</td>\n",
       "      <td>43.400000</td>\n",
       "      <td>126.000000</td>\n",
       "    </tr>\n",
       "    <tr>\n",
       "      <th>change</th>\n",
       "      <td>598.0</td>\n",
       "      <td>-6.678791</td>\n",
       "      <td>35.844266</td>\n",
       "      <td>-125.133333</td>\n",
       "      <td>-25.697500</td>\n",
       "      <td>-7.441173</td>\n",
       "      <td>6.737531</td>\n",
       "      <td>125.133333</td>\n",
       "    </tr>\n",
       "    <tr>\n",
       "      <th>log_meas_1</th>\n",
       "      <td>598.0</td>\n",
       "      <td>3.133178</td>\n",
       "      <td>0.952488</td>\n",
       "      <td>-0.143101</td>\n",
       "      <td>2.727682</td>\n",
       "      <td>3.332205</td>\n",
       "      <td>3.770459</td>\n",
       "      <td>4.836282</td>\n",
       "    </tr>\n",
       "    <tr>\n",
       "      <th>log_meas_2</th>\n",
       "      <td>598.0</td>\n",
       "      <td>2.843218</td>\n",
       "      <td>0.948517</td>\n",
       "      <td>-0.143101</td>\n",
       "      <td>2.340836</td>\n",
       "      <td>2.938404</td>\n",
       "      <td>3.442664</td>\n",
       "      <td>4.836282</td>\n",
       "    </tr>\n",
       "  </tbody>\n",
       "</table>\n",
       "</div>"
      ],
      "text/plain": [
       "            count       mean        std         min        25%        50%  \\\n",
       "Values_2    598.0  25.498027  24.539961    0.866667  10.389931  18.885679   \n",
       "Values_1    598.0  32.176817  23.639319    0.866667  15.298333  28.000000   \n",
       "change      598.0  -6.678791  35.844266 -125.133333 -25.697500  -7.441173   \n",
       "log_meas_1  598.0   3.133178   0.952488   -0.143101   2.727682   3.332205   \n",
       "log_meas_2  598.0   2.843218   0.948517   -0.143101   2.340836   2.938404   \n",
       "\n",
       "                  75%         max  \n",
       "Values_2    31.270139  126.000000  \n",
       "Values_1    43.400000  126.000000  \n",
       "change       6.737531  125.133333  \n",
       "log_meas_1   3.770459    4.836282  \n",
       "log_meas_2   3.442664    4.836282  "
      ]
     },
     "execution_count": 116,
     "metadata": {},
     "output_type": "execute_result"
    }
   ],
   "source": [
    "df2.describe().T"
   ]
  },
  {
   "cell_type": "markdown",
   "metadata": {},
   "source": [
    "## plots and figures"
   ]
  },
  {
   "cell_type": "code",
   "execution_count": 117,
   "metadata": {
    "ExecuteTime": {
     "end_time": "2020-05-22T23:13:32.186490Z",
     "start_time": "2020-05-22T23:13:31.943504Z"
    }
   },
   "outputs": [
    {
     "data": {
      "image/png": "[encoded data removed]",
      "text/plain": [
       "<Figure size 432x288 with 1 Axes>"
      ]
     },
     "metadata": {
      "needs_background": "light"
     },
     "output_type": "display_data"
    }
   ],
   "source": [
    "plt.hist(a, bins=20, alpha=0.5)\n",
    "plt.hist(b, bins=20, alpha=0.5);"
   ]
  },
  {
   "cell_type": "code",
   "execution_count": 118,
   "metadata": {
    "ExecuteTime": {
     "end_time": "2020-05-22T23:13:32.427985Z",
     "start_time": "2020-05-22T23:13:32.187912Z"
    }
   },
   "outputs": [
    {
     "data": {
      "image/png": "[encoded data removed]",
      "text/plain": [
       "<Figure size 432x288 with 1 Axes>"
      ]
     },
     "metadata": {
      "needs_background": "light"
     },
     "output_type": "display_data"
    }
   ],
   "source": [
    "plt.hist(dy, bins=50);"
   ]
  },
  {
   "cell_type": "code",
   "execution_count": 119,
   "metadata": {
    "ExecuteTime": {
     "end_time": "2020-05-22T23:13:35.246312Z",
     "start_time": "2020-05-22T23:13:32.429735Z"
    }
   },
   "outputs": [
    {
     "data": {
      "text/plain": [
       "<Figure size 252x216 with 0 Axes>"
      ]
     },
     "metadata": {},
     "output_type": "display_data"
    },
    {
     "data": {
      "image/png": "[encoded data removed]",
      "text/plain": [
       "<Figure size 432x432 with 3 Axes>"
      ]
     },
     "metadata": {
      "needs_background": "light"
     },
     "output_type": "display_data"
    }
   ],
   "source": [
    "plt.figure(figsize=(3.5,3))\n",
    "g = sns.jointplot(x=\"log_meas_1\", y=\"log_meas_2\", data=df2.fillna(1), kind=\"kde\", color=\"orange\")\n",
    "g.plot_joint(plt.scatter, c=\"blue\", s=30, linewidth=1, marker=\"+\", alpha=0.2)\n",
    "g.ax_joint.collections[0].set_alpha(0)\n",
    "g.set_axis_labels(f\"Log of {measure} ({stringa})\", f\"Log of {measure} ({stringb})\")\n",
    "plt.ylim(1, 5)\n",
    "plt.xlim(1, 5)\n",
    "plt.savefig(f'fig_{measure}_SP_paired.png', dpi=400)"
   ]
  },
  {
   "cell_type": "code",
   "execution_count": 120,
   "metadata": {
    "ExecuteTime": {
     "end_time": "2020-05-22T23:13:36.832780Z",
     "start_time": "2020-05-22T23:13:35.251516Z"
    }
   },
   "outputs": [
    {
     "data": {
      "image/png": "[encoded data removed]",
      "text/plain": [
       "<Figure size 252x252 with 1 Axes>"
      ]
     },
     "metadata": {
      "needs_background": "light"
     },
     "output_type": "display_data"
    }
   ],
   "source": [
    "plt.figure(figsize=(3.5,3.5))\n",
    "if measure=='SNWD':\n",
    "    plt.hist(df2['Values_1'].values, label=stringa, alpha=0.4, bins=20)#np.logspace(np.log10(10),np.log10(200), 20))\n",
    "    plt.hist(df2['Values_2'].values, label=stringb, alpha=0.4, bins=20)#np.logspace(np.log10(10),np.log10(200), 20))\n",
    "else:\n",
    "    plt.hist(df2['Values_1'].values, label=stringa, alpha=0.4, bins=np.logspace(np.log10(3),np.log10(100), 20))\n",
    "    plt.hist(df2['Values_2'].values, label=stringb, alpha=0.4, bins=np.logspace(np.log10(3),np.log10(100), 20))\n",
    "    plt.xscale('log')\n",
    "plt.legend(prop={'size': 12})\n",
    "plt.title(f'{measure} in the Southern Plains\\nAvg. Station Measurement')\n",
    "plt.xlabel('millimeters')\n",
    "plt.ylabel('frequency')\n",
    "# plt.show()\n",
    "plt.tight_layout()\n",
    "plt.savefig(f'fig_{measure}_SP.png', transparent=True, dpi=400)"
   ]
  },
  {
   "cell_type": "markdown",
   "metadata": {},
   "source": [
    "# Now for both"
   ]
  },
  {
   "cell_type": "markdown",
   "metadata": {},
   "source": [
    "## compute results"
   ]
  },
  {
   "cell_type": "code",
   "execution_count": 121,
   "metadata": {
    "ExecuteTime": {
     "end_time": "2020-05-22T23:13:36.882622Z",
     "start_time": "2020-05-22T23:13:36.834572Z"
    }
   },
   "outputs": [],
   "source": [
    "# q1 = '1980 <= Year < 1985 and Values>0'\n",
    "# q2 = '1990 <= Year < 1995 and Values>0'\n",
    "df = df_raw.copy()\n",
    "set1 = df.query(q1).groupby('Station')[['Station','Values', 'state']].mean()\n",
    "set2 = df.query(q2).groupby('Station')[['Station','Values', 'state']].mean()"
   ]
  },
  {
   "cell_type": "code",
   "execution_count": 122,
   "metadata": {
    "ExecuteTime": {
     "end_time": "2020-05-22T23:13:36.905097Z",
     "start_time": "2020-05-22T23:13:36.887289Z"
    }
   },
   "outputs": [],
   "source": [
    "df2 = set2.rename(columns={'Values':\"Values_2\"})\n",
    "df2['Values_1'] = set1['Values']\n",
    "df2.dropna(inplace=True)\n",
    "df2['change'] = df2['Values_2'] - df2['Values_1']\n",
    "df2['log_meas_1'] = np.log(df2['Values_1'])\n",
    "df2['log_meas_2'] = np.log(df2['Values_2'])"
   ]
  },
  {
   "cell_type": "code",
   "execution_count": 123,
   "metadata": {
    "ExecuteTime": {
     "end_time": "2020-05-22T23:13:36.911604Z",
     "start_time": "2020-05-22T23:13:36.907190Z"
    }
   },
   "outputs": [],
   "source": [
    "a = df2.Values_1#Values_1 is the mean station measurement form 1980-1985\n",
    "b = df2.Values_2#Values_2 is the mean station measurement from 1990-1995"
   ]
  },
  {
   "cell_type": "code",
   "execution_count": 124,
   "metadata": {
    "ExecuteTime": {
     "end_time": "2020-05-22T23:13:36.921265Z",
     "start_time": "2020-05-22T23:13:36.915406Z"
    }
   },
   "outputs": [
    {
     "name": "stdout",
     "output_type": "stream",
     "text": [
      "Number of stations considered in the whole midwest = 1260\n",
      "measurement is SNWD.\n"
     ]
    }
   ],
   "source": [
    "assert(len(a)==len(b))\n",
    "print(f'Number of stations considered in the whole midwest = {len(a)}')\n",
    "print(f\"measurement is {measure}.\")"
   ]
  },
  {
   "cell_type": "code",
   "execution_count": 125,
   "metadata": {
    "ExecuteTime": {
     "end_time": "2020-05-22T23:13:36.931533Z",
     "start_time": "2020-05-22T23:13:36.923901Z"
    }
   },
   "outputs": [
    {
     "data": {
      "text/plain": [
       "WilcoxonResult(statistic=223838.0, pvalue=1.1112617541034941e-40)"
      ]
     },
     "execution_count": 125,
     "metadata": {},
     "output_type": "execute_result"
    }
   ],
   "source": [
    "dy = df2['change'].values\n",
    "stats.wilcoxon(dy)"
   ]
  },
  {
   "cell_type": "code",
   "execution_count": 126,
   "metadata": {
    "ExecuteTime": {
     "end_time": "2020-05-22T23:13:36.943663Z",
     "start_time": "2020-05-22T23:13:36.934507Z"
    }
   },
   "outputs": [
    {
     "data": {
      "text/plain": [
       "WilcoxonResult(statistic=223838.0, pvalue=1.1112617541034941e-40)"
      ]
     },
     "execution_count": 126,
     "metadata": {},
     "output_type": "execute_result"
    }
   ],
   "source": [
    "stats.wilcoxon(a,b)"
   ]
  },
  {
   "cell_type": "code",
   "execution_count": 127,
   "metadata": {
    "ExecuteTime": {
     "end_time": "2020-05-22T23:13:36.960266Z",
     "start_time": "2020-05-22T23:13:36.954063Z"
    }
   },
   "outputs": [
    {
     "data": {
      "text/plain": [
       "Ttest_relResult(statistic=10.17306926363463, pvalue=2.0443907015821333e-23)"
      ]
     },
     "execution_count": 127,
     "metadata": {},
     "output_type": "execute_result"
    }
   ],
   "source": [
    "stats.ttest_rel(a,b)"
   ]
  },
  {
   "cell_type": "code",
   "execution_count": 128,
   "metadata": {
    "ExecuteTime": {
     "end_time": "2020-05-22T23:13:37.068474Z",
     "start_time": "2020-05-22T23:13:36.978098Z"
    }
   },
   "outputs": [
    {
     "data": {
      "text/html": [
       "<div>\n",
       "<style scoped>\n",
       "    .dataframe tbody tr th:only-of-type {\n",
       "        vertical-align: middle;\n",
       "    }\n",
       "\n",
       "    .dataframe tbody tr th {\n",
       "        vertical-align: top;\n",
       "    }\n",
       "\n",
       "    .dataframe thead th {\n",
       "        text-align: right;\n",
       "    }\n",
       "</style>\n",
       "<table border=\"1\" class=\"dataframe\">\n",
       "  <thead>\n",
       "    <tr style=\"text-align: right;\">\n",
       "      <th></th>\n",
       "      <th>count</th>\n",
       "      <th>mean</th>\n",
       "      <th>std</th>\n",
       "      <th>min</th>\n",
       "      <th>25%</th>\n",
       "      <th>50%</th>\n",
       "      <th>75%</th>\n",
       "      <th>max</th>\n",
       "    </tr>\n",
       "  </thead>\n",
       "  <tbody>\n",
       "    <tr>\n",
       "      <th>Values_2</th>\n",
       "      <td>1260.0</td>\n",
       "      <td>42.905891</td>\n",
       "      <td>30.261972</td>\n",
       "      <td>0.866667</td>\n",
       "      <td>19.600000</td>\n",
       "      <td>35.889630</td>\n",
       "      <td>61.880833</td>\n",
       "      <td>126.000000</td>\n",
       "    </tr>\n",
       "    <tr>\n",
       "      <th>Values_1</th>\n",
       "      <td>1260.0</td>\n",
       "      <td>51.452227</td>\n",
       "      <td>29.734799</td>\n",
       "      <td>0.866667</td>\n",
       "      <td>28.000000</td>\n",
       "      <td>48.322778</td>\n",
       "      <td>73.517500</td>\n",
       "      <td>126.000000</td>\n",
       "    </tr>\n",
       "    <tr>\n",
       "      <th>change</th>\n",
       "      <td>1260.0</td>\n",
       "      <td>-8.546336</td>\n",
       "      <td>29.820384</td>\n",
       "      <td>-125.133333</td>\n",
       "      <td>-22.881806</td>\n",
       "      <td>-8.963889</td>\n",
       "      <td>3.696759</td>\n",
       "      <td>125.133333</td>\n",
       "    </tr>\n",
       "    <tr>\n",
       "      <th>log_meas_1</th>\n",
       "      <td>1260.0</td>\n",
       "      <td>3.677569</td>\n",
       "      <td>0.877064</td>\n",
       "      <td>-0.143101</td>\n",
       "      <td>3.332205</td>\n",
       "      <td>3.877903</td>\n",
       "      <td>4.297523</td>\n",
       "      <td>4.836282</td>\n",
       "    </tr>\n",
       "    <tr>\n",
       "      <th>log_meas_2</th>\n",
       "      <td>1260.0</td>\n",
       "      <td>3.433160</td>\n",
       "      <td>0.928144</td>\n",
       "      <td>-0.143101</td>\n",
       "      <td>2.975530</td>\n",
       "      <td>3.580448</td>\n",
       "      <td>4.125210</td>\n",
       "      <td>4.836282</td>\n",
       "    </tr>\n",
       "  </tbody>\n",
       "</table>\n",
       "</div>"
      ],
      "text/plain": [
       "             count       mean        std         min        25%        50%  \\\n",
       "Values_2    1260.0  42.905891  30.261972    0.866667  19.600000  35.889630   \n",
       "Values_1    1260.0  51.452227  29.734799    0.866667  28.000000  48.322778   \n",
       "change      1260.0  -8.546336  29.820384 -125.133333 -22.881806  -8.963889   \n",
       "log_meas_1  1260.0   3.677569   0.877064   -0.143101   3.332205   3.877903   \n",
       "log_meas_2  1260.0   3.433160   0.928144   -0.143101   2.975530   3.580448   \n",
       "\n",
       "                  75%         max  \n",
       "Values_2    61.880833  126.000000  \n",
       "Values_1    73.517500  126.000000  \n",
       "change       3.696759  125.133333  \n",
       "log_meas_1   4.297523    4.836282  \n",
       "log_meas_2   4.125210    4.836282  "
      ]
     },
     "execution_count": 128,
     "metadata": {},
     "output_type": "execute_result"
    }
   ],
   "source": [
    "\n",
    "df2.describe().T"
   ]
  },
  {
   "cell_type": "markdown",
   "metadata": {
    "heading_collapsed": true
   },
   "source": [
    "## plots and figures"
   ]
  },
  {
   "cell_type": "code",
   "execution_count": 129,
   "metadata": {
    "ExecuteTime": {
     "end_time": "2020-05-22T23:13:37.527348Z",
     "start_time": "2020-05-22T23:13:37.076231Z"
    },
    "hidden": true
   },
   "outputs": [
    {
     "data": {
      "image/png": "[encoded data removed]",
      "text/plain": [
       "<Figure size 432x288 with 1 Axes>"
      ]
     },
     "metadata": {
      "needs_background": "light"
     },
     "output_type": "display_data"
    }
   ],
   "source": [
    "plt.hist(a, bins=20, alpha=0.5)\n",
    "plt.hist(b, bins=20, alpha=0.5);"
   ]
  },
  {
   "cell_type": "code",
   "execution_count": 130,
   "metadata": {
    "ExecuteTime": {
     "end_time": "2020-05-22T23:13:37.823877Z",
     "start_time": "2020-05-22T23:13:37.530527Z"
    },
    "hidden": true
   },
   "outputs": [
    {
     "data": {
      "image/png": "[encoded data removed]",
      "text/plain": [
       "<Figure size 432x288 with 1 Axes>"
      ]
     },
     "metadata": {
      "needs_background": "light"
     },
     "output_type": "display_data"
    }
   ],
   "source": [
    "plt.hist(dy, bins=50);\n",
    "# dy_snwd = dy\n",
    "dy_snow = dy"
   ]
  },
  {
   "cell_type": "code",
   "execution_count": 131,
   "metadata": {
    "ExecuteTime": {
     "end_time": "2020-05-22T23:13:40.926221Z",
     "start_time": "2020-05-22T23:13:37.826905Z"
    },
    "hidden": true
   },
   "outputs": [
    {
     "data": {
      "text/plain": [
       "<Figure size 252x216 with 0 Axes>"
      ]
     },
     "metadata": {},
     "output_type": "display_data"
    },
    {
     "data": {
      "image/png": "[encoded data removed]",
      "text/plain": [
       "<Figure size 432x432 with 3 Axes>"
      ]
     },
     "metadata": {
      "needs_background": "light"
     },
     "output_type": "display_data"
    }
   ],
   "source": [
    "plt.figure(figsize=(3.5,3))\n",
    "g = sns.jointplot(x=\"log_meas_1\", y=\"log_meas_2\", data=df2, kind=\"kde\", color=\"orange\")\n",
    "g.plot_joint(plt.scatter, c=\"blue\", s=30, linewidth=1, marker=\"+\", alpha=0.2)\n",
    "g.ax_joint.collections[0].set_alpha(0)\n",
    "g.set_axis_labels(f\"Log of {measure} ({stringa})\", f\"Log of {measure} ({stringb})\")\n",
    "plt.ylim(1, 5)\n",
    "plt.xlim(1, 5)\n",
    "plt.savefig(f'fig_{measure}_all_paired.png', dpi=400)"
   ]
  },
  {
   "cell_type": "code",
   "execution_count": 132,
   "metadata": {
    "ExecuteTime": {
     "end_time": "2020-05-22T23:13:41.755014Z",
     "start_time": "2020-05-22T23:13:40.927460Z"
    },
    "hidden": true
   },
   "outputs": [
    {
     "data": {
      "image/png": "[encoded data removed]",
      "text/plain": [
       "<Figure size 252x252 with 1 Axes>"
      ]
     },
     "metadata": {
      "needs_background": "light"
     },
     "output_type": "display_data"
    }
   ],
   "source": [
    "plt.figure(figsize=(3.5,3.5))\n",
    "if measure=='SNWD':\n",
    "    plt.hist(df2['Values_1'].values, label=stringa, alpha=0.4, bins=20)#np.logspace(np.log10(10),np.log10(200), 20))\n",
    "    plt.hist(df2['Values_2'].values, label=stringb, alpha=0.4, bins=20)#np.logspace(np.log10(10),np.log10(200), 20))\n",
    "else:\n",
    "    plt.hist(df2['Values_1'].values, label=stringa, alpha=0.4, bins=np.logspace(np.log10(3),np.log10(100), 20))\n",
    "    plt.hist(df2['Values_2'].values, label=stringb, alpha=0.4, bins=np.logspace(np.log10(3),np.log10(100), 20))\n",
    "    plt.xscale('log')\n",
    "plt.legend(prop={'size': 12})\n",
    "plt.title(f'{measure} in the Midwestern USA\\nAvg. Station Measurement')\n",
    "plt.xlabel('millimeters')\n",
    "plt.ylabel('frequency')\n",
    "# plt.show()\n",
    "plt.tight_layout()\n",
    "plt.savefig(f'fig_{measure}_all.png', transparent=True, dpi=400)"
   ]
  },
  {
   "cell_type": "code",
   "execution_count": 133,
   "metadata": {
    "ExecuteTime": {
     "end_time": "2020-05-22T23:13:41.823090Z",
     "start_time": "2020-05-22T23:13:41.756889Z"
    },
    "hidden": true
   },
   "outputs": [
    {
     "name": "stdout",
     "output_type": "stream",
     "text": [
      "json    2.0.9\n",
      "seaborn 0.9.0\n",
      "numpy   1.16.4\n",
      "pandas  0.24.2\n",
      "Fri May 22 2020 16:13:41 \n",
      "\n",
      "compiler   : Clang 11.0.0 (clang-1100.0.33.17)\n",
      "system     : Darwin\n",
      "release    : 18.7.0\n",
      "machine    : x86_64\n",
      "processor  : i386\n",
      "CPU cores  : 8\n",
      "interpreter: 64bit\n",
      "host name  : MacBook-Pro-189.local\n",
      "Git repo   : https://github.com/timtyree/dsc291team4.git\n"
     ]
    }
   ],
   "source": [
    "%watermark -iv -h -r -m -n -t"
   ]
  },
  {
   "cell_type": "markdown",
   "metadata": {
    "heading_collapsed": true
   },
   "source": [
    "# histogram plot for change in both measurement types"
   ]
  },
  {
   "cell_type": "code",
   "execution_count": 134,
   "metadata": {
    "ExecuteTime": {
     "end_time": "2020-05-22T23:13:41.828856Z",
     "start_time": "2020-05-22T23:13:41.825609Z"
    },
    "hidden": true
   },
   "outputs": [],
   "source": [
    "# np.savetxt('changes_1980-1985_1990-1995.txt',)"
   ]
  },
  {
   "cell_type": "code",
   "execution_count": 135,
   "metadata": {
    "ExecuteTime": {
     "end_time": "2020-05-22T23:13:41.833252Z",
     "start_time": "2020-05-22T23:13:41.830876Z"
    },
    "hidden": true
   },
   "outputs": [],
   "source": [
    "# import pickle \n",
    "\n",
    "# # open a file, where you ant to store the data\n",
    "# file = open('snowfall_changes_from_1980-1985_to_1990-1995_all_states.pkl', 'wb')\n",
    "# data =  {'change_snwd':dy_snwd,'change_snow':dy_snow}\n",
    "# # dump information to that file\n",
    "# pickle.dump(data, file)\n",
    "\n",
    "# # close the file\n",
    "# file.close()"
   ]
  },
  {
   "cell_type": "code",
   "execution_count": 136,
   "metadata": {
    "ExecuteTime": {
     "end_time": "2020-05-22T23:13:41.837315Z",
     "start_time": "2020-05-22T23:13:41.835129Z"
    },
    "hidden": true
   },
   "outputs": [],
   "source": [
    "# df_snow = df2.copy()\n",
    "# df_snwd = df2.copy()"
   ]
  },
  {
   "cell_type": "code",
   "execution_count": 137,
   "metadata": {
    "ExecuteTime": {
     "end_time": "2020-05-22T23:13:41.862218Z",
     "start_time": "2020-05-22T23:13:41.839772Z"
    },
    "hidden": true
   },
   "outputs": [],
   "source": [
    "# df_out = df_snow[['Values_2', 'Values_1', 'change']].rename(\n",
    "#     columns={'Values_2':'snow_1980s', \n",
    "#              'Values_1':'snow_1990s',\n",
    "#          []=====    'change':'change_snow'}).copy()\n",
    "# df_out['snwd_1980s'] = df_snwd['Values_1']\n",
    "# df_out['snwd_1990s'] = df_snwd['Values_2']\n",
    "# df_out['change_snwd'] = df_snwd['change']\n",
    "# df_out.to_csv('snowfall_changes_1980-1985_1990-1995.csv')"
   ]
  },
  {
   "cell_type": "code",
   "execution_count": 138,
   "metadata": {
    "ExecuteTime": {
     "end_time": "2020-05-22T23:13:41.886066Z",
     "start_time": "2020-05-22T23:13:41.872876Z"
    },
    "hidden": true
   },
   "outputs": [],
   "source": [
    "# plt.figure(figsize=(3.5,3.5))\n",
    "# plt.hist(df_out.dropna()['change_snwd'].values, label='SNWD', alpha=0.4, bins=20)#np.logspace(np.log10(3),np.log10(100), 20))\n",
    "# plt.hist(df_out.dropna()['change_snow'].values, label='SNOW', alpha=0.4, bins=20)#np.logspace(np.log10(3),np.log10(100), 20))\n",
    "# plt.yscale('log')\n",
    "# plt.legend(prop={'size': 12})\n",
    "# plt.title(f'Change in Avg. Station Meas.\\nin the Midwestern USA')\n",
    "# plt.xlabel('millimeters')\n",
    "# plt.ylabel('frequency')\n",
    "# # plt.show()\n",
    "# plt.tight_layout()\n",
    "# plt.show\n",
    "# plt.savefig(f'fig_changes_all.png', transparent=True, dpi=400)\n"
   ]
  },
  {
   "cell_type": "code",
   "execution_count": null,
   "metadata": {
    "ExecuteTime": {
     "end_time": "2020-05-21T20:54:50.500946Z",
     "start_time": "2020-05-21T20:54:50.484652Z"
    },
    "hidden": true
   },
   "outputs": [],
   "source": []
  },
  {
   "cell_type": "code",
   "execution_count": null,
   "metadata": {
    "hidden": true
   },
   "outputs": [],
   "source": []
  }
 ],
 "metadata": {
  "kernelspec": {
   "display_name": "Python 3",
   "language": "python",
   "name": "python3"
  },
  "language_info": {
   "codemirror_mode": {
    "name": "ipython",
    "version": 3
   },
   "file_extension": ".py",
   "mimetype": "text/x-python",
   "name": "python",
   "nbconvert_exporter": "python",
   "pygments_lexer": "ipython3",
   "version": "3.7.7"
  },
  "varInspector": {
   "cols": {
    "lenName": 16,
    "lenType": 16,
    "lenVar": 40
   },
   "kernels_config": {
    "python": {
     "delete_cmd_postfix": "",
     "delete_cmd_prefix": "del ",
     "library": "var_list.py",
     "varRefreshCmd": "print(var_dic_list())"
    },
    "r": {
     "delete_cmd_postfix": ") ",
     "delete_cmd_prefix": "rm(",
     "library": "var_list.r",
     "varRefreshCmd": "cat(var_dic_list()) "
    }
   },
   "types_to_exclude": [
    "module",
    "function",
    "builtin_function_or_method",
    "instance",
    "_Feature"
   ],
   "window_display": false
  }
 },
 "nbformat": 4,
 "nbformat_minor": 4
}
