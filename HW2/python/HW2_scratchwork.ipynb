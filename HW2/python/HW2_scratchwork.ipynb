{
 "cells": [
  {
   "cell_type": "markdown",
   "metadata": {
    "colab_type": "text",
    "id": "view-in-github"
   },
   "source": [
    "<a href=\"https://colab.research.google.com/github/timtyree/dsc291team4/blob/master/HW2_scratchwork.ipynb\" target=\"_parent\"><img src=\"https://colab.research.google.com/assets/colab-badge.svg\" alt=\"Open In Colab\"/></a>"
   ]
  },
  {
   "cell_type": "markdown",
   "metadata": {
    "colab_type": "text",
    "heading_collapsed": true,
    "id": "PTYW5XVQ_iWf"
   },
   "source": [
    "# Dev for hw2 - dsc291 - team 4\n",
    "\n"
   ]
  },
  {
   "cell_type": "markdown",
   "metadata": {
    "colab_type": "text",
    "hidden": true,
    "id": "GY10iCB6DaDX"
   },
   "source": [
    "\n",
    "## How does the performance of random-poke.py related to the size of the caches in the ec2 instance?\n",
    "*^that's Yoav's proposed question #1 for HW2*\n",
    "\n",
    "**Foreword on question choice**\n",
    "<p>I am open to any questions any of you are interested in following up.  None of you have expressed an interest in any particular question, so if this question is okay, let's do it so we have something.  We can always consider doing more later.</p>\n",
    "\n",
    "<p>For now, let's focus on hashing out a clear course of action for HW2 in the following text (This all will be sent to an .md on our github repository (https://github.com/timtyree/dsc291team4/).</p>\n",
    "\n",
    "**Questions I'd like us all to think about:**\n",
    "* What are all of the measurements we should be recording?\n",
    "* How do we control cache-size when we're generating cache-misses with some probability?\n",
    "* Is there a measure of ec2 cache redundancy that I should know about?"
   ]
  },
  {
   "cell_type": "markdown",
   "metadata": {
    "colab_type": "text",
    "heading_collapsed": true,
    "hidden": true,
    "id": "5icmm7Up5a8j"
   },
   "source": [
    "## **Goal 1**: measure cache-miss rates that result from reducing random-poke.py at some cache size\n",
    "\n",
    "**(step 1) list all the measurements we should be recording for each cache-miss datum**\n",
    "- latency of the cache miss (used to identify cache miss)\n",
    "- time/date/day-of-week that a cache miss happens\n",
    "- a measure of cache/network size\n",
    "- a measure of cache redundancy (what could this be?)\n",
    "\n",
    "**(step 2) develop ^those measurements and test that they work how we expect**\n",
    "* TODO: set up a local for development.  no need to spend computational resource on development\n",
    "* TODO: make the simplest possible method to produce a cache miss with a nontrivial frequency\n",
    "\n",
    "**(step 3) record the relevant data in an s3 bucket in an easy to reproduce way**\n",
    "* TODO: reduce using a count function to yield the number of machines in the cluster\n",
    "* TODO: start regularly recording the number of machines in the cache along with the current time of day.\n",
    "* QUESTION: Is there a redundancy measure for caches on an ec2 instance that I should know about?\n",
    "\n",
    "## **Goal 2**: Analyze/Visualize data and see what emerges\n",
    "* I've got experience doing this.  To what degree have each of you done this before?\n"
   ]
  },
  {
   "cell_type": "markdown",
   "metadata": {
    "colab": {},
    "colab_type": "code",
    "id": "dhUYQpZA-qdX"
   },
   "source": [
    "# make function that calls a function regularly"
   ]
  },
  {
   "cell_type": "code",
   "execution_count": 65,
   "metadata": {},
   "outputs": [
    {
     "name": "stdout",
     "output_type": "stream",
     "text": [
      "The autoreload extension is already loaded. To reload it, use:\n",
      "  %reload_ext autoreload\n"
     ]
    }
   ],
   "source": [
    "import datetime, time\n",
    "# from datetime import datetime, time\n",
    "from time import sleep\n",
    "\n",
    "def do_at_time(action, sec=None,min=None,hour=None, day=None, month=None, year=None):\n",
    "\ttoday = datetime.datetime.now()\n",
    "\tsleep = (datetime.datetime(today.year, today.month, today.day, 15, 20, 0) - today).seconds\n",
    "\t# print('Waiting for ' + str(datetime.timedelta(seconds=sleep)))\n",
    "\ttime.sleep(sleep)\n",
    "\treturn action\n",
    "\n",
    "def do_after_waiting(action, sec=0, min=0, hour=0):\n",
    "\t'''do action after waiting sec seconds, min minutes, and hour hours.'''\n",
    "\ttoday = datetime.datetime.now()\n",
    "\tsleep = (datetime.datetime(today.year, today.month, today.day, 15, 20, 0) - today).seconds\n",
    "\t# print('Waiting for ' + str(datetime.timedelta(seconds=sleep)))\n",
    "\ttime.sleep(sleep)\n",
    "\treturn action\n",
    "\n",
    "\n",
    "%load_ext autoreload\n",
    "%autoreload 2"
   ]
  },
  {
   "cell_type": "code",
   "execution_count": 66,
   "metadata": {},
   "outputs": [
    {
     "name": "stderr",
     "output_type": "stream",
     "text": [
      "ERROR:root:File `'run_trial.py'` not found.\n"
     ]
    }
   ],
   "source": [
    "%run run_trial"
   ]
  },
  {
   "cell_type": "code",
   "execution_count": 59,
   "metadata": {},
   "outputs": [
    {
     "data": {
      "text/plain": [
       "1"
      ]
     },
     "execution_count": 59,
     "metadata": {},
     "output_type": "execute_result"
    }
   ],
   "source": [
    "# !rm -r logs\n",
    "1"
   ]
  },
  {
   "cell_type": "code",
   "execution_count": 68,
   "metadata": {},
   "outputs": [
    {
     "name": "stderr",
     "output_type": "stream",
     "text": [
      "ERROR:root:File `'../aws-jupyter-scripts/random_poke.py'` not found.\n"
     ]
    }
   ],
   "source": [
    "%run ../aws-jupyter-scripts/random_poke"
   ]
  },
  {
   "cell_type": "code",
   "execution_count": null,
   "metadata": {},
   "outputs": [],
   "source": []
  },
  {
   "cell_type": "code",
   "execution_count": null,
   "metadata": {},
   "outputs": [],
   "source": []
  },
  {
   "cell_type": "code",
   "execution_count": 52,
   "metadata": {},
   "outputs": [],
   "source": [
    "# today = datetime.datetime.now()\n",
    "# current_datetime = str(datetime.datetime.now()).split('.')[0]\n",
    "# print('current_datetime is {}'.format(current_datetime))\n",
    "# current_datetime.replace(' ', '_')"
   ]
  },
  {
   "cell_type": "code",
   "execution_count": 64,
   "metadata": {},
   "outputs": [
    {
     "data": {
      "text/plain": [
       "'2020-04-19'"
      ]
     },
     "execution_count": 64,
     "metadata": {},
     "output_type": "execute_result"
    }
   ],
   "source": [
    "str(today.date())"
   ]
  },
  {
   "cell_type": "code",
   "execution_count": 69,
   "metadata": {},
   "outputs": [
    {
     "name": "stdout",
     "output_type": "stream",
     "text": [
      "/Users/timothytyree/Documents/GitHub/dsc291team4/HW2/python\r\n"
     ]
    }
   ],
   "source": [
    "!pwd"
   ]
  },
  {
   "cell_type": "code",
   "execution_count": 70,
   "metadata": {},
   "outputs": [],
   "source": [
    "os.chdir('/Users/timothytyree/Documents/GitHub/dsc291team4/HW2/python/aws-jupyter-scripts')\n"
   ]
  },
  {
   "cell_type": "code",
   "execution_count": null,
   "metadata": {},
   "outputs": [],
   "source": []
  },
  {
   "cell_type": "code",
   "execution_count": 71,
   "metadata": {},
   "outputs": [
    {
     "data": {
      "text/plain": [
       "dict_keys(['creation_stats', 'Random_pokes'])"
      ]
     },
     "execution_count": 71,
     "metadata": {},
     "output_type": "execute_result"
    }
   ],
   "source": [
    "#open a .pkl file\n",
    "\n",
    "pickle_fn = 'test_output.pkl'\n",
    "#with open('m5ad.2xlarge_performance/worker-0/stats.pkl','rb') as pkl:\n"
   ]
  },
  {
   "cell_type": "code",
   "execution_count": 74,
   "metadata": {},
   "outputs": [
    {
     "name": "stdout",
     "output_type": "stream",
     "text": [
      "{'current_datetime': '2020-04-19 02:19:29', 'batch': 100, 'k': 100000}\n"
     ]
    }
   ],
   "source": []
  },
  {
   "cell_type": "code",
   "execution_count": 82,
   "metadata": {},
   "outputs": [
    {
     "name": "stdout",
     "output_type": "stream",
     "text": [
      "Output has 7 measurements.\n"
     ]
    }
   ],
   "source": []
  },
  {
   "cell_type": "code",
   "execution_count": null,
   "metadata": {},
   "outputs": [],
   "source": []
  },
  {
   "cell_type": "code",
   "execution_count": null,
   "metadata": {},
   "outputs": [],
   "source": []
  }
 ],
 "metadata": {
  "colab": {
   "collapsed_sections": [],
   "include_colab_link": true,
   "name": "HW2_scratchwork.ipynb",
   "provenance": []
  },
  "kernelspec": {
   "display_name": "Python 3",
   "language": "python",
   "name": "python3"
  },
  "language_info": {
   "codemirror_mode": {
    "name": "ipython",
    "version": 3
   },
   "file_extension": ".py",
   "mimetype": "text/x-python",
   "name": "python",
   "nbconvert_exporter": "python",
   "pygments_lexer": "ipython3",
   "version": "3.7.7"
  }
 },
 "nbformat": 4,
 "nbformat_minor": 1
}
