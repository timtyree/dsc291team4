{
 "cells": [
  {
   "cell_type": "markdown",
   "metadata": {
    "slideshow": {
     "slide_type": "slide"
    }
   },
   "source": [
    "## measuring memory latency "
   ]
  },
  {
   "cell_type": "markdown",
   "metadata": {
    "slideshow": {
     "slide_type": "fragment"
    }
   },
   "source": [
    "The purpose of this notebook is to overcome a problem int the notebook `2_measuring_performance_of_memory_hierarchy.ipynb`.\n",
    "\n",
    "The problem is that the `time()` function is only accurate up to $10^{-7}$ of a second. So any operations that take a shorter time do not register as taking any time.\n",
    "\n",
    "To overcome the problem we perform many random pokes in sequence and measure the time it takes to complete all of the pokes.\n",
    "\n",
    "As we ware interested in times shorter than $10^{-7}$ we restrict our attention to the main memory, rather than to files."
   ]
  },
  {
   "cell_type": "markdown",
   "metadata": {
    "slideshow": {
     "slide_type": "skip"
    }
   },
   "source": [
    "### Import modules"
   ]
  },
  {
   "cell_type": "code",
   "execution_count": 2,
   "metadata": {
    "ExecuteTime": {
     "end_time": "2018-04-09T00:40:40.212043Z",
     "start_time": "2018-04-09T00:40:40.204999Z"
    },
    "slideshow": {
     "slide_type": "skip"
    }
   },
   "outputs": [
    {
     "name": "stdout",
     "output_type": "stream",
     "text": [
      "Populating the interactive namespace from numpy and matplotlib\n"
     ]
    }
   ],
   "source": [
    "%pylab inline\n",
    "from numpy import *"
   ]
  },
  {
   "cell_type": "code",
   "execution_count": 3,
   "metadata": {
    "ExecuteTime": {
     "end_time": "2018-04-09T00:40:47.603053Z",
     "start_time": "2018-04-09T00:40:47.599216Z"
    },
    "slideshow": {
     "slide_type": "skip"
    }
   },
   "outputs": [],
   "source": [
    "import time\n",
    "from matplotlib.backends.backend_pdf import PdfPages\n",
    "\n",
    "from os.path import isfile,isdir\n",
    "from os import mkdir\n",
    "import os"
   ]
  },
  {
   "cell_type": "code",
   "execution_count": 43,
   "metadata": {
    "ExecuteTime": {
     "end_time": "2018-04-09T00:40:54.119509Z",
     "start_time": "2018-04-09T00:40:54.115117Z"
    },
    "slideshow": {
     "slide_type": "skip"
    }
   },
   "outputs": [
    {
     "ename": "ModuleNotFoundError",
     "evalue": "No module named 'lib'",
     "output_type": "error",
     "traceback": [
      "\u001b[0;31m---------------------------------------------------------------------------\u001b[0m",
      "\u001b[0;31mModuleNotFoundError\u001b[0m                       Traceback (most recent call last)",
      "\u001b[0;32m<ipython-input-43-36bd9d4ab530>\u001b[0m in \u001b[0;36m<module>\u001b[0;34m\u001b[0m\n\u001b[1;32m      1\u001b[0m \u001b[0;31m#from lib.measureRandomAccess import measureRandomAccess\u001b[0m\u001b[0;34m\u001b[0m\u001b[0;34m\u001b[0m\u001b[0;34m\u001b[0m\u001b[0m\n\u001b[0;32m----> 2\u001b[0;31m \u001b[0;32mfrom\u001b[0m \u001b[0mlib\u001b[0m\u001b[0;34m.\u001b[0m\u001b[0mPlotTime\u001b[0m \u001b[0;32mimport\u001b[0m \u001b[0mPlotTime\u001b[0m\u001b[0;34m\u001b[0m\u001b[0;34m\u001b[0m\u001b[0m\n\u001b[0m",
      "\u001b[0;31mModuleNotFoundError\u001b[0m: No module named 'lib'"
     ]
    }
   ],
   "source": [
    "from lib.measureRandomAccess import measureRandomAccess\n",
    "from lib.PlotTime import PlotTime"
   ]
  },
  {
   "cell_type": "markdown",
   "metadata": {
    "slideshow": {
     "slide_type": "slide"
    }
   },
   "source": [
    "### setting parameters\n",
    "* We test access to elements arrays whose sizes are:\n",
    "   * 1MB, 10MB, 100MB, 1000MB (=1GB)\n",
    "* Arrays are stored **in memory** or on disk **on disk**"
   ]
  },
  {
   "cell_type": "markdown",
   "metadata": {
    "slideshow": {
     "slide_type": "fragment"
    }
   },
   "source": [
    "* We perform 1 million read/write ops  to random locations in the array.\n",
    "* We analyze the **distribution** of the latencies."
   ]
  },
  {
   "cell_type": "code",
   "execution_count": 5,
   "metadata": {
    "ExecuteTime": {
     "end_time": "2018-04-09T00:42:00.156150Z",
     "start_time": "2018-04-09T00:42:00.151432Z"
    },
    "slideshow": {
     "slide_type": "skip"
    }
   },
   "outputs": [
    {
     "name": "stdout",
     "output_type": "stream",
     "text": [
      "n=100, k=100000, m_list= [1, 10, 100, 1000, 10000]\n"
     ]
    }
   ],
   "source": [
    "n=100 # size of single block (1MB)\n",
    "m_list=[1,10,100,1000,10000] # size of file in blocks\n",
    "k=100000;  # number of repeats\n",
    "L=len(m_list)\n",
    "print('n=%d, k=%d, m_list='%(n,k),m_list)"
   ]
  },
  {
   "cell_type": "markdown",
   "metadata": {
    "slideshow": {
     "slide_type": "skip"
    }
   },
   "source": [
    "### Set working directory\n",
    "This script generates large files. We put these files in a separate directory so it is easier to delete them later."
   ]
  },
  {
   "cell_type": "code",
   "execution_count": 6,
   "metadata": {
    "ExecuteTime": {
     "end_time": "2018-04-09T00:42:02.043500Z",
     "start_time": "2018-04-09T00:42:02.030563Z"
    },
    "slideshow": {
     "slide_type": "skip"
    }
   },
   "outputs": [
    {
     "name": "stdout",
     "output_type": "stream",
     "text": [
      "/Users/jasminesimmons/Grad_School/Spring_Qtr_2020/DSC291/DSC291_Team4_github/dsc291team4/HW2/logs/1587409106\n"
     ]
    }
   ],
   "source": [
    "log_root='./logs'\n",
    "if not isdir(log_root): mkdir(log_root)\n",
    "TimeStamp=str(int(time.time()))\n",
    "log_dir=log_root+'/'+TimeStamp\n",
    "mkdir(log_dir)\n",
    "%cd $log_dir\n",
    "stat=open('stats.txt','w')\n",
    "\n",
    "def tee(line):\n",
    "    print(line)\n",
    "    stat.write(line+'\\n')"
   ]
  },
  {
   "cell_type": "code",
   "execution_count": 7,
   "metadata": {
    "ExecuteTime": {
     "end_time": "2018-04-09T00:42:05.043025Z",
     "start_time": "2018-04-09T00:42:05.039373Z"
    },
    "slideshow": {
     "slide_type": "skip"
    }
   },
   "outputs": [],
   "source": [
    "_mean=zeros([2,L])   #0: using disk, 1: using memory\n",
    "_std=zeros([2,L])\n",
    "Tmem=[]\n",
    "TFile=[]"
   ]
  },
  {
   "cell_type": "code",
   "execution_count": 8,
   "metadata": {
    "ExecuteTime": {
     "end_time": "2018-04-09T00:42:09.897133Z",
     "start_time": "2018-04-09T00:42:09.874674Z"
    },
    "code_folding": []
   },
   "outputs": [],
   "source": [
    "import numpy as np\n",
    "from numpy.random import rand\n",
    "import time\n",
    "\n",
    "def measureRandomAccessMemBlocks(sz,k=1000,batch=100):\n",
    "    \"\"\"Measure the distribution of random accesses in computer memory.\n",
    "\n",
    "    :param sz: size of memory block.\n",
    "    :param k: number of times that the experiment is repeated.\n",
    "    :param batch: The number of locations poked in a single experiment (multiple pokes performed using numpy, rather than python loop)\n",
    "    :returns: (_mean,std,T):\n",
    "              _mean = the mean of T\n",
    "              _std = the std of T\n",
    "              T = a list the contains the times of all k experiments\n",
    "    :rtype: tuple\n",
    "\n",
    "    \"\"\"\n",
    "    # Prepare buffer.\n",
    "    A=np.zeros(sz,dtype=np.int8)\n",
    "            \n",
    "    # Read and write k*batch times from/to buffer.\n",
    "    sum=0; sum2=0\n",
    "    T=np.zeros(k)\n",
    "    for i in range(k):\n",
    "        if (i%100==0): print('\\r',i, end=' ')\n",
    "        loc=np.int32(rand(batch)*sz)\n",
    "        t=time.time()\n",
    "        x=A[loc]\n",
    "        A[loc]=loc\n",
    "        d=(time.time()-t)/batch\n",
    "        T[i]=d\n",
    "        sum += d\n",
    "        sum2 += d*d\n",
    "    _mean=sum/k; var=(sum2/k)-_mean**2; _std=np.sqrt(var)\n",
    "    return (_mean,_std,T)"
   ]
  },
  {
   "cell_type": "code",
   "execution_count": 9,
   "metadata": {
    "ExecuteTime": {
     "end_time": "2018-04-09T00:46:02.124961Z",
     "start_time": "2018-04-09T00:46:02.121985Z"
    }
   },
   "outputs": [],
   "source": [
    "m_list=[10000000, 20000000, 30000000, 40000000, 50000000, 60000000, 70000000]\n",
    "m_legend=['10MB', '20MB', '30MB', '40MB', '50MB', '60MB', '70MB']"
   ]
  },
  {
   "cell_type": "code",
   "execution_count": null,
   "metadata": {},
   "outputs": [],
   "source": []
  },
  {
   "cell_type": "code",
   "execution_count": 10,
   "metadata": {
    "ExecuteTime": {
     "end_time": "2018-04-09T00:46:04.775116Z",
     "start_time": "2018-04-09T00:46:03.696300Z"
    },
    "scrolled": false,
    "slideshow": {
     "slide_type": "skip"
    }
   },
   "outputs": [
    {
     "name": "stdout",
     "output_type": "stream",
     "text": [
      "Memory array 10000000 Bytes\n",
      "Memory pokes _mean=3.70926856994629e-08, Memory _std=1.011728783683005e-07\n",
      "Memory array 20000000 Bytes\n",
      "Memory pokes _mean=3.8277626037597854e-08, Memory _std=1.1869122555825732e-07\n",
      "Memory array 30000000 Bytes\n",
      "Memory pokes _mean=4.665207862854046e-08, Memory _std=1.4127540293992928e-07\n",
      "Memory array 40000000 Bytes\n",
      "Memory pokes _mean=6.257963180542028e-08, Memory _std=2.3750696775786994e-07\n",
      "Memory array 50000000 Bytes\n",
      "Memory pokes _mean=6.790947914123544e-08, Memory _std=2.2642404076809139e-07\n",
      "Memory array 60000000 Bytes\n",
      "Memory pokes _mean=7.728409767150907e-08, Memory _std=2.619228663110108e-07\n",
      "Memory array 70000000 Bytes\n",
      "Memory pokes _mean=1.1552405357360825e-07, Memory _std=3.966594149394396e-07\n",
      "Memory array 10000000 Bytes\n",
      "Memory pokes _mean=2.4815082550048704e-08, Memory _std=5.16313186693563e-09\n",
      "Memory array 20000000 Bytes\n",
      "Memory pokes _mean=2.7097702026367097e-08, Memory _std=2.338149218060513e-08\n",
      "Memory array 30000000 Bytes\n",
      "Memory pokes _mean=2.8558969497680552e-08, Memory _std=1.3663221020703498e-08\n",
      "Memory array 40000000 Bytes\n",
      "Memory pokes _mean=2.8179645538329997e-08, Memory _std=1.1906649534513436e-08\n",
      "Memory array 50000000 Bytes\n",
      "Memory pokes _mean=2.816057205200187e-08, Memory _std=1.697054503482415e-08\n",
      "Memory array 60000000 Bytes\n",
      "Memory pokes _mean=2.8516530990600508e-08, Memory _std=1.172687551175156e-08\n",
      "Memory array 70000000 Bytes\n",
      "Memory pokes _mean=2.9683351516723484e-08, Memory _std=1.5647355218249535e-08\n",
      "Memory array 10000000 Bytes\n",
      "Memory pokes _mean=2.4167299270629707e-08, Memory _std=1.426592420575795e-08\n",
      "Memory array 20000000 Bytes\n",
      "Memory pokes _mean=2.5682687759399317e-08, Memory _std=1.5928818531307707e-08\n",
      "Memory array 30000000 Bytes\n",
      "Memory pokes _mean=2.5496959686279193e-08, Memory _std=1.61935517791076e-08\n",
      "Memory array 40000000 Bytes\n",
      "Memory pokes _mean=2.785325050353996e-08, Memory _std=1.8435594451627803e-08\n",
      "Memory array 50000000 Bytes\n",
      "Memory pokes _mean=2.7034282684326004e-08, Memory _std=1.574783483757959e-08\n",
      "Memory array 60000000 Bytes\n",
      "Memory pokes _mean=2.8705358505248922e-08, Memory _std=1.8667921706137652e-08\n",
      "Memory array 70000000 Bytes\n",
      "Memory pokes _mean=2.8489351272582813e-08, Memory _std=1.7615238423546304e-08\n",
      "Memory array 10000000 Bytes\n",
      "Memory pokes _mean=2.5387525558471582e-08, Memory _std=9.420737527426776e-09\n",
      "Memory array 20000000 Bytes\n",
      "Memory pokes _mean=2.521109580993634e-08, Memory _std=1.955570599121378e-08\n",
      "Memory array 30000000 Bytes\n",
      "Memory pokes _mean=2.584743499755852e-08, Memory _std=1.7632884697201368e-08\n",
      "Memory array 40000000 Bytes\n",
      "Memory pokes _mean=2.652454376220691e-08, Memory _std=1.6845683148793903e-08\n",
      "Memory array 50000000 Bytes\n",
      "Memory pokes _mean=2.6806831359863154e-08, Memory _std=1.1590193672608657e-08\n",
      "Memory array 60000000 Bytes\n",
      "Memory pokes _mean=2.6671648025512552e-08, Memory _std=1.446258938975515e-08\n",
      "Memory array 70000000 Bytes\n",
      "Memory pokes _mean=2.909183502197263e-08, Memory _std=1.6020180848847323e-08\n",
      "Memory array 10000000 Bytes\n",
      "Memory pokes _mean=2.3809432983398297e-08, Memory _std=5.395615797640838e-09\n",
      "Memory array 20000000 Bytes\n",
      "Memory pokes _mean=2.747559547424294e-08, Memory _std=1.8337124481211372e-08\n",
      "Memory array 30000000 Bytes\n",
      "Memory pokes _mean=2.6690483093261647e-08, Memory _std=1.6560783955801995e-08\n",
      "Memory array 40000000 Bytes\n",
      "Memory pokes _mean=2.6321411132812394e-08, Memory _std=1.1608233115991342e-08\n",
      "Memory array 50000000 Bytes\n",
      "Memory pokes _mean=2.9237270355224527e-08, Memory _std=1.732898514745903e-08\n",
      "Memory array 60000000 Bytes\n",
      "Memory pokes _mean=2.7278184890746928e-08, Memory _std=1.3625358825559285e-08\n",
      "Memory array 70000000 Bytes\n",
      "Memory pokes _mean=2.7019262313842578e-08, Memory _std=1.6703565616475594e-08\n"
     ]
    }
   ],
   "source": [
    "# Create a pandas dataframe to store the results. \n",
    "import pandas as pd\n",
    "\n",
    "col_names = [] # Format pandas column names \n",
    "col_names.append('Time')\n",
    "for i in m_list: \n",
    "    col_names.append(str(i) + '_Mean')\n",
    "    col_names.append(str(i) + '_STD')\n",
    "\n",
    "data = []\n",
    "\n",
    "# Add a timer and a loop for the code below to run a trial of random_pokes() once per minute.\n",
    "import time\n",
    "\n",
    "# Run 60 trials, once per minute for an hour\n",
    "num_trials = 0\n",
    "\n",
    "while num_trials < 60:   # number of trials to run of time length x in time.sleep(x)\n",
    "    localtime = time.localtime()\n",
    "    result = time.strftime(\"%I:%M:%S %p\", localtime)\n",
    "    print(result, end=\"\", flush=True)\n",
    "    print(\"\\r\", end=\"\", flush=True)\n",
    "  \n",
    "\n",
    "    Random_pokes=[]\n",
    "\n",
    "    L=len(m_list)\n",
    "    _mean=zeros([L])   #0: using disk, 1: using memory\n",
    "    _std=zeros([L])\n",
    "    TMem=[0]*L\n",
    "\n",
    "    data_row = [result]\n",
    "    for m_i in range(L):\n",
    "        m=m_list[m_i]\n",
    "        print('Memory array %d Bytes'%m)\n",
    "        out = measureRandomAccessMemBlocks(m,k=1000,batch=1000)\n",
    "        (_mean[m_i],_std[m_i],TMem[m_i]) = out\n",
    "        TMem[m_i].sort()\n",
    "        tee('\\rMemory pokes _mean='+str(_mean[m_i])+', Memory _std='+str(_std[m_i]))\n",
    "\n",
    "        Random_pokes.append({'m_i':m_i,\n",
    "                            'm':m,\n",
    "                            'memory__mean': _mean[m_i],\n",
    "                            'memory__std': _std[m_i],\n",
    "                            'memory_largest': TMem[m_i][-100:],\n",
    "                    })\n",
    "\n",
    "        data_row.append(str(_mean[m_i]))\n",
    "        data_row.append(str(_std[m_i]))\n",
    "       \n",
    "    data.append(data_row)\n",
    "    time.sleep(60)   # sleep for one minute (sleep function is in seconds)\n",
    "    num_trials += 1"
   ]
  },
  {
   "cell_type": "code",
   "execution_count": 11,
   "metadata": {},
   "outputs": [
    {
     "name": "stdout",
     "output_type": "stream",
     "text": [
      "[['11:58:28 AM', '3.70926856994629e-08', '1.011728783683005e-07', '3.8277626037597854e-08', '1.1869122555825732e-07', '4.665207862854046e-08', '1.4127540293992928e-07', '6.257963180542028e-08', '2.3750696775786994e-07', '6.790947914123544e-08', '2.2642404076809139e-07', '7.728409767150907e-08', '2.619228663110108e-07', '1.1552405357360825e-07', '3.966594149394396e-07'], ['11:58:31 AM', '2.4815082550048704e-08', '5.16313186693563e-09', '2.7097702026367097e-08', '2.338149218060513e-08', '2.8558969497680552e-08', '1.3663221020703498e-08', '2.8179645538329997e-08', '1.1906649534513436e-08', '2.816057205200187e-08', '1.697054503482415e-08', '2.8516530990600508e-08', '1.172687551175156e-08', '2.9683351516723484e-08', '1.5647355218249535e-08']]\n"
     ]
    }
   ],
   "source": [
    "print(data[:2])"
   ]
  },
  {
   "cell_type": "code",
   "execution_count": 12,
   "metadata": {},
   "outputs": [
    {
     "name": "stdout",
     "output_type": "stream",
     "text": [
      "          Time           10000000_Mean           10000000_STD  \\\n",
      "0  11:58:28 AM    3.70926856994629e-08  1.011728783683005e-07   \n",
      "1  11:58:31 AM  2.4815082550048704e-08   5.16313186693563e-09   \n",
      "2  11:58:33 AM  2.4167299270629707e-08  1.426592420575795e-08   \n",
      "3  11:58:36 AM  2.5387525558471582e-08  9.420737527426776e-09   \n",
      "4  11:58:38 AM  2.3809432983398297e-08  5.395615797640838e-09   \n",
      "\n",
      "            20000000_Mean            20000000_STD           30000000_Mean  \\\n",
      "0  3.8277626037597854e-08  1.1869122555825732e-07   4.665207862854046e-08   \n",
      "1  2.7097702026367097e-08   2.338149218060513e-08  2.8558969497680552e-08   \n",
      "2  2.5682687759399317e-08  1.5928818531307707e-08  2.5496959686279193e-08   \n",
      "3   2.521109580993634e-08   1.955570599121378e-08   2.584743499755852e-08   \n",
      "4   2.747559547424294e-08  1.8337124481211372e-08  2.6690483093261647e-08   \n",
      "\n",
      "             30000000_STD           40000000_Mean            40000000_STD  \\\n",
      "0  1.4127540293992928e-07   6.257963180542028e-08  2.3750696775786994e-07   \n",
      "1  1.3663221020703498e-08  2.8179645538329997e-08  1.1906649534513436e-08   \n",
      "2    1.61935517791076e-08   2.785325050353996e-08  1.8435594451627803e-08   \n",
      "3  1.7632884697201368e-08   2.652454376220691e-08  1.6845683148793903e-08   \n",
      "4  1.6560783955801995e-08  2.6321411132812394e-08  1.1608233115991342e-08   \n",
      "\n",
      "            50000000_Mean            50000000_STD           60000000_Mean  \\\n",
      "0   6.790947914123544e-08  2.2642404076809139e-07   7.728409767150907e-08   \n",
      "1   2.816057205200187e-08   1.697054503482415e-08  2.8516530990600508e-08   \n",
      "2  2.7034282684326004e-08   1.574783483757959e-08  2.8705358505248922e-08   \n",
      "3  2.6806831359863154e-08  1.1590193672608657e-08  2.6671648025512552e-08   \n",
      "4  2.9237270355224527e-08   1.732898514745903e-08  2.7278184890746928e-08   \n",
      "\n",
      "             60000000_STD           70000000_Mean            70000000_STD  \n",
      "0   2.619228663110108e-07  1.1552405357360825e-07   3.966594149394396e-07  \n",
      "1   1.172687551175156e-08  2.9683351516723484e-08  1.5647355218249535e-08  \n",
      "2  1.8667921706137652e-08  2.8489351272582813e-08  1.7615238423546304e-08  \n",
      "3   1.446258938975515e-08   2.909183502197263e-08  1.6020180848847323e-08  \n",
      "4  1.3625358825559285e-08  2.7019262313842578e-08  1.6703565616475594e-08  \n"
     ]
    }
   ],
   "source": [
    "df = pd.DataFrame(data, columns=col_names)\n",
    "print(df)"
   ]
  },
  {
   "cell_type": "code",
   "execution_count": 39,
   "metadata": {},
   "outputs": [
    {
     "name": "stdout",
     "output_type": "stream",
     "text": [
      "10000000_Mean    2.705441e-08\n",
      "10000000_STD     2.708366e-08\n",
      "20000000_Mean    2.874894e-08\n",
      "20000000_STD     3.917887e-08\n",
      "30000000_Mean    3.064919e-08\n",
      "30000000_STD     4.106517e-08\n",
      "40000000_Mean    3.429169e-08\n",
      "40000000_STD     5.926063e-08\n",
      "50000000_Mean    3.582969e-08\n",
      "50000000_STD     5.761232e-08\n",
      "60000000_Mean    3.769117e-08\n",
      "60000000_STD     6.408113e-08\n",
      "70000000_Mean    4.596157e-08\n",
      "70000000_STD     9.252914e-08\n",
      "dtype: float32\n"
     ]
    }
   ],
   "source": [
    "# Take the mean of each column in the dataframe: \n",
    "new_df = df.loc[:, df.columns != 'Time']\n",
    "for c in new_df.columns: \n",
    "    df[c] = pd.to_numeric(df[c], downcast='float')\n",
    "df_means = new_df.mean(axis = 0, skipna = True)\n",
    "\n",
    "print(df_means)"
   ]
  },
  {
   "cell_type": "markdown",
   "metadata": {
    "slideshow": {
     "slide_type": "subslide"
    }
   },
   "source": [
    "### Characterize random access to storage"
   ]
  },
  {
   "cell_type": "code",
   "execution_count": 41,
   "metadata": {},
   "outputs": [
    {
     "name": "stdout",
     "output_type": "stream",
     "text": [
      "[2.7054407e-08 2.7083658e-08 2.8748943e-08 3.9178872e-08 3.0649186e-08\n",
      " 4.1065171e-08 3.4291695e-08 5.9260628e-08 3.5829689e-08 5.7612322e-08\n",
      " 3.7691166e-08 6.4081128e-08 4.5961571e-08 9.2529142e-08]\n"
     ]
    }
   ],
   "source": [
    "# Re-create m_list from the pandas dataframe: \n",
    "means_stds = np.array(df_means)\n",
    "print(means_stds)"
   ]
  },
  {
   "cell_type": "code",
   "execution_count": null,
   "metadata": {},
   "outputs": [],
   "source": [
    "# TO DO: Re-plot based on the averaged means, standard deviations (need to change code below)"
   ]
  },
  {
   "cell_type": "code",
   "execution_count": 42,
   "metadata": {
    "ExecuteTime": {
     "end_time": "2018-04-09T00:46:13.536092Z",
     "start_time": "2018-04-09T00:46:12.640575Z"
    },
    "hide_input": false
   },
   "outputs": [
    {
     "ename": "NameError",
     "evalue": "name 'PlotTime' is not defined",
     "output_type": "error",
     "traceback": [
      "\u001b[0;31m---------------------------------------------------------------------------\u001b[0m",
      "\u001b[0;31mNameError\u001b[0m                                 Traceback (most recent call last)",
      "\u001b[0;32m<ipython-input-42-df29f977a64d>\u001b[0m in \u001b[0;36m<module>\u001b[0;34m\u001b[0m\n\u001b[1;32m     10\u001b[0m \u001b[0;32mfor\u001b[0m \u001b[0mm_i\u001b[0m \u001b[0;32min\u001b[0m \u001b[0mrange\u001b[0m\u001b[0;34m(\u001b[0m\u001b[0mlen\u001b[0m\u001b[0;34m(\u001b[0m\u001b[0mm_list\u001b[0m\u001b[0;34m)\u001b[0m\u001b[0;34m)\u001b[0m\u001b[0;34m:\u001b[0m\u001b[0;34m\u001b[0m\u001b[0;34m\u001b[0m\u001b[0m\n\u001b[1;32m     11\u001b[0m     \u001b[0mColor\u001b[0m\u001b[0;34m=\u001b[0m\u001b[0mColors\u001b[0m\u001b[0;34m[\u001b[0m\u001b[0mm_i\u001b[0m \u001b[0;34m%\u001b[0m \u001b[0mlen\u001b[0m\u001b[0;34m(\u001b[0m\u001b[0mColors\u001b[0m\u001b[0;34m)\u001b[0m\u001b[0;34m]\u001b[0m\u001b[0;34m\u001b[0m\u001b[0;34m\u001b[0m\u001b[0m\n\u001b[0;32m---> 12\u001b[0;31m     PlotTime(TMem[m_i],_mean[m_i],_std[m_i],\\\n\u001b[0m\u001b[1;32m     13\u001b[0m              \u001b[0mColor\u001b[0m\u001b[0;34m=\u001b[0m\u001b[0mColor\u001b[0m\u001b[0;34m,\u001b[0m\u001b[0mLS\u001b[0m\u001b[0;34m=\u001b[0m\u001b[0;34m'-'\u001b[0m\u001b[0;34m,\u001b[0m\u001b[0mLegend\u001b[0m\u001b[0;34m=\u001b[0m\u001b[0mm_legend\u001b[0m\u001b[0;34m[\u001b[0m\u001b[0mm_i\u001b[0m\u001b[0;34m]\u001b[0m\u001b[0;34m,\u001b[0m\u001b[0;31m\\\u001b[0m\u001b[0;34m\u001b[0m\u001b[0;34m\u001b[0m\u001b[0m\n\u001b[1;32m     14\u001b[0m              m_i=m_i)\n",
      "\u001b[0;31mNameError\u001b[0m: name 'PlotTime' is not defined"
     ]
    },
    {
     "data": {
      "text/plain": [
       "<Figure size 1332x756 with 0 Axes>"
      ]
     },
     "metadata": {},
     "output_type": "display_data"
    }
   ],
   "source": [
    "pp = PdfPages('MemoryBlockFigure.pdf')\n",
    "figure(figsize=(6,4))\n",
    "\n",
    "Colors='bgrcmyk'  # The colors for the plot\n",
    "LineStyles=['-']\n",
    "\n",
    "fig = matplotlib.pyplot.gcf()\n",
    "fig.set_size_inches(18.5,10.5)\n",
    "\n",
    "for m_i in range(len(m_list)):\n",
    "    Color=Colors[m_i % len(Colors)]\n",
    "    PlotTime(TMem[m_i],_mean[m_i],_std[m_i],\\\n",
    "             Color=Color,LS='-',Legend=m_legend[m_i],\\\n",
    "             m_i=m_i)\n",
    "\n",
    "grid()\n",
    "legend(fontsize=18)\n",
    "xlabel('delay (sec)',fontsize=18)\n",
    "ylabel('1-CDF',fontsize=18)\n",
    "tick_params(axis='both', which='major', labelsize=16)\n",
    "tick_params(axis='both', which='minor', labelsize=12)\n",
    "pp.savefig()\n",
    "pp.close()"
   ]
  },
  {
   "cell_type": "markdown",
   "metadata": {
    "hide_input": true,
    "slideshow": {
     "slide_type": "subslide"
    }
   },
   "source": [
    "### Conclusions\n",
    "\n",
    "We see that for this laptop (an apple powerbook) the latency of random pokes is close to $10^{-8}$ for blocks of size up to 1 MB. Beyond that, for sizes of 10MB, 100MB and 1GB, the delay is significantly larger.\n",
    "\n",
    "This makes sense because the size of the L3 cache in this machine is about 6MB."
   ]
  },
  {
   "cell_type": "code",
   "execution_count": null,
   "metadata": {},
   "outputs": [],
   "source": [
    "Saturday April 18, 2020 9:27:27pm"
   ]
  }
 ],
 "metadata": {
  "anaconda-cloud": {},
  "celltoolbar": "Slideshow",
  "hide_input": false,
  "kernelspec": {
   "display_name": "Python 3",
   "language": "python",
   "name": "python3"
  },
  "language_info": {
   "codemirror_mode": {
    "name": "ipython",
    "version": 3
   },
   "file_extension": ".py",
   "mimetype": "text/x-python",
   "name": "python",
   "nbconvert_exporter": "python",
   "pygments_lexer": "ipython3",
   "version": "3.7.3"
  },
  "toc": {
   "base_numbering": 1,
   "nav_menu": {
    "height": "82px",
    "width": "252px"
   },
   "number_sections": true,
   "sideBar": true,
   "skip_h1_title": false,
   "title_cell": "Table of Contents",
   "title_sidebar": "Contents",
   "toc_cell": false,
   "toc_position": {
    "height": "597px",
    "left": "0px",
    "right": "1204px",
    "top": "106px",
    "width": "251px"
   },
   "toc_section_display": "block",
   "toc_window_display": false
  }
 },
 "nbformat": 4,
 "nbformat_minor": 2
}
