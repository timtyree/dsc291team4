{
 "cells": [
  {
   "cell_type": "markdown",
   "metadata": {},
   "source": [
    "# Spacial visualization of eigenvalues\n",
    "\n",
    "Below we plot the coefficients of the top eigenvalues for each station, to see if any patterns emerge"
   ]
  },
  {
   "cell_type": "code",
   "execution_count": null,
   "metadata": {
    "ExecuteTime": {
     "end_time": "2020-05-20T17:24:09.821272Z",
     "start_time": "2020-05-20T17:24:09.803085Z"
    }
   },
   "outputs": [],
   "source": [
    "import os.path as path\n",
    "import sys\n",
    "import numpy as np\n",
    "from pyspark import SparkContext, SparkConf\n",
    "from lib import *\n",
    "from pyspark.sql import *\n",
    "# from utils import *\n",
    "from lib.utils import *\n",
    "import findspark\n",
    "findspark.init()\n",
    "\n",
    "%pylab inline\n"
   ]
  },
  {
   "cell_type": "code",
   "execution_count": null,
   "metadata": {
    "ExecuteTime": {
     "end_time": "2020-05-20T17:24:10.109155Z",
     "start_time": "2020-05-20T17:24:10.049152Z"
    }
   },
   "outputs": [],
   "source": [
    "# Create a new spark and sql context\n",
    "sc = create_sc(pyFiles=['lib/numpy_pack.py','lib/spark_PCA.py','lib/computeStatistics.py'])\n",
    "sqlContext = SQLContext(sc)\n",
    "\n",
    "# Create the names of the files/directories we're working with\n",
    "data_dir = '../DataHW3'\n",
    "\n",
    "if not path.exists(data_dir + '/' + 'stations.parquet'):\n",
    "    getStations()\n",
    "\n",
    "    \n",
    "states = ['ND', 'SD', 'MN', 'IA', 'NE', 'TX', 'OK', 'KS']\n",
    "\n",
    "for s in states:\n",
    "    \n",
    "    parquet = s + '.parquet'\n",
    "    tarname = s + '.tgz'\n",
    "    \n",
    "    if not path.exists(data_dir + '/' + parquet):\n",
    "\n",
    "        # pull the weather data for a particular state from the MAS-DSE S3 bucket\n",
    "        getStateData(s, data_dir, tarname, parquet)"
   ]
  },
  {
   "cell_type": "code",
   "execution_count": null,
   "metadata": {
    "ExecuteTime": {
     "end_time": "2020-05-20T17:19:43.051768Z",
     "start_time": "2020-05-20T17:19:38.480139Z"
    }
   },
   "outputs": [],
   "source": [
    "parquet = 'decon_midwest_SNWD.parquet'\n",
    "parquet_path = parquet\n",
    "df = sqlContext.read.parquet(parquet_path)\n",
    "\n",
    "sqlContext.registerDataFrameAsTable(df,'table')\n",
    "\n",
    "Query = f\"\"\"\n",
    "SELECT Station, Year, coeff_1, longitude, latitude\n",
    "FROM table\n",
    "WHERE state == \\'ND\\'\n",
    "\"\"\"\n",
    "dframe = sqlContext.sql(Query)\n",
    "dframe.count()"
   ]
  },
  {
   "cell_type": "markdown",
   "metadata": {},
   "source": [
    "## Coefficient 1"
   ]
  },
  {
   "cell_type": "code",
   "execution_count": null,
   "metadata": {
    "ExecuteTime": {
     "end_time": "2020-05-20T17:20:15.663820Z",
     "start_time": "2020-05-20T17:19:50.723125Z"
    }
   },
   "outputs": [],
   "source": [
    "featureStr = 'coeff_1'\n",
    "\n",
    "plotter = leaflet_eig(sqlContext, featureStr)\n",
    "\n",
    "sqlContext.registerDataFrameAsTable(df.drop('Values').withColumnRenamed(featureStr, 'Values'),f'table_{featureStr}')\n",
    "\n",
    "Query = f\"\"\"\n",
    "SELECT Station, Year, Values, longitude, latitude\n",
    "FROM table_{featureStr}\n",
    "\"\"\"\n",
    "dframe = sqlContext.sql(Query)\n",
    "\n",
    "plotter.add(dframe)\n",
    "plotter.plot_all()\n",
    "plotter.m"
   ]
  },
  {
   "cell_type": "markdown",
   "metadata": {},
   "source": [
    "### Filtered by year"
   ]
  },
  {
   "cell_type": "code",
   "execution_count": null,
   "metadata": {
    "ExecuteTime": {
     "end_time": "2020-05-20T17:31:31.669895Z",
     "start_time": "2020-05-20T17:31:15.382596Z"
    },
    "scrolled": true
   },
   "outputs": [],
   "source": [
    "featureStr = 'coeff_1'\n",
    "\n",
    "plotter = leaflet_eig(sqlContext, featureStr)\n",
    "\n",
    "sqlContext.registerDataFrameAsTable(df.drop('Values').withColumnRenamed(featureStr, 'Values'),f'table_{featureStr}')\n",
    "\n",
    "Query = f\"\"\"\n",
    "SELECT Station, Year, Values, longitude, latitude\n",
    "FROM table_{featureStr}\n",
    "WHERE Year>1969 and Year<2010\n",
    "\"\"\"\n",
    "dframe = sqlContext.sql(Query)\n",
    "\n",
    "plotter.add(dframe)\n",
    "plotter.plot_all()\n",
    "plotter.m"
   ]
  },
  {
   "cell_type": "code",
   "execution_count": null,
   "metadata": {
    "ExecuteTime": {
     "end_time": "2020-05-20T17:31:51.116618Z",
     "start_time": "2020-05-20T17:31:51.026447Z"
    },
    "hide_input": true
   },
   "outputs": [],
   "source": [
    "plotter.color_legend()"
   ]
  },
  {
   "cell_type": "markdown",
   "metadata": {},
   "source": [
    "## Coefficient 2"
   ]
  },
  {
   "cell_type": "code",
   "execution_count": null,
   "metadata": {
    "ExecuteTime": {
     "end_time": "2020-05-20T17:24:58.517190Z",
     "start_time": "2020-05-20T17:24:32.714602Z"
    }
   },
   "outputs": [],
   "source": [
    "featureStr = 'coeff_2'\n",
    "\n",
    "plotter = leaflet_eig(sqlContext, featureStr)\n",
    "\n",
    "sqlContext.registerDataFrameAsTable(df.drop('Values').withColumnRenamed(featureStr, 'Values'),f'table_{featureStr}')\n",
    "\n",
    "Query = f\"\"\"\n",
    "SELECT Station, Year, Values, longitude, latitude\n",
    "FROM table_{featureStr}\n",
    "\"\"\"\n",
    "dframe = sqlContext.sql(Query)\n",
    "\n",
    "plotter.add(dframe)\n",
    "plotter.plot_all()\n",
    "plotter.m"
   ]
  },
  {
   "cell_type": "code",
   "execution_count": null,
   "metadata": {
    "ExecuteTime": {
     "end_time": "2020-05-20T17:26:17.595403Z",
     "start_time": "2020-05-20T17:26:17.458601Z"
    },
    "hide_input": true
   },
   "outputs": [],
   "source": [
    "plotter.color_legend()"
   ]
  },
  {
   "cell_type": "markdown",
   "metadata": {},
   "source": [
    "## Coefficient 3"
   ]
  },
  {
   "cell_type": "code",
   "execution_count": null,
   "metadata": {
    "ExecuteTime": {
     "end_time": "2020-05-20T17:29:10.025079Z",
     "start_time": "2020-05-20T17:28:41.688771Z"
    }
   },
   "outputs": [],
   "source": [
    "featureStr = 'coeff_3'\n",
    "\n",
    "plotter = leaflet_eig(sqlContext, featureStr)\n",
    "\n",
    "\n",
    "sqlContext.registerDataFrameAsTable(df.drop('Values').withColumnRenamed(featureStr, 'Values'),f'table_{featureStr}')\n",
    "\n",
    "Query = f\"\"\"\n",
    "SELECT Station, Year, Values, longitude, latitude\n",
    "FROM table_{featureStr}\n",
    "\"\"\"\n",
    "dframe = sqlContext.sql(Query)\n",
    "\n",
    "plotter.add(dframe)\n",
    "plotter.plot_all()\n",
    "plotter.m"
   ]
  },
  {
   "cell_type": "code",
   "execution_count": null,
   "metadata": {
    "hide_input": true
   },
   "outputs": [],
   "source": [
    "plotter.color_legend()"
   ]
  },
  {
   "cell_type": "markdown",
   "metadata": {},
   "source": [
    "## Total Var"
   ]
  },
  {
   "cell_type": "code",
   "execution_count": null,
   "metadata": {
    "ExecuteTime": {
     "end_time": "2020-05-20T17:30:13.431571Z",
     "start_time": "2020-05-20T17:29:49.087137Z"
    }
   },
   "outputs": [],
   "source": [
    "featureStr = 'total_var'\n",
    "\n",
    "plotter = leaflet_eig(sqlContext, featureStr)\n",
    "\n",
    "sqlContext.registerDataFrameAsTable(df.drop('Values').withColumnRenamed(featureStr, 'Values'),f'table_{featureStr}')\n",
    "\n",
    "Query = f\"\"\"\n",
    "SELECT Station, Year, Values, longitude, latitude\n",
    "FROM table_{featureStr}\n",
    "\"\"\"\n",
    "dframe = sqlContext.sql(Query)\n",
    "\n",
    "plotter.add(dframe)\n",
    "plotter.plot_all()\n",
    "plotter.m"
   ]
  },
  {
   "cell_type": "code",
   "execution_count": null,
   "metadata": {},
   "outputs": [],
   "source": []
  },
  {
   "cell_type": "code",
   "execution_count": null,
   "metadata": {
    "ExecuteTime": {
     "end_time": "2020-05-20T17:30:19.318323Z",
     "start_time": "2020-05-20T17:30:19.207767Z"
    },
    "hide_input": true
   },
   "outputs": [],
   "source": [
    "plotter.color_legend()"
   ]
  },
  {
   "cell_type": "code",
   "execution_count": null,
   "metadata": {
    "ExecuteTime": {
     "end_time": "2020-05-20T17:09:27.097407Z",
     "start_time": "2020-05-20T17:09:26.938715Z"
    }
   },
   "outputs": [],
   "source": [
    "df.count()"
   ]
  },
  {
   "cell_type": "code",
   "execution_count": null,
   "metadata": {},
   "outputs": [],
   "source": []
  },
  {
   "cell_type": "code",
   "execution_count": null,
   "metadata": {},
   "outputs": [],
   "source": []
  }
 ],
 "metadata": {
  "kernelspec": {
   "display_name": "Python 3",
   "language": "python",
   "name": "python3"
  },
  "language_info": {
   "codemirror_mode": {
    "name": "ipython",
    "version": 3
   },
   "file_extension": ".py",
   "mimetype": "text/x-python",
   "name": "python",
   "nbconvert_exporter": "python",
   "pygments_lexer": "ipython3",
   "version": "3.6.5"
  },
  "toc": {
   "base_numbering": 1,
   "nav_menu": {},
   "number_sections": true,
   "sideBar": true,
   "skip_h1_title": false,
   "title_cell": "Table of Contents",
   "title_sidebar": "Contents",
   "toc_cell": false,
   "toc_position": {},
   "toc_section_display": true,
   "toc_window_display": false
  },
  "varInspector": {
   "cols": {
    "lenName": 16,
    "lenType": 16,
    "lenVar": 40
   },
   "kernels_config": {
    "python": {
     "delete_cmd_postfix": "",
     "delete_cmd_prefix": "del ",
     "library": "var_list.py",
     "varRefreshCmd": "print(var_dic_list())"
    },
    "r": {
     "delete_cmd_postfix": ") ",
     "delete_cmd_prefix": "rm(",
     "library": "var_list.r",
     "varRefreshCmd": "cat(var_dic_list()) "
    }
   },
   "types_to_exclude": [
    "module",
    "function",
    "builtin_function_or_method",
    "instance",
    "_Feature"
   ],
   "window_display": false
  }
 },
 "nbformat": 4,
 "nbformat_minor": 2
}
