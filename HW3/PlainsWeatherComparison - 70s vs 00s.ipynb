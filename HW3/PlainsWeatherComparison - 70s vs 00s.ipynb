{
 "cells": [
  {
   "cell_type": "code",
   "execution_count": 1,
   "metadata": {
    "ExecuteTime": {
     "end_time": "2020-05-15T13:58:56.272024Z",
     "start_time": "2020-05-15T13:58:54.856244Z"
    }
   },
   "outputs": [
    {
     "name": "stdout",
     "output_type": "stream",
     "text": [
      "Populating the interactive namespace from numpy and matplotlib\n"
     ]
    },
    {
     "name": "stderr",
     "output_type": "stream",
     "text": [
      "/opt/conda/lib/python3.6/site-packages/IPython/core/magics/pylab.py:160: UserWarning: pylab import has clobbered these variables: ['Rectangle', 'mean', 'Polygon', 'Circle', 'plt']\n",
      "`%matplotlib` prevents importing * from pylab and numpy\n",
      "  \"\\n`%matplotlib` prevents importing * from pylab and numpy\"\n"
     ]
    }
   ],
   "source": [
    "import os.path as path\n",
    "import sys\n",
    "import numpy as np\n",
    "from pyspark import SparkContext, SparkConf\n",
    "from lib import *\n",
    "from pyspark.sql import *\n",
    "# from utils import *\n",
    "from utils import *\n",
    "import findspark\n",
    "findspark.init()\n",
    "\n",
    "%pylab inline\n"
   ]
  },
  {
   "cell_type": "markdown",
   "metadata": {},
   "source": []
  },
  {
   "cell_type": "code",
   "execution_count": 2,
   "metadata": {
    "ExecuteTime": {
     "end_time": "2020-05-15T13:59:00.257772Z",
     "start_time": "2020-05-15T13:58:56.275162Z"
    }
   },
   "outputs": [
    {
     "name": "stdout",
     "output_type": "stream",
     "text": [
      "dict_items([('spark.app.name', 'Weather_PCA'), ('spark.executor.memory', '3g'), ('spark.executor.cores', '1'), ('spark.cores.max', '4'), ('spark.default.parallelism', '10'), ('spark.logConf', 'True')])\n"
     ]
    }
   ],
   "source": [
    "# Create a new spark and sql context\n",
    "sc = create_sc(pyFiles=['lib/numpy_pack.py','lib/spark_PCA.py','lib/computeStatistics.py'])\n",
    "sqlContext = SQLContext(sc)\n",
    "\n",
    "# Create the names of the files/directories we're working with\n",
    "data_dir = '../DataHW3'\n",
    "\n",
    "if not path.exists(data_dir + '/' + 'stations.parquet'):\n",
    "    getStations()\n",
    "\n",
    "    \n",
    "states = ['ND', 'SD', 'MN', 'IA', 'NE', 'TX', 'OK', 'KS']\n",
    "\n",
    "for s in states:\n",
    "    \n",
    "    parquet = s + '.parquet'\n",
    "    tarname = s + '.tgz'\n",
    "    \n",
    "    if not path.exists(data_dir + '/' + parquet):\n",
    "\n",
    "        # pull the weather data for a particular state from the MAS-DSE S3 bucket\n",
    "        getStateData(s, data_dir, tarname, parquet)"
   ]
  },
  {
   "cell_type": "markdown",
   "metadata": {},
   "source": []
  },
  {
   "cell_type": "markdown",
   "metadata": {},
   "source": [
    "# Change in average daily snow fall"
   ]
  },
  {
   "cell_type": "code",
   "execution_count": 3,
   "metadata": {
    "ExecuteTime": {
     "end_time": "2020-05-15T14:01:29.670804Z",
     "start_time": "2020-05-15T13:59:00.261104Z"
    }
   },
   "outputs": [
    {
     "name": "stderr",
     "output_type": "stream",
     "text": [
      "/usr/local/spark/python/pyspark/sql/session.py:360: UserWarning: Using RDD of dict to inferSchema is deprecated. Use pyspark.sql.Row instead\n",
      "  warnings.warn(\"Using RDD of dict to inferSchema is deprecated. \"\n"
     ]
    },
    {
     "name": "stdout",
     "output_type": "stream",
     "text": [
      "Done adding ND\n",
      "Done adding SD\n",
      "Done adding MN\n",
      "Done adding IA\n",
      "Done adding NE\n",
      "Done adding TX\n",
      "Done adding OK\n",
      "Done adding KS\n",
      "\n",
      "\n",
      "Amount of snow fall change, 70s to 00s\n"
     ]
    },
    {
     "data": {
      "application/vnd.jupyter.widget-view+json": {
       "model_id": "d0c5921849134b0db262ad5582a8df35",
       "version_major": 2,
       "version_minor": 0
      },
      "text/plain": [
       "Map(center=[37.45725059509277, -98.1441535949707], controls=(ZoomControl(options=['position', 'zoom_in_text', …"
      ]
     },
     "metadata": {},
     "output_type": "display_data"
    }
   ],
   "source": [
    "featureStr = \"\\'SNOW\\'\"\n",
    "\n",
    "test_data = decadeMeasurementDelta(featureStr, states, data_dir, sqlContext)\n",
    "master_dataframe = test_data[0]\n",
    "for i in range(len(test_data)-1):\n",
    "    master_dataframe = master_dataframe.union(test_data[i+1])\n",
    "\n",
    "print(\"\\n\\nAmount of snow fall change, 70s to 00s\")\n",
    "\n",
    "plotter = leaflet(sqlContext, featureStr)\n",
    "plotter.add(master_dataframe)\n",
    "plotter.plot_all()\n",
    "plotter.m\n"
   ]
  },
  {
   "cell_type": "code",
   "execution_count": null,
   "metadata": {},
   "outputs": [],
   "source": []
  },
  {
   "cell_type": "markdown",
   "metadata": {},
   "source": [
    "Legend:"
   ]
  },
  {
   "cell_type": "code",
   "execution_count": 4,
   "metadata": {
    "ExecuteTime": {
     "end_time": "2020-05-15T14:01:29.869765Z",
     "start_time": "2020-05-15T14:01:29.673946Z"
    },
    "hide_input": true
   },
   "outputs": [
    {
     "data": {
      "image/png": "[encoded data removed]",
      "text/plain": [
       "<Figure size 720x72 with 1 Axes>"
      ]
     },
     "metadata": {},
     "output_type": "display_data"
    }
   ],
   "source": [
    "plotter.color_legend()"
   ]
  },
  {
   "cell_type": "markdown",
   "metadata": {},
   "source": [
    "# Change in average daily snow depth"
   ]
  },
  {
   "cell_type": "code",
   "execution_count": 5,
   "metadata": {
    "ExecuteTime": {
     "end_time": "2020-05-15T14:03:28.069466Z",
     "start_time": "2020-05-15T14:01:29.873196Z"
    }
   },
   "outputs": [
    {
     "name": "stderr",
     "output_type": "stream",
     "text": [
      "/usr/local/spark/python/pyspark/sql/session.py:360: UserWarning: Using RDD of dict to inferSchema is deprecated. Use pyspark.sql.Row instead\n",
      "  warnings.warn(\"Using RDD of dict to inferSchema is deprecated. \"\n"
     ]
    },
    {
     "name": "stdout",
     "output_type": "stream",
     "text": [
      "Done adding ND\n",
      "Done adding SD\n",
      "Done adding MN\n",
      "Done adding IA\n",
      "Done adding NE\n",
      "Done adding TX\n",
      "Done adding OK\n",
      "Done adding KS\n",
      "\n",
      "\n",
      "Change in snow depth change, 70s to 00s\n"
     ]
    },
    {
     "data": {
      "application/vnd.jupyter.widget-view+json": {
       "model_id": "b607a1036c604f3ebc9e5dceb614f079",
       "version_major": 2,
       "version_minor": 0
      },
      "text/plain": [
       "Map(center=[37.45725059509277, -98.1441535949707], controls=(ZoomControl(options=['position', 'zoom_in_text', …"
      ]
     },
     "metadata": {},
     "output_type": "display_data"
    }
   ],
   "source": [
    "featureStr = \"\\'SNWD\\'\"\n",
    "\n",
    "test_data = decadeMeasurementDelta(featureStr, states, data_dir, sqlContext)\n",
    "master_dataframe = test_data[0]\n",
    "for i in range(len(test_data)-1):\n",
    "    master_dataframe = master_dataframe.union(test_data[i+1])\n",
    "\n",
    "print(\"\\n\\nChange in snow depth change, 70s to 00s\")\n",
    "\n",
    "plotter = leaflet(sqlContext, featureStr)\n",
    "plotter.add(master_dataframe)\n",
    "plotter.plot_all()\n",
    "plotter.m"
   ]
  },
  {
   "cell_type": "code",
   "execution_count": null,
   "metadata": {},
   "outputs": [],
   "source": []
  },
  {
   "cell_type": "code",
   "execution_count": 6,
   "metadata": {
    "ExecuteTime": {
     "end_time": "2020-05-15T14:03:28.180159Z",
     "start_time": "2020-05-15T14:03:28.072318Z"
    },
    "hide_input": true
   },
   "outputs": [
    {
     "data": {
      "image/png": "[encoded data removed]",
      "text/plain": [
       "<Figure size 720x72 with 1 Axes>"
      ]
     },
     "metadata": {},
     "output_type": "display_data"
    }
   ],
   "source": [
    "plotter.color_legend()"
   ]
  },
  {
   "cell_type": "markdown",
   "metadata": {
    "ExecuteTime": {
     "end_time": "2020-05-14T17:55:40.619320Z",
     "start_time": "2020-05-14T17:55:36.037090Z"
    }
   },
   "source": [
    "# Change in average max daily temperature"
   ]
  },
  {
   "cell_type": "code",
   "execution_count": 7,
   "metadata": {
    "ExecuteTime": {
     "end_time": "2020-05-15T14:05:26.933563Z",
     "start_time": "2020-05-15T14:03:28.184768Z"
    }
   },
   "outputs": [
    {
     "name": "stderr",
     "output_type": "stream",
     "text": [
      "/usr/local/spark/python/pyspark/sql/session.py:360: UserWarning: Using RDD of dict to inferSchema is deprecated. Use pyspark.sql.Row instead\n",
      "  warnings.warn(\"Using RDD of dict to inferSchema is deprecated. \"\n"
     ]
    },
    {
     "name": "stdout",
     "output_type": "stream",
     "text": [
      "Done adding ND\n",
      "Done adding SD\n",
      "Done adding MN\n",
      "Done adding IA\n",
      "Done adding NE\n",
      "Done adding TX\n",
      "Done adding OK\n",
      "Done adding KS\n",
      "\n",
      "\n",
      "Change in average max daily temperature, 70s to 00s\n"
     ]
    },
    {
     "data": {
      "application/vnd.jupyter.widget-view+json": {
       "model_id": "64bd2e49e8df474a9b3689c92022ab2b",
       "version_major": 2,
       "version_minor": 0
      },
      "text/plain": [
       "Map(center=[37.45725059509277, -98.1441535949707], controls=(ZoomControl(options=['position', 'zoom_in_text', …"
      ]
     },
     "metadata": {},
     "output_type": "display_data"
    }
   ],
   "source": [
    "featureStr = \"\\'TMAX\\'\"\n",
    "\n",
    "test_data = decadeMeasurementDelta(featureStr, states, data_dir, sqlContext)\n",
    "master_dataframe = test_data[0]\n",
    "for i in range(len(test_data)-1):\n",
    "    master_dataframe = master_dataframe.union(test_data[i+1])\n",
    "\n",
    "print(\"\\n\\nChange in average max daily temperature, 70s to 00s\")\n",
    "\n",
    "plotter = leaflet(sqlContext, featureStr)\n",
    "plotter.add(master_dataframe)\n",
    "plotter.plot_all()\n",
    "plotter.m"
   ]
  },
  {
   "cell_type": "code",
   "execution_count": 8,
   "metadata": {
    "ExecuteTime": {
     "end_time": "2020-05-15T14:05:27.108362Z",
     "start_time": "2020-05-15T14:05:26.936345Z"
    },
    "hide_input": true
   },
   "outputs": [
    {
     "data": {
      "image/png": "[encoded data removed]",
      "text/plain": [
       "<Figure size 720x72 with 1 Axes>"
      ]
     },
     "metadata": {},
     "output_type": "display_data"
    }
   ],
   "source": [
    "plotter.color_legend()"
   ]
  },
  {
   "cell_type": "markdown",
   "metadata": {
    "ExecuteTime": {
     "end_time": "2020-05-14T17:55:41.000973Z",
     "start_time": "2020-05-14T17:55:40.996208Z"
    }
   },
   "source": [
    "# Change in average min daily temperature"
   ]
  },
  {
   "cell_type": "markdown",
   "metadata": {},
   "source": []
  },
  {
   "cell_type": "code",
   "execution_count": 10,
   "metadata": {
    "ExecuteTime": {
     "end_time": "2020-05-15T14:12:09.997451Z",
     "start_time": "2020-05-15T14:10:02.635040Z"
    }
   },
   "outputs": [
    {
     "name": "stderr",
     "output_type": "stream",
     "text": [
      "/usr/local/spark/python/pyspark/sql/session.py:360: UserWarning: Using RDD of dict to inferSchema is deprecated. Use pyspark.sql.Row instead\n",
      "  warnings.warn(\"Using RDD of dict to inferSchema is deprecated. \"\n"
     ]
    },
    {
     "name": "stdout",
     "output_type": "stream",
     "text": [
      "Done adding ND\n",
      "Done adding SD\n",
      "Done adding MN\n",
      "Done adding IA\n",
      "Done adding NE\n",
      "Done adding TX\n",
      "Done adding OK\n",
      "Done adding KS\n",
      "\n",
      "\n",
      "Change in average min daily temperature, 70s to 00s\n"
     ]
    },
    {
     "data": {
      "application/vnd.jupyter.widget-view+json": {
       "model_id": "268cbb9c63b14cd7952a610c334df7e7",
       "version_major": 2,
       "version_minor": 0
      },
      "text/plain": [
       "Map(center=[37.45725059509277, -98.1441535949707], controls=(ZoomControl(options=['position', 'zoom_in_text', …"
      ]
     },
     "metadata": {},
     "output_type": "display_data"
    }
   ],
   "source": [
    "featureStr = \"\\'TMIN\\'\"\n",
    "\n",
    "test_data = decadeMeasurementDelta(featureStr, states, data_dir, sqlContext)\n",
    "master_dataframe = test_data[0]\n",
    "for i in range(len(test_data)-1):\n",
    "    master_dataframe = master_dataframe.union(test_data[i+1])\n",
    "\n",
    "print(\"\\n\\nChange in average min daily temperature, 70s to 00s\")\n",
    "\n",
    "plotter = leaflet(sqlContext, featureStr)\n",
    "plotter.add(master_dataframe)\n",
    "plotter.plot_all()\n",
    "plotter.m"
   ]
  },
  {
   "cell_type": "markdown",
   "metadata": {},
   "source": [
    "Legend:"
   ]
  },
  {
   "cell_type": "code",
   "execution_count": 33,
   "metadata": {
    "ExecuteTime": {
     "end_time": "2020-05-15T14:29:58.907337Z",
     "start_time": "2020-05-15T14:29:58.755244Z"
    },
    "hide_input": true
   },
   "outputs": [
    {
     "data": {
      "image/png": "[encoded data removed]",
      "text/plain": [
       "<Figure size 720x72 with 1 Axes>"
      ]
     },
     "metadata": {},
     "output_type": "display_data"
    }
   ],
   "source": [
    "plotter.color_legend()"
   ]
  },
  {
   "cell_type": "markdown",
   "metadata": {},
   "source": [
    "# Verification of 'TX' values\n",
    "\n",
    "Verification that the SNOW and SNWD metrics actually saw an average increase comparing across the two time periods"
   ]
  },
  {
   "cell_type": "code",
   "execution_count": 24,
   "metadata": {
    "ExecuteTime": {
     "end_time": "2020-05-15T14:27:23.945406Z",
     "start_time": "2020-05-15T14:27:23.936384Z"
    }
   },
   "outputs": [],
   "source": [
    "featureStr = \"\\'SNWD\\'\""
   ]
  },
  {
   "cell_type": "code",
   "execution_count": 25,
   "metadata": {
    "ExecuteTime": {
     "end_time": "2020-05-15T14:27:30.383656Z",
     "start_time": "2020-05-15T14:27:24.243845Z"
    }
   },
   "outputs": [
    {
     "name": "stderr",
     "output_type": "stream",
     "text": [
      "/usr/local/spark/python/pyspark/sql/session.py:360: UserWarning: Using RDD of dict to inferSchema is deprecated. Use pyspark.sql.Row instead\n",
      "  warnings.warn(\"Using RDD of dict to inferSchema is deprecated. \"\n"
     ]
    }
   ],
   "source": [
    "data_dir = '../DataHW3'\n",
    "s = 'TX'\n",
    "parquet = s + '.parquet'\n",
    "parquet_path = data_dir + '/' + parquet\n",
    "df = sqlContext.read.parquet(parquet_path)\n",
    "sqlContext.registerDataFrameAsTable(df,f'table_{s}')\n",
    "\n",
    "# 70s\n",
    "\n",
    "###\n",
    "Query = f\"\"\"\n",
    "SELECT Station, Measurement, Values, longitude, latitude, Year\n",
    "FROM table_{s}\n",
    "WHERE Measurement=={featureStr} and (Year >= 1970 and Year < 1980)\n",
    "\"\"\"\n",
    "query70s = sqlContext.sql(Query)\n",
    "rdd70s = query70s.rdd.map(lambda x: remove0sAndAverage(x, 'Values'))\n",
    "dfs70 = sqlContext.createDataFrame(rdd70s)\n",
    "sqlContext.registerDataFrameAsTable(dfs70, f'table_{s}_70s')\n"
   ]
  },
  {
   "cell_type": "code",
   "execution_count": 26,
   "metadata": {
    "ExecuteTime": {
     "end_time": "2020-05-15T14:27:35.810459Z",
     "start_time": "2020-05-15T14:27:32.041463Z"
    }
   },
   "outputs": [],
   "source": [
    "df70 = dfs70.toPandas()"
   ]
  },
  {
   "cell_type": "code",
   "execution_count": 27,
   "metadata": {
    "ExecuteTime": {
     "end_time": "2020-05-15T14:27:37.126421Z",
     "start_time": "2020-05-15T14:27:36.494556Z"
    }
   },
   "outputs": [
    {
     "name": "stderr",
     "output_type": "stream",
     "text": [
      "/usr/local/spark/python/pyspark/sql/session.py:360: UserWarning: Using RDD of dict to inferSchema is deprecated. Use pyspark.sql.Row instead\n",
      "  warnings.warn(\"Using RDD of dict to inferSchema is deprecated. \"\n"
     ]
    }
   ],
   "source": [
    "# 00s\n",
    "\n",
    "###\n",
    "Query = f\"\"\"\n",
    "SELECT Station, Measurement, Values, longitude, latitude, Year\n",
    "FROM table_{s}\n",
    "WHERE Measurement=={featureStr} and (Year >= 2000 and Year < 2010)\n",
    "\"\"\"\n",
    "query00s = sqlContext.sql(Query)\n",
    "rdd00s = query00s.rdd.map(lambda x: remove0sAndAverage(x, 'Values'))\n",
    "dfs00 = sqlContext.createDataFrame(rdd00s)\n",
    "sqlContext.registerDataFrameAsTable(dfs00, f'table_{s}_00s')\n"
   ]
  },
  {
   "cell_type": "code",
   "execution_count": 28,
   "metadata": {
    "ExecuteTime": {
     "end_time": "2020-05-15T14:27:41.093353Z",
     "start_time": "2020-05-15T14:27:37.722397Z"
    }
   },
   "outputs": [],
   "source": [
    "df00 = dfs00.toPandas()"
   ]
  },
  {
   "cell_type": "code",
   "execution_count": 35,
   "metadata": {
    "ExecuteTime": {
     "end_time": "2020-05-15T14:35:09.751590Z",
     "start_time": "2020-05-15T14:35:09.737442Z"
    }
   },
   "outputs": [
    {
     "name": "stdout",
     "output_type": "stream",
     "text": [
      "Mean TX SNOW values in the 70s: 60.98990858848359\n",
      "Mean TX SNOW values in the 00s: 73.82697287302597\n"
     ]
    }
   ],
   "source": [
    "print(\"Mean TX SNOW values in the 70s: %s\"%df70.Values.mean())\n",
    "print(\"Mean TX SNOW values in the 00s: %s\"%df00.Values.mean())"
   ]
  },
  {
   "cell_type": "code",
   "execution_count": null,
   "metadata": {},
   "outputs": [],
   "source": []
  }
 ],
 "metadata": {
  "kernelspec": {
   "display_name": "Python 3",
   "language": "python",
   "name": "python3"
  },
  "language_info": {
   "codemirror_mode": {
    "name": "ipython",
    "version": 3
   },
   "file_extension": ".py",
   "mimetype": "text/x-python",
   "name": "python",
   "nbconvert_exporter": "python",
   "pygments_lexer": "ipython3",
   "version": "3.6.5"
  },
  "toc": {
   "base_numbering": 1,
   "nav_menu": {},
   "number_sections": true,
   "sideBar": true,
   "skip_h1_title": false,
   "title_cell": "Table of Contents",
   "title_sidebar": "Contents",
   "toc_cell": false,
   "toc_position": {},
   "toc_section_display": true,
   "toc_window_display": false
  },
  "varInspector": {
   "cols": {
    "lenName": 16,
    "lenType": 16,
    "lenVar": 40
   },
   "kernels_config": {
    "python": {
     "delete_cmd_postfix": "",
     "delete_cmd_prefix": "del ",
     "library": "var_list.py",
     "varRefreshCmd": "print(var_dic_list())"
    },
    "r": {
     "delete_cmd_postfix": ") ",
     "delete_cmd_prefix": "rm(",
     "library": "var_list.r",
     "varRefreshCmd": "cat(var_dic_list()) "
    }
   },
   "types_to_exclude": [
    "module",
    "function",
    "builtin_function_or_method",
    "instance",
    "_Feature"
   ],
   "window_display": false
  }
 },
 "nbformat": 4,
 "nbformat_minor": 2
}
