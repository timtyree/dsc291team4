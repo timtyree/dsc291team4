{
 "cells": [
  {
   "cell_type": "code",
   "execution_count": 47,
   "metadata": {
    "ExecuteTime": {
     "end_time": "2020-05-22T22:11:25.359628Z",
     "start_time": "2020-05-22T22:11:25.346758Z"
    }
   },
   "outputs": [
    {
     "name": "stdout",
     "output_type": "stream",
     "text": [
      "The watermark extension is already loaded. To reload it, use:\n",
      "  %reload_ext watermark\n",
      "Automatic calling is: OFF\n"
     ]
    }
   ],
   "source": [
    "import pandas as pd, numpy as np, os\n",
    "from scipy import stats\n",
    "import matplotlib.pyplot as plt\n",
    "import seaborn as sns\n",
    "if 'nb_dir' not in globals():\n",
    "    nb_dir=os.getcwd()\n",
    "    \n",
    "%load_ext watermark\n",
    "%autocall"
   ]
  },
  {
   "cell_type": "markdown",
   "metadata": {},
   "source": [
    "# Significant Paired Tests for Snowfall in the Midwest\n",
    "*Spatial autocorrelation not considered, thought the results are otherwise compelling. Run all cells with measure=\"SNWD\" for snowdepth or with measure=\"SNOW\" for snowfall (in millimeters).*"
   ]
  },
  {
   "cell_type": "code",
   "execution_count": 48,
   "metadata": {
    "ExecuteTime": {
     "end_time": "2020-05-22T22:11:33.912181Z",
     "start_time": "2020-05-22T22:11:25.375871Z"
    }
   },
   "outputs": [
    {
     "name": "stdout",
     "output_type": "stream",
     "text": [
      "States considered herein are {'MN', 'SD', 'KS', 'ND', 'IA', 'TX', 'NE', 'OK'}.\n"
     ]
    }
   ],
   "source": [
    "os.chdir(nb_dir)\n",
    "# measure = \"SNWD\"\n",
    "measure = \"SNOW\"\n",
    "data_dir = f\"Data/{measure}-All-States.xlsx\"\n",
    "df_raw = pd.read_excel(data_dir)\n",
    "\n",
    "#define queries for northern/southern plains\n",
    "print(f\"States considered herein are {set(df_raw.state.values)}.\")\n",
    "qN = 'state is IA or state is ND or state is SD or state is MN or state is NE'\n",
    "qS = 'state == TX | state == OK | state == KS'\n",
    "booN =  (df_raw.state=='IA') | \\\n",
    "        (df_raw.state=='ND') | \\\n",
    "        (df_raw.state=='SD') | \\\n",
    "        (df_raw.state=='MN') | \\\n",
    "        (df_raw.state=='NE')\n",
    "booS =  (df_raw.state=='TX') | \\\n",
    "        (df_raw.state=='KS') | \\\n",
    "        (df_raw.state=='OK') \n",
    "\n",
    "os.chdir('hw3_imgs/fig')"
   ]
  },
  {
   "cell_type": "markdown",
   "metadata": {},
   "source": [
    "__Example Results Section__: (this may be madlib'd for each section/region in a straightforward way)<br>\n",
    "In the Northern Plains, the average weather station measurement of SNOW took a median value of 12 mm (IQR: 9.4-18 mm) from 1990-1995, which was less than that same value measured from 1980-1985, which took a median value of 16 mm (IQR: 11-30 mm), consistent with a significant distributional difference ($p<0.0001$, $U\\approx6.8\\cdot10^4$, $N_\\text{stations}=694$) we found according to a Wilcoxon signed-rank test, which is a nonparametric paired test that does not assumed normality of the data.  This result is consistent with a paired student's t-test ($p<0.0001$, $t\\approx9.5$, $N_\\text{stations}=694$), which does make normality assumptions for the underlaying distribution of SNOW measurements.  This comparative test was repeated with various other choices for time intervals, and the results were consistent.  These tests were repeated for snow depth measurements (SNWD), which yielded consistently significant ($p<0.0001$) results, which are discussed in the following paragraph.\n",
    "\n",
    "In the Northern Plains, the average weather station measurement of SNWD took a median value of 55 mm (IQR: 38-76 mm) from 1990-1995, which was less than that same value measured from 1980-1985, which took a median value of 16 mm (IQR: 11-30 mm), consistent with a significant distributional difference ($p<0.0001$, $U\\approx7.0\\cdot10^4$, $N_\\text{stations}=693$) we found according to a Mann-Whitney U test, which is a nonparametric paired test that does not assumed normality of the data.  This result is consistent with a paired student's t-test ($p<0.0001$, $t\\approx9.7$, $N_\\text{stations}=693$), which does make normality assumptions for the underlaying distribution of SNOW measurements.  This comparative test was repeated with various other choices for time intervals, and the results were consistent.  \n",
    "\n",
    "__Caveat__:<br>\n",
    "Both statistical tests assume statistically independent observation pairs.  We would expect observations to be autocorrelated spatially.  Therefore, a statistical test that considers spatial autocorrelation is necessary to prove *beyond a reasonable doubt* that snowfall has decreased between the periods 1980-1985 and 1990-1995.\n",
    "\n",
    "__Nota Bene__:<br>\n",
    "The following [assumptions](https://en.wikipedia.org/wiki/Wilcoxon_signed-rank_test) are made for the Wilcoxon signed-rank test — not all of which are met here:\n",
    " - Data are paired and come from the same population.\n",
    " - Each pair is chosen randomly and independently[citation needed].\n",
    " - The data are measured on at least an interval scale when, as is usual, within-pair differences are calculated to perform the test (though it does suffice that within-pair comparisons are on an ordinal scale)."
   ]
  },
  {
   "cell_type": "markdown",
   "metadata": {},
   "source": [
    "# SNOW/SNWD in the Northern Plains"
   ]
  },
  {
   "cell_type": "markdown",
   "metadata": {},
   "source": [
    "## compute results"
   ]
  },
  {
   "cell_type": "code",
   "execution_count": 49,
   "metadata": {
    "ExecuteTime": {
     "end_time": "2020-05-22T22:11:33.957231Z",
     "start_time": "2020-05-22T22:11:33.916539Z"
    }
   },
   "outputs": [],
   "source": [
    "q1 = '1970 <= Year < 1980  and Values>0'\n",
    "q2 = '2000 <= Year < 2010  and Values>0'\n",
    "stringa = '1970-1980'\n",
    "stringb = '2000-2010'\n",
    "df = df_raw[booN].copy()\n",
    "set1 = df.query(q1).groupby('Station')[['Station','Values', 'state']].mean()\n",
    "set2 = df.query(q2).groupby('Station')[['Station','Values', 'state']].mean()"
   ]
  },
  {
   "cell_type": "code",
   "execution_count": 50,
   "metadata": {
    "ExecuteTime": {
     "end_time": "2020-05-22T22:11:33.979645Z",
     "start_time": "2020-05-22T22:11:33.959668Z"
    }
   },
   "outputs": [],
   "source": [
    "df2 = set2.rename(columns={'Values':\"Values_2\"})\n",
    "df2['Values_1'] = set1['Values']\n",
    "df2.dropna(inplace=True)\n",
    "df2['change'] = df2['Values_2'] - df2['Values_1']\n",
    "df2['log_meas_1'] = np.log(df2['Values_1'])\n",
    "df2['log_meas_2'] = np.log(df2['Values_2'])"
   ]
  },
  {
   "cell_type": "code",
   "execution_count": 51,
   "metadata": {
    "ExecuteTime": {
     "end_time": "2020-05-22T22:11:33.992949Z",
     "start_time": "2020-05-22T22:11:33.982654Z"
    }
   },
   "outputs": [],
   "source": [
    "a = df2.Values_1\n",
    "b = df2.Values_2"
   ]
  },
  {
   "cell_type": "markdown",
   "metadata": {},
   "source": []
  },
  {
   "cell_type": "code",
   "execution_count": 52,
   "metadata": {
    "ExecuteTime": {
     "end_time": "2020-05-22T22:11:34.012379Z",
     "start_time": "2020-05-22T22:11:33.995552Z"
    }
   },
   "outputs": [
    {
     "name": "stdout",
     "output_type": "stream",
     "text": [
      "Number of stations considered in northern plains = 663\n",
      "measurement is SNOW.\n"
     ]
    }
   ],
   "source": [
    "assert(len(a)==len(b))\n",
    "print(f'Number of stations considered in northern plains = {len(a)}')\n",
    "print(f\"measurement is {measure}.\")"
   ]
  },
  {
   "cell_type": "code",
   "execution_count": 53,
   "metadata": {
    "ExecuteTime": {
     "end_time": "2020-05-22T22:11:34.033950Z",
     "start_time": "2020-05-22T22:11:34.020101Z"
    }
   },
   "outputs": [
    {
     "data": {
      "text/plain": [
       "WilcoxonResult(statistic=85604.0, pvalue=7.175686893839759e-07)"
      ]
     },
     "execution_count": 53,
     "metadata": {},
     "output_type": "execute_result"
    }
   ],
   "source": [
    "dy = df2['change'].values\n",
    "stats.wilcoxon(dy)"
   ]
  },
  {
   "cell_type": "code",
   "execution_count": 54,
   "metadata": {
    "ExecuteTime": {
     "end_time": "2020-05-22T22:11:34.047477Z",
     "start_time": "2020-05-22T22:11:34.037003Z"
    }
   },
   "outputs": [
    {
     "data": {
      "text/plain": [
       "WilcoxonResult(statistic=85604.0, pvalue=7.175686893839759e-07)"
      ]
     },
     "execution_count": 54,
     "metadata": {},
     "output_type": "execute_result"
    }
   ],
   "source": [
    "stats.wilcoxon(a,b)"
   ]
  },
  {
   "cell_type": "code",
   "execution_count": 55,
   "metadata": {
    "ExecuteTime": {
     "end_time": "2020-05-22T22:11:34.073107Z",
     "start_time": "2020-05-22T22:11:34.055455Z"
    }
   },
   "outputs": [
    {
     "data": {
      "text/plain": [
       "Ttest_relResult(statistic=3.4542338510711175, pvalue=0.0005870609784415791)"
      ]
     },
     "execution_count": 55,
     "metadata": {},
     "output_type": "execute_result"
    }
   ],
   "source": [
    "stats.ttest_rel(a,b)"
   ]
  },
  {
   "cell_type": "code",
   "execution_count": 56,
   "metadata": {
    "ExecuteTime": {
     "end_time": "2020-05-22T22:11:34.205188Z",
     "start_time": "2020-05-22T22:11:34.080192Z"
    }
   },
   "outputs": [
    {
     "data": {
      "text/html": [
       "<div>\n",
       "<style scoped>\n",
       "    .dataframe tbody tr th:only-of-type {\n",
       "        vertical-align: middle;\n",
       "    }\n",
       "\n",
       "    .dataframe tbody tr th {\n",
       "        vertical-align: top;\n",
       "    }\n",
       "\n",
       "    .dataframe thead th {\n",
       "        text-align: right;\n",
       "    }\n",
       "</style>\n",
       "<table border=\"1\" class=\"dataframe\">\n",
       "  <thead>\n",
       "    <tr style=\"text-align: right;\">\n",
       "      <th></th>\n",
       "      <th>count</th>\n",
       "      <th>mean</th>\n",
       "      <th>std</th>\n",
       "      <th>min</th>\n",
       "      <th>25%</th>\n",
       "      <th>50%</th>\n",
       "      <th>75%</th>\n",
       "      <th>max</th>\n",
       "    </tr>\n",
       "  </thead>\n",
       "  <tbody>\n",
       "    <tr>\n",
       "      <th>Values_2</th>\n",
       "      <td>663.0</td>\n",
       "      <td>20.971323</td>\n",
       "      <td>19.621620</td>\n",
       "      <td>0.866667</td>\n",
       "      <td>10.453333</td>\n",
       "      <td>14.148889</td>\n",
       "      <td>23.519444</td>\n",
       "      <td>126.000000</td>\n",
       "    </tr>\n",
       "    <tr>\n",
       "      <th>Values_1</th>\n",
       "      <td>663.0</td>\n",
       "      <td>24.526662</td>\n",
       "      <td>20.429883</td>\n",
       "      <td>5.690000</td>\n",
       "      <td>11.218333</td>\n",
       "      <td>16.665556</td>\n",
       "      <td>29.941270</td>\n",
       "      <td>126.000000</td>\n",
       "    </tr>\n",
       "    <tr>\n",
       "      <th>change</th>\n",
       "      <td>663.0</td>\n",
       "      <td>-3.555340</td>\n",
       "      <td>26.502456</td>\n",
       "      <td>-107.935556</td>\n",
       "      <td>-11.546420</td>\n",
       "      <td>-1.694444</td>\n",
       "      <td>4.327778</td>\n",
       "      <td>113.514444</td>\n",
       "    </tr>\n",
       "    <tr>\n",
       "      <th>log_meas_1</th>\n",
       "      <td>663.0</td>\n",
       "      <td>2.948871</td>\n",
       "      <td>0.670427</td>\n",
       "      <td>1.738710</td>\n",
       "      <td>2.417549</td>\n",
       "      <td>2.813344</td>\n",
       "      <td>3.399238</td>\n",
       "      <td>4.836282</td>\n",
       "    </tr>\n",
       "    <tr>\n",
       "      <th>log_meas_2</th>\n",
       "      <td>663.0</td>\n",
       "      <td>2.793162</td>\n",
       "      <td>0.647312</td>\n",
       "      <td>-0.143101</td>\n",
       "      <td>2.346921</td>\n",
       "      <td>2.649636</td>\n",
       "      <td>3.157827</td>\n",
       "      <td>4.836282</td>\n",
       "    </tr>\n",
       "  </tbody>\n",
       "</table>\n",
       "</div>"
      ],
      "text/plain": [
       "            count       mean        std         min        25%        50%  \\\n",
       "Values_2    663.0  20.971323  19.621620    0.866667  10.453333  14.148889   \n",
       "Values_1    663.0  24.526662  20.429883    5.690000  11.218333  16.665556   \n",
       "change      663.0  -3.555340  26.502456 -107.935556 -11.546420  -1.694444   \n",
       "log_meas_1  663.0   2.948871   0.670427    1.738710   2.417549   2.813344   \n",
       "log_meas_2  663.0   2.793162   0.647312   -0.143101   2.346921   2.649636   \n",
       "\n",
       "                  75%         max  \n",
       "Values_2    23.519444  126.000000  \n",
       "Values_1    29.941270  126.000000  \n",
       "change       4.327778  113.514444  \n",
       "log_meas_1   3.399238    4.836282  \n",
       "log_meas_2   3.157827    4.836282  "
      ]
     },
     "execution_count": 56,
     "metadata": {},
     "output_type": "execute_result"
    }
   ],
   "source": [
    "df2.describe().T"
   ]
  },
  {
   "cell_type": "markdown",
   "metadata": {
    "heading_collapsed": true
   },
   "source": [
    "## plots and figures"
   ]
  },
  {
   "cell_type": "code",
   "execution_count": 57,
   "metadata": {
    "ExecuteTime": {
     "end_time": "2020-05-22T22:11:34.906007Z",
     "start_time": "2020-05-22T22:11:34.213943Z"
    },
    "hidden": true
   },
   "outputs": [
    {
     "data": {
      "image/png": "[encoded data removed]",
      "text/plain": [
       "<Figure size 432x288 with 1 Axes>"
      ]
     },
     "metadata": {
      "needs_background": "light"
     },
     "output_type": "display_data"
    }
   ],
   "source": [
    "plt.hist(a, bins=20, alpha=0.5)\n",
    "plt.hist(b, bins=20, alpha=0.5);"
   ]
  },
  {
   "cell_type": "code",
   "execution_count": 58,
   "metadata": {
    "ExecuteTime": {
     "end_time": "2020-05-22T22:11:35.371879Z",
     "start_time": "2020-05-22T22:11:34.912622Z"
    },
    "hidden": true
   },
   "outputs": [
    {
     "data": {
      "image/png": "[encoded data removed]",
      "text/plain": [
       "<Figure size 432x288 with 1 Axes>"
      ]
     },
     "metadata": {
      "needs_background": "light"
     },
     "output_type": "display_data"
    }
   ],
   "source": [
    "plt.hist(dy, bins=50);"
   ]
  },
  {
   "cell_type": "code",
   "execution_count": 59,
   "metadata": {
    "ExecuteTime": {
     "end_time": "2020-05-22T22:11:35.379050Z",
     "start_time": "2020-05-22T22:11:35.375345Z"
    },
    "hidden": true
   },
   "outputs": [],
   "source": [
    "# g = sns.jointplot(x=\"log_meas_1\", y=\"log_meas_2\", data=df2, s=3)\n",
    "# g = sns.jointplot(x=\"log_meas_1\", y=\"log_meas_2\", data=df2, kind='hex', color='k')"
   ]
  },
  {
   "cell_type": "code",
   "execution_count": 60,
   "metadata": {
    "ExecuteTime": {
     "end_time": "2020-05-22T22:11:38.418153Z",
     "start_time": "2020-05-22T22:11:35.384672Z"
    },
    "hidden": true
   },
   "outputs": [
    {
     "data": {
      "text/plain": [
       "<Figure size 252x216 with 0 Axes>"
      ]
     },
     "metadata": {},
     "output_type": "display_data"
    },
    {
     "data": {
      "image/png": "[encoded data removed]",
      "text/plain": [
       "<Figure size 432x432 with 3 Axes>"
      ]
     },
     "metadata": {
      "needs_background": "light"
     },
     "output_type": "display_data"
    }
   ],
   "source": [
    "plt.figure(figsize=(3.5,3))\n",
    "g = sns.jointplot(x=\"log_meas_1\", y=\"log_meas_2\", data=df2, kind=\"kde\", color=\"orange\")\n",
    "g.plot_joint(plt.scatter, c=\"blue\", s=30, linewidth=1, marker=\"+\", alpha=0.2)\n",
    "g.ax_joint.collections[0].set_alpha(0)\n",
    "g.set_axis_labels(f\"Log of {measure} ({stringa})\", f\"Log of {measure} ({stringb})\")\n",
    "plt.ylim(1, 5)\n",
    "plt.xlim(1, 5)\n",
    "plt.savefig(f'fig_{measure}_NP_paired.png', dpi=400)"
   ]
  },
  {
   "cell_type": "code",
   "execution_count": 61,
   "metadata": {
    "ExecuteTime": {
     "end_time": "2020-05-22T22:11:38.422359Z",
     "start_time": "2020-05-22T22:11:38.419692Z"
    },
    "hidden": true
   },
   "outputs": [],
   "source": [
    "# # Plot formatting\n",
    "# sns.distplot(df2['Values_1'],  kde=False, label='1980-1985', bins=30)\n",
    "# sns.distplot(df2['Values_2'],  kde=False, label='1990-1995', bins=30)\n",
    "# plt.legend(prop={'size': 12})\n",
    "# plt.title('Average Station SNOW Measurement\\nin the Northern Plains')\n",
    "# plt.xlabel('mm')\n",
    "# plt.xscale('log')\n",
    "# plt.ylabel('frequency')"
   ]
  },
  {
   "cell_type": "code",
   "execution_count": 62,
   "metadata": {
    "ExecuteTime": {
     "end_time": "2020-05-22T22:11:40.016332Z",
     "start_time": "2020-05-22T22:11:38.425255Z"
    },
    "hidden": true
   },
   "outputs": [
    {
     "data": {
      "image/png": "[encoded data removed]",
      "text/plain": [
       "<Figure size 252x252 with 1 Axes>"
      ]
     },
     "metadata": {
      "needs_background": "light"
     },
     "output_type": "display_data"
    }
   ],
   "source": [
    "plt.figure(figsize=(3.5,3.5))\n",
    "if measure=='SNWD':\n",
    "    plt.hist(df2['Values_1'].values, label=stringa, alpha=0.4, bins=20)#np.logspace(np.log10(10),np.log10(200), 20))\n",
    "    plt.hist(df2['Values_2'].values, label=stringb, alpha=0.4, bins=20)#np.logspace(np.log10(10),np.log10(200), 20))\n",
    "\n",
    "#     plt.hist(df2['Values_1'].values, label='1980-1985', alpha=0.4, bins=20)#np.logspace(np.log10(10),np.log10(200), 20))\n",
    "#     plt.hist(df2['Values_2'].values, label='1990-1995', alpha=0.4, bins=20)#np.logspace(np.log10(10),np.log10(200), 20))\n",
    "else:\n",
    "    plt.hist(df2['Values_1'].values, label=stringa, alpha=0.4, bins=np.logspace(np.log10(3),np.log10(100), 20))\n",
    "    plt.hist(df2['Values_2'].values, label=stringb, alpha=0.4, bins=np.logspace(np.log10(3),np.log10(100), 20))\n",
    "    plt.xscale('log')\n",
    "plt.legend(prop={'size': 12})\n",
    "plt.title(f'{measure} in the Northern Plains\\nAvg. Station Measurement')\n",
    "plt.xlabel('millimeters')\n",
    "plt.ylabel('frequency')\n",
    "# plt.show()\n",
    "plt.tight_layout()\n",
    "plt.savefig(f'fig_{measure}_NP.png', transparent=True, dpi=400)"
   ]
  },
  {
   "cell_type": "markdown",
   "metadata": {},
   "source": [
    "# SNOW/SNWD in the Southern Plains"
   ]
  },
  {
   "cell_type": "markdown",
   "metadata": {},
   "source": [
    "## compute results"
   ]
  },
  {
   "cell_type": "code",
   "execution_count": 63,
   "metadata": {
    "ExecuteTime": {
     "end_time": "2020-05-22T22:11:40.071228Z",
     "start_time": "2020-05-22T22:11:40.018412Z"
    }
   },
   "outputs": [],
   "source": [
    "# q1 = '1980 <= Year < 1985  and Values>0'\n",
    "# q2 = '1990 <= Year < 1995  and Values>0'\n",
    "df = df_raw[booS].copy()\n",
    "set1 = df.query(q1).groupby('Station')[['Station','Values', 'state']].mean()\n",
    "set2 = df.query(q2).groupby('Station')[['Station','Values', 'state']].mean()"
   ]
  },
  {
   "cell_type": "code",
   "execution_count": 64,
   "metadata": {
    "ExecuteTime": {
     "end_time": "2020-05-22T22:11:40.100825Z",
     "start_time": "2020-05-22T22:11:40.075241Z"
    }
   },
   "outputs": [],
   "source": [
    "df2 = set2.rename(columns={'Values':\"Values_2\"})\n",
    "df2['Values_1'] = set1['Values']\n",
    "df2.dropna(inplace=True)\n",
    "df2['change'] = df2['Values_2'] - df2['Values_1']\n",
    "df2['log_meas_1'] = np.log(df2['Values_1'])\n",
    "df2['log_meas_2'] = np.log(df2['Values_2'])"
   ]
  },
  {
   "cell_type": "code",
   "execution_count": 65,
   "metadata": {
    "ExecuteTime": {
     "end_time": "2020-05-22T22:11:40.111642Z",
     "start_time": "2020-05-22T22:11:40.107081Z"
    }
   },
   "outputs": [],
   "source": [
    "a = df2.Values_1\n",
    "b = df2.Values_2"
   ]
  },
  {
   "cell_type": "code",
   "execution_count": 66,
   "metadata": {
    "ExecuteTime": {
     "end_time": "2020-05-22T22:11:40.125308Z",
     "start_time": "2020-05-22T22:11:40.115662Z"
    }
   },
   "outputs": [
    {
     "name": "stdout",
     "output_type": "stream",
     "text": [
      "Number of stations considered in southern plains = 616\n",
      "measurement is SNOW.\n"
     ]
    }
   ],
   "source": [
    "assert(len(a)==len(b))\n",
    "print(f'Number of stations considered in southern plains = {len(a)}')\n",
    "print(f\"measurement is {measure}.\")"
   ]
  },
  {
   "cell_type": "code",
   "execution_count": 67,
   "metadata": {
    "ExecuteTime": {
     "end_time": "2020-05-22T22:11:40.143341Z",
     "start_time": "2020-05-22T22:11:40.128888Z"
    }
   },
   "outputs": [
    {
     "data": {
      "text/plain": [
       "WilcoxonResult(statistic=71181.0, pvalue=2.385582189800641e-07)"
      ]
     },
     "execution_count": 67,
     "metadata": {},
     "output_type": "execute_result"
    }
   ],
   "source": [
    "dy = df2['change'].values\n",
    "stats.wilcoxon(dy)"
   ]
  },
  {
   "cell_type": "code",
   "execution_count": 68,
   "metadata": {
    "ExecuteTime": {
     "end_time": "2020-05-22T22:11:40.161359Z",
     "start_time": "2020-05-22T22:11:40.149091Z"
    }
   },
   "outputs": [
    {
     "data": {
      "text/plain": [
       "WilcoxonResult(statistic=71181.0, pvalue=2.385582189800641e-07)"
      ]
     },
     "execution_count": 68,
     "metadata": {},
     "output_type": "execute_result"
    }
   ],
   "source": [
    "stats.wilcoxon(a,b)"
   ]
  },
  {
   "cell_type": "code",
   "execution_count": 69,
   "metadata": {
    "ExecuteTime": {
     "end_time": "2020-05-22T22:11:40.172853Z",
     "start_time": "2020-05-22T22:11:40.163791Z"
    }
   },
   "outputs": [
    {
     "data": {
      "text/plain": [
       "Ttest_relResult(statistic=2.5504940408082653, pvalue=0.01099822688897894)"
      ]
     },
     "execution_count": 69,
     "metadata": {},
     "output_type": "execute_result"
    }
   ],
   "source": [
    "stats.ttest_rel(a,b)"
   ]
  },
  {
   "cell_type": "code",
   "execution_count": 70,
   "metadata": {
    "ExecuteTime": {
     "end_time": "2020-05-22T22:11:40.282387Z",
     "start_time": "2020-05-22T22:11:40.184930Z"
    }
   },
   "outputs": [
    {
     "data": {
      "text/html": [
       "<div>\n",
       "<style scoped>\n",
       "    .dataframe tbody tr th:only-of-type {\n",
       "        vertical-align: middle;\n",
       "    }\n",
       "\n",
       "    .dataframe tbody tr th {\n",
       "        vertical-align: top;\n",
       "    }\n",
       "\n",
       "    .dataframe thead th {\n",
       "        text-align: right;\n",
       "    }\n",
       "</style>\n",
       "<table border=\"1\" class=\"dataframe\">\n",
       "  <thead>\n",
       "    <tr style=\"text-align: right;\">\n",
       "      <th></th>\n",
       "      <th>count</th>\n",
       "      <th>mean</th>\n",
       "      <th>std</th>\n",
       "      <th>min</th>\n",
       "      <th>25%</th>\n",
       "      <th>50%</th>\n",
       "      <th>75%</th>\n",
       "      <th>max</th>\n",
       "    </tr>\n",
       "  </thead>\n",
       "  <tbody>\n",
       "    <tr>\n",
       "      <th>Values_2</th>\n",
       "      <td>616.0</td>\n",
       "      <td>18.155986</td>\n",
       "      <td>25.210274</td>\n",
       "      <td>0.833333</td>\n",
       "      <td>3.276667</td>\n",
       "      <td>8.153889</td>\n",
       "      <td>22.185648</td>\n",
       "      <td>126.000000</td>\n",
       "    </tr>\n",
       "    <tr>\n",
       "      <th>Values_1</th>\n",
       "      <td>616.0</td>\n",
       "      <td>21.801771</td>\n",
       "      <td>23.109596</td>\n",
       "      <td>0.733333</td>\n",
       "      <td>5.941019</td>\n",
       "      <td>13.944841</td>\n",
       "      <td>31.884444</td>\n",
       "      <td>126.000000</td>\n",
       "    </tr>\n",
       "    <tr>\n",
       "      <th>change</th>\n",
       "      <td>616.0</td>\n",
       "      <td>-3.645785</td>\n",
       "      <td>35.477838</td>\n",
       "      <td>-124.605556</td>\n",
       "      <td>-19.491019</td>\n",
       "      <td>-2.132778</td>\n",
       "      <td>7.400278</td>\n",
       "      <td>124.888889</td>\n",
       "    </tr>\n",
       "    <tr>\n",
       "      <th>log_meas_1</th>\n",
       "      <td>616.0</td>\n",
       "      <td>2.523120</td>\n",
       "      <td>1.149651</td>\n",
       "      <td>-0.310155</td>\n",
       "      <td>1.781881</td>\n",
       "      <td>2.635106</td>\n",
       "      <td>3.462118</td>\n",
       "      <td>4.836282</td>\n",
       "    </tr>\n",
       "    <tr>\n",
       "      <th>log_meas_2</th>\n",
       "      <td>616.0</td>\n",
       "      <td>2.163952</td>\n",
       "      <td>1.228157</td>\n",
       "      <td>-0.182322</td>\n",
       "      <td>1.186825</td>\n",
       "      <td>2.098495</td>\n",
       "      <td>3.099445</td>\n",
       "      <td>4.836282</td>\n",
       "    </tr>\n",
       "  </tbody>\n",
       "</table>\n",
       "</div>"
      ],
      "text/plain": [
       "            count       mean        std         min        25%        50%  \\\n",
       "Values_2    616.0  18.155986  25.210274    0.833333   3.276667   8.153889   \n",
       "Values_1    616.0  21.801771  23.109596    0.733333   5.941019  13.944841   \n",
       "change      616.0  -3.645785  35.477838 -124.605556 -19.491019  -2.132778   \n",
       "log_meas_1  616.0   2.523120   1.149651   -0.310155   1.781881   2.635106   \n",
       "log_meas_2  616.0   2.163952   1.228157   -0.182322   1.186825   2.098495   \n",
       "\n",
       "                  75%         max  \n",
       "Values_2    22.185648  126.000000  \n",
       "Values_1    31.884444  126.000000  \n",
       "change       7.400278  124.888889  \n",
       "log_meas_1   3.462118    4.836282  \n",
       "log_meas_2   3.099445    4.836282  "
      ]
     },
     "execution_count": 70,
     "metadata": {},
     "output_type": "execute_result"
    }
   ],
   "source": [
    "df2.describe().T"
   ]
  },
  {
   "cell_type": "markdown",
   "metadata": {},
   "source": [
    "## plots and figures"
   ]
  },
  {
   "cell_type": "code",
   "execution_count": 71,
   "metadata": {
    "ExecuteTime": {
     "end_time": "2020-05-22T22:11:40.890773Z",
     "start_time": "2020-05-22T22:11:40.294921Z"
    }
   },
   "outputs": [
    {
     "data": {
      "image/png": "[encoded data removed]",
      "text/plain": [
       "<Figure size 432x288 with 1 Axes>"
      ]
     },
     "metadata": {
      "needs_background": "light"
     },
     "output_type": "display_data"
    }
   ],
   "source": [
    "plt.hist(a, bins=20, alpha=0.5)\n",
    "plt.hist(b, bins=20, alpha=0.5);"
   ]
  },
  {
   "cell_type": "code",
   "execution_count": 72,
   "metadata": {
    "ExecuteTime": {
     "end_time": "2020-05-22T22:11:41.332918Z",
     "start_time": "2020-05-22T22:11:40.893143Z"
    }
   },
   "outputs": [
    {
     "data": {
      "image/png": "[encoded data removed]",
      "text/plain": [
       "<Figure size 432x288 with 1 Axes>"
      ]
     },
     "metadata": {
      "needs_background": "light"
     },
     "output_type": "display_data"
    }
   ],
   "source": [
    "plt.hist(dy, bins=50);"
   ]
  },
  {
   "cell_type": "code",
   "execution_count": 73,
   "metadata": {
    "ExecuteTime": {
     "end_time": "2020-05-22T22:11:45.755869Z",
     "start_time": "2020-05-22T22:11:41.334846Z"
    }
   },
   "outputs": [
    {
     "data": {
      "text/plain": [
       "<Figure size 252x216 with 0 Axes>"
      ]
     },
     "metadata": {},
     "output_type": "display_data"
    },
    {
     "data": {
      "image/png": "[encoded data removed]",
      "text/plain": [
       "<Figure size 432x432 with 3 Axes>"
      ]
     },
     "metadata": {
      "needs_background": "light"
     },
     "output_type": "display_data"
    }
   ],
   "source": [
    "plt.figure(figsize=(3.5,3))\n",
    "g = sns.jointplot(x=\"log_meas_1\", y=\"log_meas_2\", data=df2.fillna(1), kind=\"kde\", color=\"orange\")\n",
    "g.plot_joint(plt.scatter, c=\"blue\", s=30, linewidth=1, marker=\"+\", alpha=0.2)\n",
    "g.ax_joint.collections[0].set_alpha(0)\n",
    "g.set_axis_labels(f\"Log of {measure} ({stringa})\", f\"Log of {measure} ({stringb})\")\n",
    "plt.ylim(1, 5)\n",
    "plt.xlim(1, 5)\n",
    "plt.savefig(f'fig_{measure}_SP_paired.png', dpi=400)"
   ]
  },
  {
   "cell_type": "code",
   "execution_count": 74,
   "metadata": {
    "ExecuteTime": {
     "end_time": "2020-05-22T22:11:47.373256Z",
     "start_time": "2020-05-22T22:11:45.757612Z"
    }
   },
   "outputs": [
    {
     "data": {
      "image/png": "[encoded data removed]",
      "text/plain": [
       "<Figure size 252x252 with 1 Axes>"
      ]
     },
     "metadata": {
      "needs_background": "light"
     },
     "output_type": "display_data"
    }
   ],
   "source": [
    "plt.figure(figsize=(3.5,3.5))\n",
    "if measure=='SNWD':\n",
    "    plt.hist(df2['Values_1'].values, label=stringa, alpha=0.4, bins=20)#np.logspace(np.log10(10),np.log10(200), 20))\n",
    "    plt.hist(df2['Values_2'].values, label=stringb, alpha=0.4, bins=20)#np.logspace(np.log10(10),np.log10(200), 20))\n",
    "else:\n",
    "    plt.hist(df2['Values_1'].values, label=stringa, alpha=0.4, bins=np.logspace(np.log10(3),np.log10(100), 20))\n",
    "    plt.hist(df2['Values_2'].values, label=stringb, alpha=0.4, bins=np.logspace(np.log10(3),np.log10(100), 20))\n",
    "    plt.xscale('log')\n",
    "plt.legend(prop={'size': 12})\n",
    "plt.title(f'{measure} in the Southern Plains\\nAvg. Station Measurement')\n",
    "plt.xlabel('millimeters')\n",
    "plt.ylabel('frequency')\n",
    "# plt.show()\n",
    "plt.tight_layout()\n",
    "plt.savefig(f'fig_{measure}_SP.png', transparent=True, dpi=400)"
   ]
  },
  {
   "cell_type": "markdown",
   "metadata": {},
   "source": [
    "# Now for both"
   ]
  },
  {
   "cell_type": "markdown",
   "metadata": {},
   "source": [
    "## compute results"
   ]
  },
  {
   "cell_type": "code",
   "execution_count": 75,
   "metadata": {
    "ExecuteTime": {
     "end_time": "2020-05-22T22:11:47.514049Z",
     "start_time": "2020-05-22T22:11:47.380608Z"
    }
   },
   "outputs": [],
   "source": [
    "# q1 = '1980 <= Year < 1985 and Values>0'\n",
    "# q2 = '1990 <= Year < 1995 and Values>0'\n",
    "df = df_raw.copy()\n",
    "set1 = df.query(q1).groupby('Station')[['Station','Values', 'state']].mean()\n",
    "set2 = df.query(q2).groupby('Station')[['Station','Values', 'state']].mean()"
   ]
  },
  {
   "cell_type": "code",
   "execution_count": 76,
   "metadata": {
    "ExecuteTime": {
     "end_time": "2020-05-22T22:11:47.543474Z",
     "start_time": "2020-05-22T22:11:47.516768Z"
    }
   },
   "outputs": [],
   "source": [
    "df2 = set2.rename(columns={'Values':\"Values_2\"})\n",
    "df2['Values_1'] = set1['Values']\n",
    "df2.dropna(inplace=True)\n",
    "df2['change'] = df2['Values_2'] - df2['Values_1']\n",
    "df2['log_meas_1'] = np.log(df2['Values_1'])\n",
    "df2['log_meas_2'] = np.log(df2['Values_2'])"
   ]
  },
  {
   "cell_type": "code",
   "execution_count": 77,
   "metadata": {
    "ExecuteTime": {
     "end_time": "2020-05-22T22:11:47.556752Z",
     "start_time": "2020-05-22T22:11:47.551812Z"
    }
   },
   "outputs": [],
   "source": [
    "a = df2.Values_1#Values_1 is the mean station measurement form 1980-1985\n",
    "b = df2.Values_2#Values_2 is the mean station measurement from 1990-1995"
   ]
  },
  {
   "cell_type": "code",
   "execution_count": 78,
   "metadata": {
    "ExecuteTime": {
     "end_time": "2020-05-22T22:11:47.568951Z",
     "start_time": "2020-05-22T22:11:47.560567Z"
    }
   },
   "outputs": [
    {
     "name": "stdout",
     "output_type": "stream",
     "text": [
      "Number of stations considered in the whole midwest = 1279\n",
      "measurement is SNOW.\n"
     ]
    }
   ],
   "source": [
    "assert(len(a)==len(b))\n",
    "print(f'Number of stations considered in the whole midwest = {len(a)}')\n",
    "print(f\"measurement is {measure}.\")"
   ]
  },
  {
   "cell_type": "code",
   "execution_count": 79,
   "metadata": {
    "ExecuteTime": {
     "end_time": "2020-05-22T22:11:47.584390Z",
     "start_time": "2020-05-22T22:11:47.572405Z"
    }
   },
   "outputs": [
    {
     "data": {
      "text/plain": [
       "WilcoxonResult(statistic=311703.0, pvalue=4.976607900433775e-13)"
      ]
     },
     "execution_count": 79,
     "metadata": {},
     "output_type": "execute_result"
    }
   ],
   "source": [
    "dy = df2['change'].values\n",
    "stats.wilcoxon(dy)"
   ]
  },
  {
   "cell_type": "code",
   "execution_count": 80,
   "metadata": {
    "ExecuteTime": {
     "end_time": "2020-05-22T22:11:47.640798Z",
     "start_time": "2020-05-22T22:11:47.602759Z"
    }
   },
   "outputs": [
    {
     "data": {
      "text/plain": [
       "WilcoxonResult(statistic=311703.0, pvalue=4.976607900433775e-13)"
      ]
     },
     "execution_count": 80,
     "metadata": {},
     "output_type": "execute_result"
    }
   ],
   "source": [
    "stats.wilcoxon(a,b)"
   ]
  },
  {
   "cell_type": "code",
   "execution_count": 81,
   "metadata": {
    "ExecuteTime": {
     "end_time": "2020-05-22T22:11:47.699311Z",
     "start_time": "2020-05-22T22:11:47.643395Z"
    }
   },
   "outputs": [
    {
     "data": {
      "text/plain": [
       "Ttest_relResult(statistic=4.1335536748893364, pvalue=3.804673646256632e-05)"
      ]
     },
     "execution_count": 81,
     "metadata": {},
     "output_type": "execute_result"
    }
   ],
   "source": [
    "stats.ttest_rel(a,b)"
   ]
  },
  {
   "cell_type": "code",
   "execution_count": 82,
   "metadata": {
    "ExecuteTime": {
     "end_time": "2020-05-22T22:11:47.901982Z",
     "start_time": "2020-05-22T22:11:47.704673Z"
    }
   },
   "outputs": [
    {
     "data": {
      "text/html": [
       "<div>\n",
       "<style scoped>\n",
       "    .dataframe tbody tr th:only-of-type {\n",
       "        vertical-align: middle;\n",
       "    }\n",
       "\n",
       "    .dataframe tbody tr th {\n",
       "        vertical-align: top;\n",
       "    }\n",
       "\n",
       "    .dataframe thead th {\n",
       "        text-align: right;\n",
       "    }\n",
       "</style>\n",
       "<table border=\"1\" class=\"dataframe\">\n",
       "  <thead>\n",
       "    <tr style=\"text-align: right;\">\n",
       "      <th></th>\n",
       "      <th>count</th>\n",
       "      <th>mean</th>\n",
       "      <th>std</th>\n",
       "      <th>min</th>\n",
       "      <th>25%</th>\n",
       "      <th>50%</th>\n",
       "      <th>75%</th>\n",
       "      <th>max</th>\n",
       "    </tr>\n",
       "  </thead>\n",
       "  <tbody>\n",
       "    <tr>\n",
       "      <th>Values_2</th>\n",
       "      <td>1279.0</td>\n",
       "      <td>19.615383</td>\n",
       "      <td>22.522365</td>\n",
       "      <td>0.833333</td>\n",
       "      <td>7.247778</td>\n",
       "      <td>12.421111</td>\n",
       "      <td>22.470833</td>\n",
       "      <td>126.000000</td>\n",
       "    </tr>\n",
       "    <tr>\n",
       "      <th>Values_1</th>\n",
       "      <td>1279.0</td>\n",
       "      <td>23.214283</td>\n",
       "      <td>21.795741</td>\n",
       "      <td>0.733333</td>\n",
       "      <td>8.947778</td>\n",
       "      <td>15.777778</td>\n",
       "      <td>30.790062</td>\n",
       "      <td>126.000000</td>\n",
       "    </tr>\n",
       "    <tr>\n",
       "      <th>change</th>\n",
       "      <td>1279.0</td>\n",
       "      <td>-3.598901</td>\n",
       "      <td>31.137343</td>\n",
       "      <td>-124.605556</td>\n",
       "      <td>-15.868333</td>\n",
       "      <td>-1.952222</td>\n",
       "      <td>5.281349</td>\n",
       "      <td>124.888889</td>\n",
       "    </tr>\n",
       "    <tr>\n",
       "      <th>log_meas_1</th>\n",
       "      <td>1279.0</td>\n",
       "      <td>2.743818</td>\n",
       "      <td>0.956109</td>\n",
       "      <td>-0.310155</td>\n",
       "      <td>2.191405</td>\n",
       "      <td>2.758602</td>\n",
       "      <td>3.427189</td>\n",
       "      <td>4.836282</td>\n",
       "    </tr>\n",
       "    <tr>\n",
       "      <th>log_meas_2</th>\n",
       "      <td>1279.0</td>\n",
       "      <td>2.490118</td>\n",
       "      <td>1.020699</td>\n",
       "      <td>-0.182322</td>\n",
       "      <td>1.980692</td>\n",
       "      <td>2.519398</td>\n",
       "      <td>3.112218</td>\n",
       "      <td>4.836282</td>\n",
       "    </tr>\n",
       "  </tbody>\n",
       "</table>\n",
       "</div>"
      ],
      "text/plain": [
       "             count       mean        std         min        25%        50%  \\\n",
       "Values_2    1279.0  19.615383  22.522365    0.833333   7.247778  12.421111   \n",
       "Values_1    1279.0  23.214283  21.795741    0.733333   8.947778  15.777778   \n",
       "change      1279.0  -3.598901  31.137343 -124.605556 -15.868333  -1.952222   \n",
       "log_meas_1  1279.0   2.743818   0.956109   -0.310155   2.191405   2.758602   \n",
       "log_meas_2  1279.0   2.490118   1.020699   -0.182322   1.980692   2.519398   \n",
       "\n",
       "                  75%         max  \n",
       "Values_2    22.470833  126.000000  \n",
       "Values_1    30.790062  126.000000  \n",
       "change       5.281349  124.888889  \n",
       "log_meas_1   3.427189    4.836282  \n",
       "log_meas_2   3.112218    4.836282  "
      ]
     },
     "execution_count": 82,
     "metadata": {},
     "output_type": "execute_result"
    }
   ],
   "source": [
    "\n",
    "df2.describe().T"
   ]
  },
  {
   "cell_type": "markdown",
   "metadata": {},
   "source": [
    "## plots and figures"
   ]
  },
  {
   "cell_type": "code",
   "execution_count": 83,
   "metadata": {
    "ExecuteTime": {
     "end_time": "2020-05-22T22:11:48.470007Z",
     "start_time": "2020-05-22T22:11:47.908045Z"
    }
   },
   "outputs": [
    {
     "data": {
      "image/png": "[encoded data removed]",
      "text/plain": [
       "<Figure size 432x288 with 1 Axes>"
      ]
     },
     "metadata": {
      "needs_background": "light"
     },
     "output_type": "display_data"
    }
   ],
   "source": [
    "plt.hist(a, bins=20, alpha=0.5)\n",
    "plt.hist(b, bins=20, alpha=0.5);"
   ]
  },
  {
   "cell_type": "code",
   "execution_count": 84,
   "metadata": {
    "ExecuteTime": {
     "end_time": "2020-05-22T22:11:49.111144Z",
     "start_time": "2020-05-22T22:11:48.472932Z"
    }
   },
   "outputs": [
    {
     "data": {
      "image/png": "[encoded data removed]",
      "text/plain": [
       "<Figure size 432x288 with 1 Axes>"
      ]
     },
     "metadata": {
      "needs_background": "light"
     },
     "output_type": "display_data"
    }
   ],
   "source": [
    "plt.hist(dy, bins=50);\n",
    "# dy_snwd = dy\n",
    "dy_snow = dy"
   ]
  },
  {
   "cell_type": "code",
   "execution_count": 85,
   "metadata": {
    "ExecuteTime": {
     "end_time": "2020-05-22T22:11:54.586981Z",
     "start_time": "2020-05-22T22:11:49.116423Z"
    }
   },
   "outputs": [
    {
     "data": {
      "text/plain": [
       "<Figure size 252x216 with 0 Axes>"
      ]
     },
     "metadata": {},
     "output_type": "display_data"
    },
    {
     "data": {
      "image/png": "[encoded data removed]",
      "text/plain": [
       "<Figure size 432x432 with 3 Axes>"
      ]
     },
     "metadata": {
      "needs_background": "light"
     },
     "output_type": "display_data"
    }
   ],
   "source": [
    "plt.figure(figsize=(3.5,3))\n",
    "g = sns.jointplot(x=\"log_meas_1\", y=\"log_meas_2\", data=df2, kind=\"kde\", color=\"orange\")\n",
    "g.plot_joint(plt.scatter, c=\"blue\", s=30, linewidth=1, marker=\"+\", alpha=0.2)\n",
    "g.ax_joint.collections[0].set_alpha(0)\n",
    "g.set_axis_labels(f\"Log of {measure} ({stringa})\", f\"Log of {measure} ({stringb})\")\n",
    "plt.ylim(1, 5)\n",
    "plt.xlim(1, 5)\n",
    "plt.savefig(f'fig_{measure}_all_paired.png', dpi=400)"
   ]
  },
  {
   "cell_type": "code",
   "execution_count": 86,
   "metadata": {
    "ExecuteTime": {
     "end_time": "2020-05-22T22:11:56.497093Z",
     "start_time": "2020-05-22T22:11:54.589107Z"
    }
   },
   "outputs": [
    {
     "data": {
      "image/png": "[encoded data removed]",
      "text/plain": [
       "<Figure size 252x252 with 1 Axes>"
      ]
     },
     "metadata": {
      "needs_background": "light"
     },
     "output_type": "display_data"
    }
   ],
   "source": [
    "plt.figure(figsize=(3.5,3.5))\n",
    "if measure=='SNWD':\n",
    "    plt.hist(df2['Values_1'].values, label=stringa, alpha=0.4, bins=20)#np.logspace(np.log10(10),np.log10(200), 20))\n",
    "    plt.hist(df2['Values_2'].values, label=stringb, alpha=0.4, bins=20)#np.logspace(np.log10(10),np.log10(200), 20))\n",
    "else:\n",
    "    plt.hist(df2['Values_1'].values, label=stringa, alpha=0.4, bins=np.logspace(np.log10(3),np.log10(100), 20))\n",
    "    plt.hist(df2['Values_2'].values, label=stringb, alpha=0.4, bins=np.logspace(np.log10(3),np.log10(100), 20))\n",
    "    plt.xscale('log')\n",
    "plt.legend(prop={'size': 12})\n",
    "plt.title(f'{measure} in the Midwestern USA\\nAvg. Station Measurement')\n",
    "plt.xlabel('millimeters')\n",
    "plt.ylabel('frequency')\n",
    "# plt.show()\n",
    "plt.tight_layout()\n",
    "plt.savefig(f'fig_{measure}_all.png', transparent=True, dpi=400)"
   ]
  },
  {
   "cell_type": "code",
   "execution_count": 87,
   "metadata": {
    "ExecuteTime": {
     "end_time": "2020-05-22T22:11:56.609137Z",
     "start_time": "2020-05-22T22:11:56.506919Z"
    }
   },
   "outputs": [
    {
     "name": "stdout",
     "output_type": "stream",
     "text": [
      "json    2.0.9\n",
      "seaborn 0.9.0\n",
      "numpy   1.16.4\n",
      "pandas  0.24.2\n",
      "Fri May 22 2020 15:11:56 \n",
      "\n",
      "compiler   : Clang 11.0.0 (clang-1100.0.33.17)\n",
      "system     : Darwin\n",
      "release    : 18.7.0\n",
      "machine    : x86_64\n",
      "processor  : i386\n",
      "CPU cores  : 8\n",
      "interpreter: 64bit\n",
      "host name  : MacBook-Pro-189.local\n",
      "Git repo   : https://github.com/timtyree/dsc291team4.git\n"
     ]
    }
   ],
   "source": [
    "%watermark -iv -h -r -m -n -t"
   ]
  },
  {
   "cell_type": "markdown",
   "metadata": {},
   "source": [
    "# histogram plot for change in both measurement types"
   ]
  },
  {
   "cell_type": "code",
   "execution_count": 88,
   "metadata": {
    "ExecuteTime": {
     "end_time": "2020-05-22T22:11:56.629883Z",
     "start_time": "2020-05-22T22:11:56.620550Z"
    }
   },
   "outputs": [],
   "source": [
    "# np.savetxt('changes_1980-1985_1990-1995.txt',)"
   ]
  },
  {
   "cell_type": "code",
   "execution_count": 89,
   "metadata": {
    "ExecuteTime": {
     "end_time": "2020-05-22T22:11:56.646670Z",
     "start_time": "2020-05-22T22:11:56.636114Z"
    }
   },
   "outputs": [],
   "source": [
    "# import pickle \n",
    "\n",
    "# # open a file, where you ant to store the data\n",
    "# file = open('snowfall_changes_from_1980-1985_to_1990-1995_all_states.pkl', 'wb')\n",
    "# data =  {'change_snwd':dy_snwd,'change_snow':dy_snow}\n",
    "# # dump information to that file\n",
    "# pickle.dump(data, file)\n",
    "\n",
    "# # close the file\n",
    "# file.close()"
   ]
  },
  {
   "cell_type": "code",
   "execution_count": 90,
   "metadata": {
    "ExecuteTime": {
     "end_time": "2020-05-22T22:11:56.660566Z",
     "start_time": "2020-05-22T22:11:56.651619Z"
    }
   },
   "outputs": [],
   "source": [
    "# df_snow = df2.copy()\n",
    "# df_snwd = df2.copy()"
   ]
  },
  {
   "cell_type": "code",
   "execution_count": 91,
   "metadata": {
    "ExecuteTime": {
     "end_time": "2020-05-22T22:11:56.678811Z",
     "start_time": "2020-05-22T22:11:56.668740Z"
    }
   },
   "outputs": [],
   "source": [
    "# df_out = df_snow[['Values_2', 'Values_1', 'change']].rename(\n",
    "#     columns={'Values_2':'snow_1980s', \n",
    "#              'Values_1':'snow_1990s',\n",
    "#          []=====    'change':'change_snow'}).copy()\n",
    "# df_out['snwd_1980s'] = df_snwd['Values_1']\n",
    "# df_out['snwd_1990s'] = df_snwd['Values_2']\n",
    "# df_out['change_snwd'] = df_snwd['change']\n",
    "# df_out.to_csv('snowfall_changes_1980-1985_1990-1995.csv')"
   ]
  },
  {
   "cell_type": "code",
   "execution_count": 92,
   "metadata": {
    "ExecuteTime": {
     "end_time": "2020-05-22T22:11:56.694154Z",
     "start_time": "2020-05-22T22:11:56.684968Z"
    }
   },
   "outputs": [],
   "source": [
    "# plt.figure(figsize=(3.5,3.5))\n",
    "# plt.hist(df_out.dropna()['change_snwd'].values, label='SNWD', alpha=0.4, bins=20)#np.logspace(np.log10(3),np.log10(100), 20))\n",
    "# plt.hist(df_out.dropna()['change_snow'].values, label='SNOW', alpha=0.4, bins=20)#np.logspace(np.log10(3),np.log10(100), 20))\n",
    "# plt.yscale('log')\n",
    "# plt.legend(prop={'size': 12})\n",
    "# plt.title(f'Change in Avg. Station Meas.\\nin the Midwestern USA')\n",
    "# plt.xlabel('millimeters')\n",
    "# plt.ylabel('frequency')\n",
    "# # plt.show()\n",
    "# plt.tight_layout()\n",
    "# plt.show\n",
    "# plt.savefig(f'fig_changes_all.png', transparent=True, dpi=400)\n"
   ]
  },
  {
   "cell_type": "code",
   "execution_count": null,
   "metadata": {
    "ExecuteTime": {
     "end_time": "2020-05-21T20:54:50.500946Z",
     "start_time": "2020-05-21T20:54:50.484652Z"
    }
   },
   "outputs": [],
   "source": []
  },
  {
   "cell_type": "code",
   "execution_count": null,
   "metadata": {},
   "outputs": [],
   "source": []
  }
 ],
 "metadata": {
  "kernelspec": {
   "display_name": "Python 3",
   "language": "python",
   "name": "python3"
  },
  "language_info": {
   "codemirror_mode": {
    "name": "ipython",
    "version": 3
   },
   "file_extension": ".py",
   "mimetype": "text/x-python",
   "name": "python",
   "nbconvert_exporter": "python",
   "pygments_lexer": "ipython3",
   "version": "3.7.7"
  },
  "varInspector": {
   "cols": {
    "lenName": 16,
    "lenType": 16,
    "lenVar": 40
   },
   "kernels_config": {
    "python": {
     "delete_cmd_postfix": "",
     "delete_cmd_prefix": "del ",
     "library": "var_list.py",
     "varRefreshCmd": "print(var_dic_list())"
    },
    "r": {
     "delete_cmd_postfix": ") ",
     "delete_cmd_prefix": "rm(",
     "library": "var_list.r",
     "varRefreshCmd": "cat(var_dic_list()) "
    }
   },
   "types_to_exclude": [
    "module",
    "function",
    "builtin_function_or_method",
    "instance",
    "_Feature"
   ],
   "window_display": false
  }
 },
 "nbformat": 4,
 "nbformat_minor": 4
}
